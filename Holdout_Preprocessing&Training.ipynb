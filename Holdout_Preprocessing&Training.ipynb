{
 "cells": [
  {
   "cell_type": "code",
   "execution_count": 1,
   "id": "c436cbb5",
   "metadata": {},
   "outputs": [],
   "source": [
    "# Importing the required packages\n",
    "import os, shutil\n",
    "import keras\n",
    "from keras.preprocessing.image import ImageDataGenerator\n",
    "import math\n",
    "import numpy as np\n",
    "import matplotlib.pyplot as plt\n",
    "from sklearn.metrics import classification_report\n",
    "from tensorflow.keras import layers, models, optimizers\n",
    "from keras.callbacks import EarlyStopping"
   ]
  },
  {
   "cell_type": "code",
   "execution_count": 2,
   "id": "86807ce7",
   "metadata": {},
   "outputs": [
    {
     "data": {
      "text/plain": [
       "'C:\\\\Users\\\\anton\\\\Desktop\\\\ProjetoDeepLearningFinalFinal'"
      ]
     },
     "execution_count": 2,
     "metadata": {},
     "output_type": "execute_result"
    }
   ],
   "source": [
    "# Getting the current working directory\n",
    "directory = os.getcwd()\n",
    "directory"
   ]
  },
  {
   "cell_type": "code",
   "execution_count": 3,
   "id": "11524f3a",
   "metadata": {},
   "outputs": [],
   "source": [
    "# The directory where the original dataset is stored\n",
    "dataset_directory = directory+'\\\\Dataset'\n",
    "# The directory where the original Fully Covered photos are stored\n",
    "fully_directory = dataset_directory+'\\\\fully_covered'\n",
    "# The directory where the original Not Covered photos are stored\n",
    "not_directory = dataset_directory+'\\\\not_covered'\n",
    "# The directory where the original Not Face photos are stored\n",
    "not_face_directory = dataset_directory+'\\\\not_face'\n",
    "# The directory where the original Partially Covered photos are stored\n",
    "partially_directory = dataset_directory+'\\\\partially_covered'\n",
    "# The directory where the split dataset will be stored\n",
    "split_directory = directory+'\\\\Split_Dataset'\n",
    "# The directory where the Train data will be stored\n",
    "train_directory = split_directory+'\\\\Train'\n",
    "# The directory where the Validation data will be stored\n",
    "validation_directory = split_directory+'\\\\Validation'\n",
    "# The directory where the Test data will be stored\n",
    "test_directory = split_directory+'\\\\Test'\n",
    "# The directory where the Fully Covered photos for training will be stored\n",
    "fully_train_directory = train_directory+'\\\\fully_covered'\n",
    "# The directory where the Not Covered photos for training will be stored\n",
    "not_train_directory = train_directory+'\\\\not_covered'\n",
    "# The directory where the Not Face photos for training will be stored\n",
    "not_face_train_directory = train_directory+'\\\\not_face'\n",
    "# The directory where the Partially Covered photos for training will be stored\n",
    "partially_train_directory = train_directory+'\\\\partially_covered'\n",
    "# The directory where the Fully Covered photos for validation will be stored\n",
    "fully_validation_directory = validation_directory+'\\\\fully_covered'\n",
    "# The directory where the Not Covered photos for validation will be stored\n",
    "not_validation_directory = validation_directory+'\\\\not_covered'\n",
    "# The directory where the Not Face photos for validation will be stored\n",
    "not_face_validation_directory = validation_directory+'\\\\not_face'\n",
    "# The directory where the Partially Covered photos for validation will be stored\n",
    "partially_validation_directory = validation_directory+'\\\\partially_covered'\n",
    "# The directory where the Fully Covered photos for testing will be stored\n",
    "fully_test_directory = test_directory+'\\\\fully_covered'\n",
    "# The directory where the Not Covered photos for testing will be stored\n",
    "not_test_directory = test_directory+'\\\\not_covered'\n",
    "# The directory where the Not Face photos for testing will be stored\n",
    "not_face_test_directory = test_directory+'\\\\not_face'\n",
    "# The directory where the Partially Covered photos for testing will be stored\n",
    "partially_test_directory = test_directory+'\\\\partially_covered'\n",
    "# List with all the directories that we need to create\n",
    "directories = [split_directory,train_directory,validation_directory,test_directory,\n",
    "              fully_train_directory,not_train_directory,not_face_train_directory,partially_train_directory,\n",
    "              fully_validation_directory,not_validation_directory,not_face_validation_directory,partially_validation_directory,\n",
    "              fully_test_directory,not_test_directory,not_face_test_directory,partially_test_directory]"
   ]
  },
  {
   "cell_type": "code",
   "execution_count": 4,
   "id": "a39161f4",
   "metadata": {},
   "outputs": [],
   "source": [
    "# (only run the 1st time running the notebook)\n",
    "\n",
    "# Loop to create all the directories\n",
    "for i in range(len(directories)):\n",
    "    os.mkdir(directories[i])"
   ]
  },
  {
   "cell_type": "code",
   "execution_count": 5,
   "id": "bf3f186d",
   "metadata": {},
   "outputs": [],
   "source": [
    "# (only run the 1st time running the notebook)\n",
    "\n",
    "# 80% / 10% / 10% split of the photos\n",
    "\n",
    "# 0.8 * 1451 = 1161 Fully Covered photos\n",
    "# 0.1 * 1451 = 145 Fully Covered photos   \n",
    "# Adding the Fully Covered photos to the corresponding directories    \n",
    "for i in range(len(os.listdir(fully_directory))):\n",
    "    if i < 1161:\n",
    "        source = fully_directory+'\\\\'+os.listdir(fully_directory)[i]\n",
    "        destiny = fully_train_directory+'\\\\'+os.listdir(fully_directory)[i]\n",
    "        shutil.copyfile(source,destiny)\n",
    "    elif i < 1306:\n",
    "        source = fully_directory+'\\\\'+os.listdir(fully_directory)[i]\n",
    "        destiny = fully_validation_directory+'\\\\'+os.listdir(fully_directory)[i]\n",
    "        shutil.copyfile(source,destiny)\n",
    "    elif i < 1451:\n",
    "        source = fully_directory+'\\\\'+os.listdir(fully_directory)[i]\n",
    "        destiny = fully_test_directory+'\\\\'+os.listdir(fully_directory)[i]\n",
    "        shutil.copyfile(source,destiny)\n",
    "\n",
    "# 0.8 * 3664 = 2931 Not Covered photos\n",
    "# 0.1 * 3664 = 366 Not Covered photos (367 for validation, 366 for test)\n",
    "# Adding the Not Covered photos to the corresponding directories\n",
    "for i in range(len(os.listdir(not_directory))):\n",
    "    if i < 2931:\n",
    "        source = not_directory+'\\\\'+os.listdir(not_directory)[i]\n",
    "        destiny = not_train_directory+'\\\\'+os.listdir(not_directory)[i]\n",
    "        shutil.copyfile(source,destiny)\n",
    "    elif i < 3298:\n",
    "        source = not_directory+'\\\\'+os.listdir(not_directory)[i]\n",
    "        destiny = not_validation_directory+'\\\\'+os.listdir(not_directory)[i]\n",
    "        shutil.copyfile(source,destiny)\n",
    "    elif i < 3664:\n",
    "        source = not_directory+'\\\\'+os.listdir(not_directory)[i]\n",
    "        destiny = not_test_directory+'\\\\'+os.listdir(not_directory)[i]\n",
    "        shutil.copyfile(source,destiny)\n",
    "\n",
    "# 0.8 * 1114 = 891 Not Face photos\n",
    "# 0.1 * 1114 = 111 Not Face photos (112 for validation, 111 for test)\n",
    "# Adding the Not Face photos to the corresponding directories\n",
    "for i in range(len(os.listdir(not_face_directory))):\n",
    "    if i < 891:\n",
    "        source = not_face_directory+'\\\\'+os.listdir(not_face_directory)[i]\n",
    "        destiny = not_face_train_directory+'\\\\'+os.listdir(not_face_directory)[i]\n",
    "        shutil.copyfile(source,destiny)\n",
    "    elif i < 1003:\n",
    "        source = not_face_directory+'\\\\'+os.listdir(not_face_directory)[i]\n",
    "        destiny = not_face_validation_directory+'\\\\'+os.listdir(not_face_directory)[i]\n",
    "        shutil.copyfile(source,destiny)\n",
    "    elif i < 1114:\n",
    "        source = not_face_directory+'\\\\'+os.listdir(not_face_directory)[i]\n",
    "        destiny = not_face_test_directory+'\\\\'+os.listdir(not_face_directory)[i]\n",
    "        shutil.copyfile(source,destiny)\n",
    "        \n",
    "# 0.8 * 392 = 314 Partially Covered photos\n",
    "# 0.1 * 392 = 39 Partially Covered photos\n",
    "# Adding the Partially Covered photos to the corresponding directories\n",
    "for i in range(len(os.listdir(partially_directory))):\n",
    "    if i < 314:\n",
    "        source = partially_directory+'\\\\'+os.listdir(partially_directory)[i]\n",
    "        destiny = partially_train_directory+'\\\\'+os.listdir(partially_directory)[i]\n",
    "        shutil.copyfile(source,destiny)\n",
    "    elif i < 353:\n",
    "        source = partially_directory+'\\\\'+os.listdir(partially_directory)[i]\n",
    "        destiny = partially_validation_directory+'\\\\'+os.listdir(partially_directory)[i]\n",
    "        shutil.copyfile(source,destiny)\n",
    "    elif i < 392:\n",
    "        source = partially_directory+'\\\\'+os.listdir(partially_directory)[i]\n",
    "        destiny = partially_test_directory+'\\\\'+os.listdir(partially_directory)[i]\n",
    "        shutil.copyfile(source,destiny)"
   ]
  },
  {
   "cell_type": "code",
   "execution_count": 6,
   "id": "722c25ed",
   "metadata": {},
   "outputs": [],
   "source": [
    "# Defining a function that will display the curves of loss and accuracy during training \n",
    "#(same code from slide 101, 'CNNs_TF2') \n",
    "\n",
    "def training_plots(history):\n",
    "    acc= history.history['categorical_accuracy']\n",
    "    val_acc= history.history['val_categorical_accuracy']\n",
    "    loss= history.history['loss']\n",
    "    val_loss=history.history['val_loss']\n",
    "    epochs= range(1, len(acc)+1)\n",
    "\n",
    "    plt.plot(epochs, acc, 'bo', label= 'Training acc')\n",
    "    plt.plot(epochs, val_acc, 'b', label= 'Validation acc')\n",
    "    plt.title('Training and validation accuracy')\n",
    "    plt.legend()\n",
    "\n",
    "    plt.figure()\n",
    "\n",
    "    plt.plot(epochs, loss, 'bo', label= 'Training loss')\n",
    "    plt.plot(epochs, val_loss, 'b', label= 'Validation loss')\n",
    "    plt.title('Training and validation loss')\n",
    "    plt.legend()\n",
    "\n",
    "    plt.show()"
   ]
  },
  {
   "cell_type": "code",
   "execution_count": 7,
   "id": "4df350bb",
   "metadata": {},
   "outputs": [],
   "source": [
    "# We will create several models\n",
    "# Each model will have several convolutional layers (after each one, we will have a max pooling layer)\n",
    "# After the convolutional layers, we will have a flatten layer\n",
    "# After the flatten layer, we will have several dense layers (the last one will have 4 neurons)\n",
    "# The activation function will be 'relu' for all layers, except the last one, which will be 'softmax'\n",
    "# We will train each model for different image sizes and batch sizes (20, 32 and 64)"
   ]
  },
  {
   "cell_type": "code",
   "execution_count": 8,
   "id": "9e422995",
   "metadata": {},
   "outputs": [],
   "source": [
    "# Rescalling the pixel values (between 0 and 255) to the [0,1] interval\n",
    "train_datagen = ImageDataGenerator(rescale=1./255)\n",
    "validation_datagen = ImageDataGenerator(rescale=1./255)\n",
    "test_datagen = ImageDataGenerator(rescale=1./255)"
   ]
  },
  {
   "cell_type": "code",
   "execution_count": 9,
   "id": "87310740",
   "metadata": {},
   "outputs": [
    {
     "name": "stdout",
     "output_type": "stream",
     "text": [
      "Found 5297 images belonging to 4 classes.\n",
      "Found 5297 images belonging to 4 classes.\n",
      "Found 5297 images belonging to 4 classes.\n",
      "Found 5297 images belonging to 4 classes.\n",
      "Found 5297 images belonging to 4 classes.\n",
      "Found 5297 images belonging to 4 classes.\n",
      "Found 5297 images belonging to 4 classes.\n",
      "Found 5297 images belonging to 4 classes.\n",
      "Found 5297 images belonging to 4 classes.\n",
      "Found 5297 images belonging to 4 classes.\n",
      "Found 663 images belonging to 4 classes.\n",
      "Found 663 images belonging to 4 classes.\n",
      "Found 663 images belonging to 4 classes.\n",
      "Found 663 images belonging to 4 classes.\n",
      "Found 663 images belonging to 4 classes.\n",
      "Found 663 images belonging to 4 classes.\n",
      "Found 663 images belonging to 4 classes.\n",
      "Found 663 images belonging to 4 classes.\n",
      "Found 663 images belonging to 4 classes.\n",
      "Found 663 images belonging to 4 classes.\n"
     ]
    }
   ],
   "source": [
    "# The generator yields batches of 64x64 RBG images (shape (20,64,64,3)) and binary labels (shape(20))\n",
    "train_generator64_20 = train_datagen.flow_from_directory(\n",
    "    train_directory,\n",
    "    target_size = (64,64),\n",
    "    batch_size = 20,\n",
    "    class_mode = 'categorical'\n",
    ")\n",
    "# The generator yields batches of 64x64 RBG images (shape (32,64,64,3)) and binary labels (shape(32))\n",
    "train_generator64_32 = train_datagen.flow_from_directory(\n",
    "    train_directory,\n",
    "    target_size = (64,64),\n",
    "    batch_size = 32,\n",
    "    class_mode = 'categorical'\n",
    ")\n",
    "# The generator yields batches of 64x64 RBG images (shape (64,64,64,3)) and binary labels (shape(64))\n",
    "train_generator64_64 = train_datagen.flow_from_directory(\n",
    "    train_directory,\n",
    "    target_size = (64,64),\n",
    "    batch_size = 64,\n",
    "    class_mode = 'categorical'\n",
    ")\n",
    "\n",
    "# The generator yields batches of 128x128 RBG images (shape (20,128,128,3)) and binary labels (shape(20))\n",
    "train_generator128_20 = train_datagen.flow_from_directory(\n",
    "    train_directory,\n",
    "    target_size = (128,128),\n",
    "    batch_size = 20,\n",
    "    class_mode = 'categorical'\n",
    ")\n",
    "# The generator yields batches of 128x128 RBG images (shape (32,128,128,3)) and binary labels (shape(32))\n",
    "train_generator128_32 = train_datagen.flow_from_directory(\n",
    "    train_directory,\n",
    "    target_size = (128,128),\n",
    "    batch_size = 32,\n",
    "    class_mode = 'categorical'\n",
    ")\n",
    "# The generator yields batches of 128x128 RBG images (shape (64,128,128,3)) and binary labels (shape(64))\n",
    "train_generator128_64 = train_datagen.flow_from_directory(\n",
    "    train_directory,\n",
    "    target_size = (128,128),\n",
    "    batch_size = 64,\n",
    "    class_mode = 'categorical'\n",
    ")\n",
    "\n",
    "# The generator yields batches of 150x150 RBG images (shape (20,150,150,3)) and binary labels (shape(20))\n",
    "train_generator150_20 = train_datagen.flow_from_directory(\n",
    "    train_directory,\n",
    "    target_size = (150,150),\n",
    "    batch_size = 20,\n",
    "    class_mode = 'categorical'\n",
    ")\n",
    "# The generator yields batches of 150x150 RBG images (shape (32,150,150,3)) and binary labels (shape(32))\n",
    "train_generator150_32 = train_datagen.flow_from_directory(\n",
    "    train_directory,\n",
    "    target_size = (150,150),\n",
    "    batch_size = 32,\n",
    "    class_mode = 'categorical'\n",
    ")\n",
    "# The generator yields batches of 150x150 RBG images (shape (64,150,150,3)) and binary labels (shape(64))\n",
    "train_generator150_64 = train_datagen.flow_from_directory(\n",
    "    train_directory,\n",
    "    target_size = (150,150),\n",
    "    batch_size = 64,\n",
    "    class_mode = 'categorical'\n",
    ")\n",
    "\n",
    "# The generator yields batches of 227x227 RBG images (shape (64,227,227,3)) and binary labels (shape(64)) --> AlexNet\n",
    "train_generator_alex_net = train_datagen.flow_from_directory(\n",
    "    train_directory,\n",
    "    target_size = (227,227),\n",
    "    batch_size = 64,\n",
    "    class_mode = 'categorical'\n",
    ")\n",
    "\n",
    "# The generator yields batches of 64x64 RBG images (shape (20,64,64,3)) and binary labels (shape(20))\n",
    "validation_generator64_20 = validation_datagen.flow_from_directory(\n",
    "    validation_directory,\n",
    "    target_size = (64,64),\n",
    "    batch_size = 20,\n",
    "    class_mode = 'categorical'\n",
    ")\n",
    "# The generator yields batches of 64x64 RBG images (shape (32,64,64,3)) and binary labels (shape(32))\n",
    "validation_generator64_32 = validation_datagen.flow_from_directory(\n",
    "    validation_directory,\n",
    "    target_size = (64,64),\n",
    "    batch_size = 32,\n",
    "    class_mode = 'categorical'\n",
    ")\n",
    "# The generator yields batches of 64x64 RBG images (shape (64,64,64,3)) and binary labels (shape(64))\n",
    "validation_generator64_64 = validation_datagen.flow_from_directory(\n",
    "    validation_directory,\n",
    "    target_size = (64,64),\n",
    "    batch_size = 64,\n",
    "    class_mode = 'categorical'\n",
    ")\n",
    "\n",
    "# The generator yields batches of 128x128 RBG images (shape (20,128,128,3)) and binary labels (shape(20))\n",
    "validation_generator128_20 = validation_datagen.flow_from_directory(\n",
    "    validation_directory,\n",
    "    target_size = (128,128),\n",
    "    batch_size = 20,\n",
    "    class_mode = 'categorical'\n",
    ")\n",
    "# The generator yields batches of 128x128 RBG images (shape (32,128,128,3)) and binary labels (shape(32))\n",
    "validation_generator128_32 = validation_datagen.flow_from_directory(\n",
    "    validation_directory,\n",
    "    target_size = (128,128),\n",
    "    batch_size = 32,\n",
    "    class_mode = 'categorical'\n",
    ")\n",
    "# The generator yields batches of 128x128 RBG images (shape (64,128,128,3)) and binary labels (shape(64))\n",
    "validation_generator128_64 = validation_datagen.flow_from_directory(\n",
    "    validation_directory,\n",
    "    target_size = (128,128),\n",
    "    batch_size = 64,\n",
    "    class_mode = 'categorical'\n",
    ")\n",
    "\n",
    "# The generator yields batches of 150x150 RBG images (shape (20,150,150,3)) and binary labels (shape(20))\n",
    "validation_generator150_20 = validation_datagen.flow_from_directory(\n",
    "    validation_directory,\n",
    "    target_size = (150,150),\n",
    "    batch_size = 20,\n",
    "    class_mode = 'categorical'\n",
    ")\n",
    "# The generator yields batches of 150x150 RBG images (shape (32,150,150,3)) and binary labels (shape(32))\n",
    "validation_generator150_32 = validation_datagen.flow_from_directory(\n",
    "    validation_directory,\n",
    "    target_size = (150,150),\n",
    "    batch_size = 32,\n",
    "    class_mode = 'categorical'\n",
    ")\n",
    "# The generator yields batches of 150x150 RBG images (shape (64,150,150,3)) and binary labels (shape(64))\n",
    "validation_generator150_64 = validation_datagen.flow_from_directory(\n",
    "    validation_directory,\n",
    "    target_size = (150,150),\n",
    "    batch_size = 64,\n",
    "    class_mode = 'categorical'\n",
    ")\n",
    "\n",
    "# The generator yields batches of 227x227 RBG images (shape (64,227,227,3)) and binary labels (shape(64)) --> AlexNet\n",
    "validation_generator_alex_net = validation_datagen.flow_from_directory(\n",
    "    validation_directory,\n",
    "    target_size = (227,227),\n",
    "    batch_size = 64,\n",
    "    class_mode = 'categorical'\n",
    ")"
   ]
  },
  {
   "cell_type": "code",
   "execution_count": 10,
   "id": "54bed639",
   "metadata": {},
   "outputs": [],
   "source": [
    "# Defining a function that will perform the model evaluation, when the image size is 64x64px, and batch_size is 20\n",
    "# This function will receive a model and a directory (to know where to get the images)\n",
    "def model_evaluation_64_20(model, directory_evaluation=[]):\n",
    "    for i in range(len(directory_evaluation)):\n",
    "        generator = test_datagen.flow_from_directory(\n",
    "            directory_evaluation[i],\n",
    "            target_size = (64,64),\n",
    "            batch_size = 20,\n",
    "            class_mode = 'categorical',\n",
    "            shuffle = False\n",
    "        )\n",
    "        epoch_steps = math.ceil(generator.samples/generator.batch_size)\n",
    "        \n",
    "        # Fit the model to the data using the created generator\n",
    "        Y_pred = model.predict_generator(generator, steps=epoch_steps)\n",
    "        # Get the most probable class from the prediction\n",
    "        Y_class = np.argmax(Y_pred, axis = 1)\n",
    "        \n",
    "        real_classes = generator.classes\n",
    "        labels_classes = list(generator.class_indices.keys())\n",
    "                \n",
    "        # Printing the classification report for the model that was inputed into the function\n",
    "        report_model = classification_report(real_classes, Y_class, target_names = labels_classes)\n",
    "        print(report_model)\n",
    "\n",
    "# Defining a function that will perform the model evaluation, when the image size is 64x64px, and batch_size is 32\n",
    "# This function will receive a model and a directory (to know where to get the images)\n",
    "def model_evaluation_64_32(model, directory_evaluation=[]):\n",
    "    for i in range(len(directory_evaluation)):\n",
    "        generator = test_datagen.flow_from_directory(\n",
    "            directory_evaluation[i],\n",
    "            target_size = (64,64),\n",
    "            batch_size = 32,\n",
    "            class_mode = 'categorical',\n",
    "            shuffle = False\n",
    "        )\n",
    "        epoch_steps = math.ceil(generator.samples/generator.batch_size)\n",
    "        \n",
    "        # Fit the model to the data using the created generator\n",
    "        Y_pred = model.predict_generator(generator, steps=epoch_steps)\n",
    "        # Get the most probable class from the prediction\n",
    "        Y_class = np.argmax(Y_pred, axis = 1)\n",
    "        \n",
    "        real_classes = generator.classes\n",
    "        labels_classes = list(generator.class_indices.keys())\n",
    "                \n",
    "        # Printing the classification report for the model that was inputed into the function\n",
    "        report_model = classification_report(real_classes, Y_class, target_names = labels_classes)\n",
    "        print(report_model)\n",
    "        \n",
    "# Defining a function that will perform the model evaluation, when the image size is 64x64px, and batch_size is 64\n",
    "# This function will receive a model and a directory (to know where to get the images)\n",
    "def model_evaluation_64_64(model, directory_evaluation=[]):\n",
    "    for i in range(len(directory_evaluation)):\n",
    "        generator = test_datagen.flow_from_directory(\n",
    "            directory_evaluation[i],\n",
    "            target_size = (64,64),\n",
    "            batch_size = 64,\n",
    "            class_mode = 'categorical',\n",
    "            shuffle = False\n",
    "        )\n",
    "        epoch_steps = math.ceil(generator.samples/generator.batch_size)\n",
    "        \n",
    "        # Fit the model to the data using the created generator\n",
    "        Y_pred = model.predict_generator(generator, steps=epoch_steps)\n",
    "        # Get the most probable class from the prediction\n",
    "        Y_class = np.argmax(Y_pred, axis = 1)\n",
    "        \n",
    "        real_classes = generator.classes\n",
    "        labels_classes = list(generator.class_indices.keys())\n",
    "                \n",
    "        # Printing the classification report for the model that was inputed into the function\n",
    "        report_model = classification_report(real_classes, Y_class, target_names = labels_classes)\n",
    "        print(report_model)"
   ]
  },
  {
   "cell_type": "code",
   "execution_count": 11,
   "id": "a6d94bfc",
   "metadata": {},
   "outputs": [],
   "source": [
    "# Defining a function that will perform the model evaluation, when the image size is 128x128px, and batch_size is 20\n",
    "# This function will receive a model and a directory (to know where to get the images)\n",
    "def model_evaluation_128_20(model, directory_evaluation=[]):\n",
    "    for i in range(len(directory_evaluation)):\n",
    "        generator = test_datagen.flow_from_directory(\n",
    "            directory_evaluation[i],\n",
    "            target_size = (128,128),\n",
    "            batch_size = 20,\n",
    "            class_mode = 'categorical',\n",
    "            shuffle = False\n",
    "        )\n",
    "        epoch_steps = math.ceil(generator.samples/generator.batch_size)\n",
    "        \n",
    "        # Fit the model to the data using the created generator\n",
    "        Y_pred = model.predict_generator(generator, steps=epoch_steps)\n",
    "        # Get the most probable class from the prediction\n",
    "        Y_class = np.argmax(Y_pred, axis = 1)\n",
    "        \n",
    "        real_classes = generator.classes\n",
    "        labels_classes = list(generator.class_indices.keys())\n",
    "                \n",
    "        # Printing the classification report for the model that was inputed into the function\n",
    "        report_model = classification_report(real_classes, Y_class, target_names = labels_classes)\n",
    "        print(report_model)\n",
    "\n",
    "# Defining a function that will perform the model evaluation, when the image size is 128x128px, and batch_size is 32\n",
    "# This function will receive a model and a directory (to know where to get the images)\n",
    "def model_evaluation_128_32(model, directory_evaluation=[]):\n",
    "    for i in range(len(directory_evaluation)):\n",
    "        generator = test_datagen.flow_from_directory(\n",
    "            directory_evaluation[i],\n",
    "            target_size = (128,128),\n",
    "            batch_size = 32,\n",
    "            class_mode = 'categorical',\n",
    "            shuffle = False\n",
    "        )\n",
    "        epoch_steps = math.ceil(generator.samples/generator.batch_size)\n",
    "        \n",
    "        # Fit the model to the data using the created generator\n",
    "        Y_pred = model.predict_generator(generator, steps=epoch_steps)\n",
    "        # Get the most probable class from the prediction\n",
    "        Y_class = np.argmax(Y_pred, axis = 1)\n",
    "        \n",
    "        real_classes = generator.classes\n",
    "        labels_classes = list(generator.class_indices.keys())\n",
    "                \n",
    "        # Printing the classification report for the model that was inputed into the function\n",
    "        report_model = classification_report(real_classes, Y_class, target_names = labels_classes)\n",
    "        print(report_model)\n",
    "        \n",
    "# Defining a function that will perform the model evaluation, when the image size is 128x128px, and batch_size is 64\n",
    "# This function will receive a model and a directory (to know where to get the images)\n",
    "def model_evaluation_128_64(model, directory_evaluation=[]):\n",
    "    for i in range(len(directory_evaluation)):\n",
    "        generator = test_datagen.flow_from_directory(\n",
    "            directory_evaluation[i],\n",
    "            target_size = (128,128),\n",
    "            batch_size = 64,\n",
    "            class_mode = 'categorical',\n",
    "            shuffle = False\n",
    "        )\n",
    "        epoch_steps = math.ceil(generator.samples/generator.batch_size)\n",
    "        \n",
    "        # Fit the model to the data using the created generator\n",
    "        Y_pred = model.predict_generator(generator, steps=epoch_steps)\n",
    "        # Get the most probable class from the prediction\n",
    "        Y_class = np.argmax(Y_pred, axis = 1)\n",
    "        \n",
    "        real_classes = generator.classes\n",
    "        labels_classes = list(generator.class_indices.keys())\n",
    "                \n",
    "        # Printing the classification report for the model that was inputed into the function\n",
    "        report_model = classification_report(real_classes, Y_class, target_names = labels_classes)\n",
    "        print(report_model)"
   ]
  },
  {
   "cell_type": "code",
   "execution_count": 12,
   "id": "ea4f44e5",
   "metadata": {},
   "outputs": [],
   "source": [
    "# Defining a function that will perform the model evaluation, when the image size is 150x150px, and batch_size is 20\n",
    "# This function will receive a model and a directory (to know where to get the images)\n",
    "def model_evaluation_150_20(model, directory_evaluation=[]):\n",
    "    for i in range(len(directory_evaluation)):\n",
    "        generator = test_datagen.flow_from_directory(\n",
    "            directory_evaluation[i],\n",
    "            target_size = (150,150),\n",
    "            batch_size = 20,\n",
    "            class_mode = 'categorical',\n",
    "            shuffle = False\n",
    "        )\n",
    "        epoch_steps = math.ceil(generator.samples/generator.batch_size)\n",
    "        \n",
    "        # Fit the model to the data using the created generator\n",
    "        Y_pred = model.predict_generator(generator, steps=epoch_steps)\n",
    "        # Get the most probable class from the prediction\n",
    "        Y_class = np.argmax(Y_pred, axis = 1)\n",
    "        \n",
    "        real_classes = generator.classes\n",
    "        labels_classes = list(generator.class_indices.keys())\n",
    "                \n",
    "        # Printing the classification report for the model that was inputed into the function\n",
    "        report_model = classification_report(real_classes, Y_class, target_names = labels_classes)\n",
    "        print(report_model)\n",
    "\n",
    "# Defining a function that will perform the model evaluation, when the image size is 150x150px, and batch_size is 32\n",
    "# This function will receive a model and a directory (to know where to get the images)\n",
    "def model_evaluation_150_32(model, directory_evaluation=[]):\n",
    "    for i in range(len(directory_evaluation)):\n",
    "        generator = test_datagen.flow_from_directory(\n",
    "            directory_evaluation[i],\n",
    "            target_size = (150,150),\n",
    "            batch_size = 32,\n",
    "            class_mode = 'categorical',\n",
    "            shuffle = False\n",
    "        )\n",
    "        epoch_steps = math.ceil(generator.samples/generator.batch_size)\n",
    "        \n",
    "        # Fit the model to the data using the created generator\n",
    "        Y_pred = model.predict_generator(generator, steps=epoch_steps)\n",
    "        # Get the most probable class from the prediction\n",
    "        Y_class = np.argmax(Y_pred, axis = 1)\n",
    "        \n",
    "        real_classes = generator.classes\n",
    "        labels_classes = list(generator.class_indices.keys())\n",
    "                \n",
    "        # Printing the classification report for the model that was inputed into the function\n",
    "        report_model = classification_report(real_classes, Y_class, target_names = labels_classes)\n",
    "        print(report_model)\n",
    "        \n",
    "# Defining a function that will perform the model evaluation, when the image size is 150x150px, and batch_size is 64\n",
    "# This function will receive a model and a directory (to know where to get the images)\n",
    "def model_evaluation_150_64(model, directory_evaluation=[]):\n",
    "    for i in range(len(directory_evaluation)):\n",
    "        generator = test_datagen.flow_from_directory(\n",
    "            directory_evaluation[i],\n",
    "            target_size = (150,150),\n",
    "            batch_size = 64,\n",
    "            class_mode = 'categorical',\n",
    "            shuffle = False\n",
    "        )\n",
    "        epoch_steps = math.ceil(generator.samples/generator.batch_size)\n",
    "        \n",
    "        # Fit the model to the data using the created generator\n",
    "        Y_pred = model.predict_generator(generator, steps=epoch_steps)\n",
    "        # Get the most probable class from the prediction\n",
    "        Y_class = np.argmax(Y_pred, axis = 1)\n",
    "        \n",
    "        real_classes = generator.classes\n",
    "        labels_classes = list(generator.class_indices.keys())\n",
    "                \n",
    "        # Printing the classification report for the model that was inputed into the function\n",
    "        report_model = classification_report(real_classes, Y_class, target_names = labels_classes)\n",
    "        print(report_model)"
   ]
  },
  {
   "cell_type": "code",
   "execution_count": 13,
   "id": "b46f5eaf",
   "metadata": {},
   "outputs": [],
   "source": [
    "# Defining a function that will perform the model evaluation, when the image size is 227x227px --> AlexNet\n",
    "# This function will receive a model and a directory (to know where to get the images)\n",
    "def model_evaluation_227(model, directory_evaluation=[]):\n",
    "    for i in range(len(directory_evaluation)):\n",
    "        generator = test_datagen.flow_from_directory(\n",
    "            directory_evaluation[i],\n",
    "            target_size = (227,227),\n",
    "            batch_size = 64,\n",
    "            class_mode = 'categorical',\n",
    "            shuffle = False\n",
    "        )\n",
    "        epoch_steps = math.ceil(generator.samples/generator.batch_size)\n",
    "        \n",
    "        # Fit the model to the data using the created generator\n",
    "        Y_pred = model.predict_generator(generator, steps=epoch_steps)\n",
    "        # Get the most probable class from the prediction\n",
    "        Y_class = np.argmax(Y_pred, axis = 1)\n",
    "        \n",
    "        real_classes = generator.classes\n",
    "        labels_classes = list(generator.class_indices.keys())\n",
    "                \n",
    "        # Printing the classification report for the model that was inputed into the function\n",
    "        report_model = classification_report(real_classes, Y_class, target_names = labels_classes)\n",
    "        print(report_model)"
   ]
  },
  {
   "cell_type": "code",
   "execution_count": 14,
   "id": "091f19a5",
   "metadata": {},
   "outputs": [],
   "source": [
    "callbacks_list = [\n",
    "    keras.callbacks.EarlyStopping(\n",
    "    monitor = 'val_categorical_accuracy',\n",
    "    patience = 2)\n",
    "]"
   ]
  },
  {
   "cell_type": "markdown",
   "id": "acab7643",
   "metadata": {},
   "source": [
    "# Creating and testing models"
   ]
  },
  {
   "cell_type": "markdown",
   "id": "09fdd324",
   "metadata": {},
   "source": [
    "## 1. Model 1"
   ]
  },
  {
   "cell_type": "markdown",
   "id": "5e48ac8c",
   "metadata": {},
   "source": [
    "We will train this model for the 3 different image sizes (64x64px, 128x128px, 150x150px). After finding which one is the best, we will train the model for that image size, for different batch_sizes"
   ]
  },
  {
   "cell_type": "markdown",
   "id": "2f3b761e",
   "metadata": {},
   "source": [
    "### 1.1. Model 1 - 64x64px//batch_size = 20"
   ]
  },
  {
   "cell_type": "code",
   "execution_count": 15,
   "id": "55eb62df",
   "metadata": {},
   "outputs": [
    {
     "name": "stderr",
     "output_type": "stream",
     "text": [
      "D:\\anaconda3\\lib\\site-packages\\keras\\optimizer_v2\\rmsprop.py:130: UserWarning: The `lr` argument is deprecated, use `learning_rate` instead.\n",
      "  super(RMSprop, self).__init__(name, **kwargs)\n"
     ]
    }
   ],
   "source": [
    "model = models.Sequential()\n",
    "model.add(layers.Conv2D(32, (3,3), activation='relu', input_shape=(64,64,3)))\n",
    "model.add(layers.MaxPooling2D((2,2)))\n",
    "model.add(layers.Conv2D(64, (3,3), activation='relu'))\n",
    "model.add(layers.MaxPooling2D((2,2)))\n",
    "model.add(layers.Conv2D(128, (3,3), activation='relu'))\n",
    "model.add(layers.MaxPooling2D((2,2)))\n",
    "model.add(layers.Conv2D(128, (3,3), activation='relu'))\n",
    "model.add(layers.MaxPooling2D((2,2)))\n",
    "model.add(layers.Flatten())\n",
    "model.add(layers.Dense(512, activation='relu'))\n",
    "model.add(layers.Dense(4, activation='softmax'))\n",
    "\n",
    "model.compile(loss='categorical_crossentropy',\n",
    "             optimizer=optimizers.RMSprop(lr=1e-4),\n",
    "             metrics=['categorical_accuracy'])"
   ]
  },
  {
   "cell_type": "code",
   "execution_count": 16,
   "id": "e9854ffa",
   "metadata": {},
   "outputs": [
    {
     "name": "stdout",
     "output_type": "stream",
     "text": [
      "Epoch 1/30\n",
      "264/264 [==============================] - 44s 165ms/step - loss: 0.9559 - categorical_accuracy: 0.6316 - val_loss: 0.6787 - val_categorical_accuracy: 0.7667\n",
      "Epoch 2/30\n",
      "264/264 [==============================] - 16s 59ms/step - loss: 0.5404 - categorical_accuracy: 0.8006 - val_loss: 0.4248 - val_categorical_accuracy: 0.8515\n",
      "Epoch 3/30\n",
      "264/264 [==============================] - 14s 52ms/step - loss: 0.3851 - categorical_accuracy: 0.8649 - val_loss: 0.4513 - val_categorical_accuracy: 0.8455\n",
      "Epoch 4/30\n",
      "264/264 [==============================] - 13s 50ms/step - loss: 0.3078 - categorical_accuracy: 0.8927 - val_loss: 0.2713 - val_categorical_accuracy: 0.9152\n",
      "Epoch 5/30\n",
      "264/264 [==============================] - 13s 50ms/step - loss: 0.2420 - categorical_accuracy: 0.9172 - val_loss: 0.3581 - val_categorical_accuracy: 0.8848\n",
      "Epoch 6/30\n",
      "264/264 [==============================] - 15s 55ms/step - loss: 0.1885 - categorical_accuracy: 0.9380 - val_loss: 0.2253 - val_categorical_accuracy: 0.9394\n",
      "Epoch 7/30\n",
      "264/264 [==============================] - 16s 59ms/step - loss: 0.1581 - categorical_accuracy: 0.9507 - val_loss: 0.1622 - val_categorical_accuracy: 0.9545\n",
      "Epoch 8/30\n",
      "264/264 [==============================] - 16s 59ms/step - loss: 0.1296 - categorical_accuracy: 0.9576 - val_loss: 0.1757 - val_categorical_accuracy: 0.9364\n",
      "Epoch 9/30\n",
      "264/264 [==============================] - 17s 63ms/step - loss: 0.1084 - categorical_accuracy: 0.9668 - val_loss: 0.1385 - val_categorical_accuracy: 0.9591\n",
      "Epoch 10/30\n",
      "264/264 [==============================] - 17s 63ms/step - loss: 0.0948 - categorical_accuracy: 0.9693 - val_loss: 0.1252 - val_categorical_accuracy: 0.9621\n",
      "Epoch 11/30\n",
      "264/264 [==============================] - 17s 65ms/step - loss: 0.0788 - categorical_accuracy: 0.9790 - val_loss: 0.1248 - val_categorical_accuracy: 0.9621\n",
      "Epoch 12/30\n",
      "264/264 [==============================] - 20s 74ms/step - loss: 0.0672 - categorical_accuracy: 0.9797 - val_loss: 0.2276 - val_categorical_accuracy: 0.9333\n"
     ]
    }
   ],
   "source": [
    "history = model.fit(\n",
    "    train_generator64_20,\n",
    "    steps_per_epoch = 264,  # train_n_samples=5297; batch_size=20\n",
    "    epochs = 30,\n",
    "    callbacks = callbacks_list,\n",
    "    validation_data = validation_generator64_20,\n",
    "    validation_steps = 33 #  validation_n_samples=663; batch_size=20\n",
    ")"
   ]
  },
  {
   "cell_type": "code",
   "execution_count": 17,
   "id": "fc1ea111",
   "metadata": {
    "scrolled": false
   },
   "outputs": [
    {
     "data": {
      "image/png": "[encoded data removed]",
      "text/plain": [
       "<Figure size 432x288 with 1 Axes>"
      ]
     },
     "metadata": {
      "needs_background": "light"
     },
     "output_type": "display_data"
    },
    {
     "data": {
      "image/png": "[encoded data removed]",
      "text/plain": [
       "<Figure size 432x288 with 1 Axes>"
      ]
     },
     "metadata": {
      "needs_background": "light"
     },
     "output_type": "display_data"
    }
   ],
   "source": [
    "training_plots(history)"
   ]
  },
  {
   "cell_type": "code",
   "execution_count": 18,
   "id": "2976ad20",
   "metadata": {
    "scrolled": true
   },
   "outputs": [
    {
     "name": "stdout",
     "output_type": "stream",
     "text": [
      "Found 661 images belonging to 4 classes.\n"
     ]
    },
    {
     "name": "stderr",
     "output_type": "stream",
     "text": [
      "<ipython-input-10-a9619eae2628>:15: UserWarning: `Model.predict_generator` is deprecated and will be removed in a future version. Please use `Model.predict`, which supports generators.\n",
      "  Y_pred = model.predict_generator(generator, steps=epoch_steps)\n"
     ]
    },
    {
     "name": "stdout",
     "output_type": "stream",
     "text": [
      "                   precision    recall  f1-score   support\n",
      "\n",
      "    fully_covered       0.98      0.88      0.93       145\n",
      "      not_covered       0.89      0.99      0.94       366\n",
      "         not_face       0.97      0.82      0.89       111\n",
      "partially_covered       0.90      0.67      0.76        39\n",
      "\n",
      "         accuracy                           0.92       661\n",
      "        macro avg       0.93      0.84      0.88       661\n",
      "     weighted avg       0.92      0.92      0.92       661\n",
      "\n"
     ]
    }
   ],
   "source": [
    "model_evaluation_64_20(model, [test_directory])"
   ]
  },
  {
   "cell_type": "markdown",
   "id": "36e6c52e",
   "metadata": {},
   "source": [
    "### 1.2. Model 1 - 128x128px//batch_size = 20"
   ]
  },
  {
   "cell_type": "code",
   "execution_count": 19,
   "id": "547e4f85",
   "metadata": {},
   "outputs": [
    {
     "name": "stderr",
     "output_type": "stream",
     "text": [
      "D:\\anaconda3\\lib\\site-packages\\keras\\optimizer_v2\\rmsprop.py:130: UserWarning: The `lr` argument is deprecated, use `learning_rate` instead.\n",
      "  super(RMSprop, self).__init__(name, **kwargs)\n"
     ]
    }
   ],
   "source": [
    "model = models.Sequential()\n",
    "model.add(layers.Conv2D(32, (3,3), activation='relu', input_shape=(128,128,3)))\n",
    "model.add(layers.MaxPooling2D((2,2)))\n",
    "model.add(layers.Conv2D(64, (3,3), activation='relu'))\n",
    "model.add(layers.MaxPooling2D((2,2)))\n",
    "model.add(layers.Conv2D(128, (3,3), activation='relu'))\n",
    "model.add(layers.MaxPooling2D((2,2)))\n",
    "model.add(layers.Conv2D(128, (3,3), activation='relu'))\n",
    "model.add(layers.MaxPooling2D((2,2)))\n",
    "model.add(layers.Flatten())\n",
    "model.add(layers.Dense(512, activation='relu'))\n",
    "model.add(layers.Dense(4, activation='softmax'))\n",
    "\n",
    "model.compile(loss='categorical_crossentropy',\n",
    "             optimizer=optimizers.RMSprop(lr=1e-4),\n",
    "             metrics=['categorical_accuracy'])"
   ]
  },
  {
   "cell_type": "code",
   "execution_count": 20,
   "id": "158abbc7",
   "metadata": {},
   "outputs": [
    {
     "name": "stdout",
     "output_type": "stream",
     "text": [
      "Epoch 1/30\n",
      "264/264 [==============================] - 70s 264ms/step - loss: 0.6735 - categorical_accuracy: 0.7499 - val_loss: 0.4249 - val_categorical_accuracy: 0.8409\n",
      "Epoch 2/30\n",
      "264/264 [==============================] - 72s 274ms/step - loss: 0.3116 - categorical_accuracy: 0.8969 - val_loss: 0.2159 - val_categorical_accuracy: 0.9288\n",
      "Epoch 3/30\n",
      "264/264 [==============================] - 68s 259ms/step - loss: 0.2129 - categorical_accuracy: 0.9335 - val_loss: 0.2175 - val_categorical_accuracy: 0.9212\n",
      "Epoch 4/30\n",
      "264/264 [==============================] - 68s 256ms/step - loss: 0.1556 - categorical_accuracy: 0.9507 - val_loss: 0.1536 - val_categorical_accuracy: 0.9485\n",
      "Epoch 5/30\n",
      "264/264 [==============================] - 68s 259ms/step - loss: 0.1271 - categorical_accuracy: 0.9589 - val_loss: 0.1543 - val_categorical_accuracy: 0.9470\n",
      "Epoch 6/30\n",
      "264/264 [==============================] - 72s 272ms/step - loss: 0.0946 - categorical_accuracy: 0.9699 - val_loss: 0.1212 - val_categorical_accuracy: 0.9591\n",
      "Epoch 7/30\n",
      "264/264 [==============================] - 66s 250ms/step - loss: 0.0849 - categorical_accuracy: 0.9735 - val_loss: 0.1060 - val_categorical_accuracy: 0.9636\n",
      "Epoch 8/30\n",
      "264/264 [==============================] - 66s 249ms/step - loss: 0.0632 - categorical_accuracy: 0.9792 - val_loss: 0.1121 - val_categorical_accuracy: 0.9652\n",
      "Epoch 9/30\n",
      "264/264 [==============================] - 84s 318ms/step - loss: 0.0478 - categorical_accuracy: 0.9850 - val_loss: 0.1500 - val_categorical_accuracy: 0.9576\n",
      "Epoch 10/30\n",
      "264/264 [==============================] - 72s 271ms/step - loss: 0.0401 - categorical_accuracy: 0.9875 - val_loss: 0.1453 - val_categorical_accuracy: 0.9606\n"
     ]
    }
   ],
   "source": [
    "history = model.fit(\n",
    "    train_generator128_20,\n",
    "    steps_per_epoch = 264,  # train_n_samples=5297; batch_size=20\n",
    "    epochs = 30,\n",
    "    callbacks = callbacks_list,\n",
    "    validation_data = validation_generator128_20,\n",
    "    validation_steps = 33 #  validation_n_samples=663; batch_size=20\n",
    ")"
   ]
  },
  {
   "cell_type": "code",
   "execution_count": 21,
   "id": "513eb285",
   "metadata": {
    "scrolled": false
   },
   "outputs": [
    {
     "data": {
      "image/png": "[encoded data removed]",
      "text/plain": [
       "<Figure size 432x288 with 1 Axes>"
      ]
     },
     "metadata": {
      "needs_background": "light"
     },
     "output_type": "display_data"
    },
    {
     "data": {
      "image/png": "[encoded data removed]",
      "text/plain": [
       "<Figure size 432x288 with 1 Axes>"
      ]
     },
     "metadata": {
      "needs_background": "light"
     },
     "output_type": "display_data"
    }
   ],
   "source": [
    "training_plots(history)"
   ]
  },
  {
   "cell_type": "code",
   "execution_count": 22,
   "id": "4daadb27",
   "metadata": {
    "scrolled": true
   },
   "outputs": [
    {
     "name": "stdout",
     "output_type": "stream",
     "text": [
      "Found 661 images belonging to 4 classes.\n"
     ]
    },
    {
     "name": "stderr",
     "output_type": "stream",
     "text": [
      "<ipython-input-11-bad17ae776fb>:15: UserWarning: `Model.predict_generator` is deprecated and will be removed in a future version. Please use `Model.predict`, which supports generators.\n",
      "  Y_pred = model.predict_generator(generator, steps=epoch_steps)\n"
     ]
    },
    {
     "name": "stdout",
     "output_type": "stream",
     "text": [
      "                   precision    recall  f1-score   support\n",
      "\n",
      "    fully_covered       1.00      0.91      0.95       145\n",
      "      not_covered       0.99      0.98      0.98       366\n",
      "         not_face       0.89      0.98      0.94       111\n",
      "partially_covered       0.86      0.97      0.92        39\n",
      "\n",
      "         accuracy                           0.96       661\n",
      "        macro avg       0.94      0.96      0.95       661\n",
      "     weighted avg       0.97      0.96      0.96       661\n",
      "\n"
     ]
    }
   ],
   "source": [
    "model_evaluation_128_20(model, [test_directory])"
   ]
  },
  {
   "cell_type": "markdown",
   "id": "ecb6efe5",
   "metadata": {},
   "source": [
    "### 1.3. Model 1 - 150x150px//batch_size = 20"
   ]
  },
  {
   "cell_type": "code",
   "execution_count": 23,
   "id": "acb54920",
   "metadata": {},
   "outputs": [
    {
     "name": "stderr",
     "output_type": "stream",
     "text": [
      "D:\\anaconda3\\lib\\site-packages\\keras\\optimizer_v2\\rmsprop.py:130: UserWarning: The `lr` argument is deprecated, use `learning_rate` instead.\n",
      "  super(RMSprop, self).__init__(name, **kwargs)\n"
     ]
    }
   ],
   "source": [
    "model = models.Sequential()\n",
    "model.add(layers.Conv2D(32, (3,3), activation='relu', input_shape=(150,150,3)))\n",
    "model.add(layers.MaxPooling2D((2,2)))\n",
    "model.add(layers.Conv2D(64, (3,3), activation='relu'))\n",
    "model.add(layers.MaxPooling2D((2,2)))\n",
    "model.add(layers.Conv2D(128, (3,3), activation='relu'))\n",
    "model.add(layers.MaxPooling2D((2,2)))\n",
    "model.add(layers.Conv2D(128, (3,3), activation='relu'))\n",
    "model.add(layers.MaxPooling2D((2,2)))\n",
    "model.add(layers.Flatten())\n",
    "model.add(layers.Dense(512, activation='relu'))\n",
    "model.add(layers.Dense(4, activation='softmax'))\n",
    "\n",
    "model.compile(loss='categorical_crossentropy',\n",
    "             optimizer=optimizers.RMSprop(lr=1e-4),\n",
    "             metrics=['categorical_accuracy'])"
   ]
  },
  {
   "cell_type": "code",
   "execution_count": 24,
   "id": "3b4bcfbf",
   "metadata": {},
   "outputs": [
    {
     "name": "stdout",
     "output_type": "stream",
     "text": [
      "Epoch 1/30\n",
      "264/264 [==============================] - 105s 394ms/step - loss: 0.6858 - categorical_accuracy: 0.7442 - val_loss: 0.3683 - val_categorical_accuracy: 0.8712\n",
      "Epoch 2/30\n",
      "264/264 [==============================] - 104s 393ms/step - loss: 0.3222 - categorical_accuracy: 0.8916 - val_loss: 0.2656 - val_categorical_accuracy: 0.9121\n",
      "Epoch 3/30\n",
      "264/264 [==============================] - 102s 386ms/step - loss: 0.2312 - categorical_accuracy: 0.9248 - val_loss: 0.2066 - val_categorical_accuracy: 0.9348\n",
      "Epoch 4/30\n",
      "264/264 [==============================] - 110s 417ms/step - loss: 0.1701 - categorical_accuracy: 0.9450 - val_loss: 0.2261 - val_categorical_accuracy: 0.9273\n",
      "Epoch 5/30\n",
      "264/264 [==============================] - 102s 388ms/step - loss: 0.1368 - categorical_accuracy: 0.9549 - val_loss: 0.2073 - val_categorical_accuracy: 0.9333\n"
     ]
    }
   ],
   "source": [
    "history = model.fit(\n",
    "    train_generator150_20,\n",
    "    steps_per_epoch = 264,  # train_n_samples=5297; batch_size=20\n",
    "    epochs = 30,\n",
    "    callbacks = callbacks_list,\n",
    "    validation_data = validation_generator150_20,\n",
    "    validation_steps = 33 #  validation_n_samples=663; batch_size=20\n",
    ")"
   ]
  },
  {
   "cell_type": "code",
   "execution_count": 25,
   "id": "5b4fd302",
   "metadata": {
    "scrolled": false
   },
   "outputs": [
    {
     "data": {
      "image/png": "[encoded data removed]",
      "text/plain": [
       "<Figure size 432x288 with 1 Axes>"
      ]
     },
     "metadata": {
      "needs_background": "light"
     },
     "output_type": "display_data"
    },
    {
     "data": {
      "image/png": "[encoded data removed]",
      "text/plain": [
       "<Figure size 432x288 with 1 Axes>"
      ]
     },
     "metadata": {
      "needs_background": "light"
     },
     "output_type": "display_data"
    }
   ],
   "source": [
    "training_plots(history)"
   ]
  },
  {
   "cell_type": "code",
   "execution_count": 26,
   "id": "b09351a6",
   "metadata": {
    "scrolled": false
   },
   "outputs": [
    {
     "name": "stdout",
     "output_type": "stream",
     "text": [
      "Found 661 images belonging to 4 classes.\n"
     ]
    },
    {
     "name": "stderr",
     "output_type": "stream",
     "text": [
      "<ipython-input-12-e59ee181f5d9>:15: UserWarning: `Model.predict_generator` is deprecated and will be removed in a future version. Please use `Model.predict`, which supports generators.\n",
      "  Y_pred = model.predict_generator(generator, steps=epoch_steps)\n"
     ]
    },
    {
     "name": "stdout",
     "output_type": "stream",
     "text": [
      "                   precision    recall  f1-score   support\n",
      "\n",
      "    fully_covered       0.99      0.90      0.94       145\n",
      "      not_covered       0.99      0.93      0.96       366\n",
      "         not_face       0.73      1.00      0.84       111\n",
      "partially_covered       0.97      0.87      0.92        39\n",
      "\n",
      "         accuracy                           0.93       661\n",
      "        macro avg       0.92      0.92      0.92       661\n",
      "     weighted avg       0.95      0.93      0.93       661\n",
      "\n"
     ]
    }
   ],
   "source": [
    "model_evaluation_150_20(model, [test_directory])"
   ]
  },
  {
   "cell_type": "markdown",
   "id": "e877c90c",
   "metadata": {},
   "source": [
    "### 1.4. Model 1 - 64x64px//batch_size = 32"
   ]
  },
  {
   "cell_type": "code",
   "execution_count": 68,
   "id": "ad71cb1d",
   "metadata": {},
   "outputs": [
    {
     "name": "stderr",
     "output_type": "stream",
     "text": [
      "D:\\anaconda3\\lib\\site-packages\\keras\\optimizer_v2\\rmsprop.py:130: UserWarning: The `lr` argument is deprecated, use `learning_rate` instead.\n",
      "  super(RMSprop, self).__init__(name, **kwargs)\n"
     ]
    }
   ],
   "source": [
    "model = models.Sequential()\n",
    "model.add(layers.Conv2D(32, (3,3), activation='relu', input_shape=(64,64,3)))\n",
    "model.add(layers.MaxPooling2D((2,2)))\n",
    "model.add(layers.Conv2D(64, (3,3), activation='relu'))\n",
    "model.add(layers.MaxPooling2D((2,2)))\n",
    "model.add(layers.Conv2D(128, (3,3), activation='relu'))\n",
    "model.add(layers.MaxPooling2D((2,2)))\n",
    "model.add(layers.Conv2D(128, (3,3), activation='relu'))\n",
    "model.add(layers.MaxPooling2D((2,2)))\n",
    "model.add(layers.Flatten())\n",
    "model.add(layers.Dense(512, activation='relu'))\n",
    "model.add(layers.Dense(4, activation='softmax'))\n",
    "\n",
    "model.compile(loss='categorical_crossentropy',\n",
    "             optimizer=optimizers.RMSprop(lr=1e-4),\n",
    "             metrics=['categorical_accuracy'])"
   ]
  },
  {
   "cell_type": "code",
   "execution_count": 69,
   "id": "1f59bb75",
   "metadata": {},
   "outputs": [
    {
     "name": "stdout",
     "output_type": "stream",
     "text": [
      "Epoch 1/30\n",
      "165/165 [==============================] - 14s 79ms/step - loss: 1.0293 - categorical_accuracy: 0.6000 - val_loss: 0.8060 - val_categorical_accuracy: 0.6922\n",
      "Epoch 2/30\n",
      "165/165 [==============================] - 13s 81ms/step - loss: 0.6804 - categorical_accuracy: 0.7552 - val_loss: 0.5328 - val_categorical_accuracy: 0.8156\n",
      "Epoch 3/30\n",
      "165/165 [==============================] - 14s 87ms/step - loss: 0.4676 - categorical_accuracy: 0.8285 - val_loss: 0.4159 - val_categorical_accuracy: 0.8406\n",
      "Epoch 4/30\n",
      "165/165 [==============================] - 15s 91ms/step - loss: 0.3789 - categorical_accuracy: 0.8659 - val_loss: 0.3505 - val_categorical_accuracy: 0.8781\n",
      "Epoch 5/30\n",
      "165/165 [==============================] - 16s 98ms/step - loss: 0.3228 - categorical_accuracy: 0.8868 - val_loss: 0.3066 - val_categorical_accuracy: 0.9000\n",
      "Epoch 6/30\n",
      "165/165 [==============================] - 17s 100ms/step - loss: 0.2681 - categorical_accuracy: 0.9094 - val_loss: 0.2566 - val_categorical_accuracy: 0.9078\n",
      "Epoch 7/30\n",
      "165/165 [==============================] - 17s 101ms/step - loss: 0.2322 - categorical_accuracy: 0.9240 - val_loss: 0.2782 - val_categorical_accuracy: 0.9031\n",
      "Epoch 8/30\n",
      "165/165 [==============================] - 16s 96ms/step - loss: 0.1978 - categorical_accuracy: 0.9326 - val_loss: 0.2231 - val_categorical_accuracy: 0.9266\n",
      "Epoch 9/30\n",
      "165/165 [==============================] - 16s 95ms/step - loss: 0.1752 - categorical_accuracy: 0.9394 - val_loss: 0.1826 - val_categorical_accuracy: 0.9469\n",
      "Epoch 10/30\n",
      "165/165 [==============================] - 16s 95ms/step - loss: 0.1509 - categorical_accuracy: 0.9472 - val_loss: 0.1816 - val_categorical_accuracy: 0.9422\n",
      "Epoch 11/30\n",
      "165/165 [==============================] - 16s 94ms/step - loss: 0.1331 - categorical_accuracy: 0.9576 - val_loss: 0.1578 - val_categorical_accuracy: 0.9516\n",
      "Epoch 12/30\n",
      "165/165 [==============================] - 14s 85ms/step - loss: 0.1175 - categorical_accuracy: 0.9605 - val_loss: 0.1486 - val_categorical_accuracy: 0.9547\n",
      "Epoch 13/30\n",
      "165/165 [==============================] - 15s 90ms/step - loss: 0.1040 - categorical_accuracy: 0.9658 - val_loss: 0.1440 - val_categorical_accuracy: 0.9641\n",
      "Epoch 14/30\n",
      "165/165 [==============================] - 16s 100ms/step - loss: 0.0921 - categorical_accuracy: 0.9711 - val_loss: 0.1237 - val_categorical_accuracy: 0.9609\n",
      "Epoch 15/30\n",
      "165/165 [==============================] - 18s 110ms/step - loss: 0.0839 - categorical_accuracy: 0.9744 - val_loss: 0.1371 - val_categorical_accuracy: 0.9672\n",
      "Epoch 16/30\n",
      "165/165 [==============================] - 17s 101ms/step - loss: 0.0692 - categorical_accuracy: 0.9804 - val_loss: 0.1422 - val_categorical_accuracy: 0.9656\n",
      "Epoch 17/30\n",
      "165/165 [==============================] - 16s 96ms/step - loss: 0.0639 - categorical_accuracy: 0.9810 - val_loss: 0.1559 - val_categorical_accuracy: 0.9594\n"
     ]
    }
   ],
   "source": [
    "history = model.fit(\n",
    "    train_generator64_32,\n",
    "    steps_per_epoch = 165,  # train_n_samples=5297; batch_size=32\n",
    "    epochs = 30,\n",
    "    callbacks = callbacks_list,\n",
    "    validation_data = validation_generator64_32,\n",
    "    validation_steps = 20 #  validation_n_samples=663; batch_size=32\n",
    ")"
   ]
  },
  {
   "cell_type": "code",
   "execution_count": 70,
   "id": "d076bb9e",
   "metadata": {
    "scrolled": false
   },
   "outputs": [
    {
     "data": {
      "image/png": "[encoded data removed]",
      "text/plain": [
       "<Figure size 432x288 with 1 Axes>"
      ]
     },
     "metadata": {
      "needs_background": "light"
     },
     "output_type": "display_data"
    },
    {
     "data": {
      "image/png": "[encoded data removed]",
      "text/plain": [
       "<Figure size 432x288 with 1 Axes>"
      ]
     },
     "metadata": {
      "needs_background": "light"
     },
     "output_type": "display_data"
    }
   ],
   "source": [
    "training_plots(history)"
   ]
  },
  {
   "cell_type": "code",
   "execution_count": 71,
   "id": "a3a2a81f",
   "metadata": {
    "scrolled": true
   },
   "outputs": [
    {
     "name": "stdout",
     "output_type": "stream",
     "text": [
      "Found 661 images belonging to 4 classes.\n"
     ]
    },
    {
     "name": "stderr",
     "output_type": "stream",
     "text": [
      "<ipython-input-10-a9619eae2628>:40: UserWarning: `Model.predict_generator` is deprecated and will be removed in a future version. Please use `Model.predict`, which supports generators.\n",
      "  Y_pred = model.predict_generator(generator, steps=epoch_steps)\n"
     ]
    },
    {
     "name": "stdout",
     "output_type": "stream",
     "text": [
      "                   precision    recall  f1-score   support\n",
      "\n",
      "    fully_covered       0.99      0.95      0.97       145\n",
      "      not_covered       0.99      0.98      0.99       366\n",
      "         not_face       0.90      1.00      0.94       111\n",
      "partially_covered       0.97      0.92      0.95        39\n",
      "\n",
      "         accuracy                           0.97       661\n",
      "        macro avg       0.96      0.96      0.96       661\n",
      "     weighted avg       0.97      0.97      0.97       661\n",
      "\n"
     ]
    }
   ],
   "source": [
    "model_evaluation_64_32(model, [test_directory])"
   ]
  },
  {
   "cell_type": "markdown",
   "id": "593283a2",
   "metadata": {},
   "source": [
    "### 1.5. Model 1 - 64x64px//batch_size = 64"
   ]
  },
  {
   "cell_type": "code",
   "execution_count": 72,
   "id": "6a18a401",
   "metadata": {},
   "outputs": [
    {
     "name": "stderr",
     "output_type": "stream",
     "text": [
      "D:\\anaconda3\\lib\\site-packages\\keras\\optimizer_v2\\rmsprop.py:130: UserWarning: The `lr` argument is deprecated, use `learning_rate` instead.\n",
      "  super(RMSprop, self).__init__(name, **kwargs)\n"
     ]
    }
   ],
   "source": [
    "model = models.Sequential()\n",
    "model.add(layers.Conv2D(32, (3,3), activation='relu', input_shape=(64,64,3)))\n",
    "model.add(layers.MaxPooling2D((2,2)))\n",
    "model.add(layers.Conv2D(64, (3,3), activation='relu'))\n",
    "model.add(layers.MaxPooling2D((2,2)))\n",
    "model.add(layers.Conv2D(128, (3,3), activation='relu'))\n",
    "model.add(layers.MaxPooling2D((2,2)))\n",
    "model.add(layers.Conv2D(128, (3,3), activation='relu'))\n",
    "model.add(layers.MaxPooling2D((2,2)))\n",
    "model.add(layers.Flatten())\n",
    "model.add(layers.Dense(512, activation='relu'))\n",
    "model.add(layers.Dense(4, activation='softmax'))\n",
    "\n",
    "model.compile(loss='categorical_crossentropy',\n",
    "             optimizer=optimizers.RMSprop(lr=1e-4),\n",
    "             metrics=['categorical_accuracy'])"
   ]
  },
  {
   "cell_type": "code",
   "execution_count": 73,
   "id": "b6376cdd",
   "metadata": {},
   "outputs": [
    {
     "name": "stdout",
     "output_type": "stream",
     "text": [
      "Epoch 1/30\n",
      "82/82 [==============================] - 15s 179ms/step - loss: 1.1110 - categorical_accuracy: 0.5555 - val_loss: 0.9716 - val_categorical_accuracy: 0.6016\n",
      "Epoch 2/30\n",
      "82/82 [==============================] - 13s 163ms/step - loss: 0.8455 - categorical_accuracy: 0.6969 - val_loss: 0.6839 - val_categorical_accuracy: 0.7781\n",
      "Epoch 3/30\n",
      "82/82 [==============================] - 13s 153ms/step - loss: 0.6268 - categorical_accuracy: 0.7669 - val_loss: 0.5363 - val_categorical_accuracy: 0.7984\n",
      "Epoch 4/30\n",
      "82/82 [==============================] - 13s 152ms/step - loss: 0.4982 - categorical_accuracy: 0.8188 - val_loss: 0.5133 - val_categorical_accuracy: 0.8203\n",
      "Epoch 5/30\n",
      "82/82 [==============================] - 13s 153ms/step - loss: 0.4298 - categorical_accuracy: 0.8410 - val_loss: 0.4127 - val_categorical_accuracy: 0.8438\n",
      "Epoch 6/30\n",
      "82/82 [==============================] - 13s 159ms/step - loss: 0.3795 - categorical_accuracy: 0.8676 - val_loss: 0.3684 - val_categorical_accuracy: 0.8484\n",
      "Epoch 7/30\n",
      "82/82 [==============================] - 14s 167ms/step - loss: 0.3350 - categorical_accuracy: 0.8830 - val_loss: 0.3452 - val_categorical_accuracy: 0.8813\n",
      "Epoch 8/30\n",
      "82/82 [==============================] - 14s 175ms/step - loss: 0.3072 - categorical_accuracy: 0.8962 - val_loss: 0.3041 - val_categorical_accuracy: 0.8938\n",
      "Epoch 9/30\n",
      "82/82 [==============================] - 14s 175ms/step - loss: 0.2748 - categorical_accuracy: 0.9090 - val_loss: 0.2743 - val_categorical_accuracy: 0.8922\n",
      "Epoch 10/30\n",
      "82/82 [==============================] - 13s 164ms/step - loss: 0.2471 - categorical_accuracy: 0.9180 - val_loss: 0.2816 - val_categorical_accuracy: 0.8797\n"
     ]
    }
   ],
   "source": [
    "history = model.fit(\n",
    "    train_generator64_64,\n",
    "    steps_per_epoch = 82,  # train_n_samples=5297; batch_size=64\n",
    "    epochs = 30,\n",
    "    callbacks = callbacks_list,\n",
    "    validation_data = validation_generator64_64,\n",
    "    validation_steps = 10 #  validation_n_samples=663; batch_size=64\n",
    ")"
   ]
  },
  {
   "cell_type": "code",
   "execution_count": 74,
   "id": "20306942",
   "metadata": {
    "scrolled": false
   },
   "outputs": [
    {
     "data": {
      "image/png": "[encoded data removed]",
      "text/plain": [
       "<Figure size 432x288 with 1 Axes>"
      ]
     },
     "metadata": {
      "needs_background": "light"
     },
     "output_type": "display_data"
    },
    {
     "data": {
      "image/png": "[encoded data removed]",
      "text/plain": [
       "<Figure size 432x288 with 1 Axes>"
      ]
     },
     "metadata": {
      "needs_background": "light"
     },
     "output_type": "display_data"
    }
   ],
   "source": [
    "training_plots(history)"
   ]
  },
  {
   "cell_type": "code",
   "execution_count": 75,
   "id": "b522662c",
   "metadata": {
    "scrolled": true
   },
   "outputs": [
    {
     "name": "stdout",
     "output_type": "stream",
     "text": [
      "Found 661 images belonging to 4 classes.\n"
     ]
    },
    {
     "name": "stderr",
     "output_type": "stream",
     "text": [
      "<ipython-input-10-a9619eae2628>:65: UserWarning: `Model.predict_generator` is deprecated and will be removed in a future version. Please use `Model.predict`, which supports generators.\n",
      "  Y_pred = model.predict_generator(generator, steps=epoch_steps)\n"
     ]
    },
    {
     "name": "stdout",
     "output_type": "stream",
     "text": [
      "                   precision    recall  f1-score   support\n",
      "\n",
      "    fully_covered       0.82      0.95      0.88       145\n",
      "      not_covered       0.94      0.95      0.94       366\n",
      "         not_face       0.90      0.70      0.79       111\n",
      "partially_covered       0.87      0.85      0.86        39\n",
      "\n",
      "         accuracy                           0.90       661\n",
      "        macro avg       0.88      0.86      0.87       661\n",
      "     weighted avg       0.90      0.90      0.90       661\n",
      "\n"
     ]
    }
   ],
   "source": [
    "model_evaluation_64_64(model, [test_directory])"
   ]
  },
  {
   "cell_type": "markdown",
   "id": "61832c14",
   "metadata": {},
   "source": [
    "### 1.6. Saving the best model Model 1"
   ]
  },
  {
   "cell_type": "markdown",
   "id": "0f0fd648",
   "metadata": {},
   "source": [
    "The best model is the one trained with images with image size = 64x64px and the chosen batch_size is 20"
   ]
  },
  {
   "cell_type": "code",
   "execution_count": 100,
   "id": "9d4ee8d0",
   "metadata": {},
   "outputs": [],
   "source": [
    "callbacks_list_saving_model1 = [\n",
    "    keras.callbacks.EarlyStopping(\n",
    "    monitor = 'val_categorical_accuracy',\n",
    "    patience = 2),\n",
    "    keras.callbacks.ModelCheckpoint(\n",
    "        filepath = 'saved_models/model1.h5',\n",
    "        monitor = 'val_categorical_accuracy',\n",
    "        save_best_only = True\n",
    "    )\n",
    "]"
   ]
  },
  {
   "cell_type": "code",
   "execution_count": 101,
   "id": "b65afdce",
   "metadata": {},
   "outputs": [
    {
     "name": "stderr",
     "output_type": "stream",
     "text": [
      "D:\\anaconda3\\lib\\site-packages\\keras\\optimizer_v2\\rmsprop.py:130: UserWarning: The `lr` argument is deprecated, use `learning_rate` instead.\n",
      "  super(RMSprop, self).__init__(name, **kwargs)\n"
     ]
    }
   ],
   "source": [
    "model = models.Sequential()\n",
    "model.add(layers.Conv2D(32, (3,3), activation='relu', input_shape=(64,64,3)))\n",
    "model.add(layers.MaxPooling2D((2,2)))\n",
    "model.add(layers.Conv2D(64, (3,3), activation='relu'))\n",
    "model.add(layers.MaxPooling2D((2,2)))\n",
    "model.add(layers.Conv2D(128, (3,3), activation='relu'))\n",
    "model.add(layers.MaxPooling2D((2,2)))\n",
    "model.add(layers.Conv2D(128, (3,3), activation='relu'))\n",
    "model.add(layers.MaxPooling2D((2,2)))\n",
    "model.add(layers.Flatten())\n",
    "model.add(layers.Dense(512, activation='relu'))\n",
    "model.add(layers.Dense(4, activation='softmax'))\n",
    "\n",
    "model.compile(loss='categorical_crossentropy',\n",
    "             optimizer=optimizers.RMSprop(lr=1e-4),\n",
    "             metrics=['categorical_accuracy'])"
   ]
  },
  {
   "cell_type": "code",
   "execution_count": 102,
   "id": "7a6895fd",
   "metadata": {},
   "outputs": [
    {
     "name": "stdout",
     "output_type": "stream",
     "text": [
      "Epoch 1/30\n",
      "264/264 [==============================] - 16s 60ms/step - loss: 0.9896 - categorical_accuracy: 0.6199 - val_loss: 0.7291 - val_categorical_accuracy: 0.7227\n",
      "Epoch 2/30\n",
      "264/264 [==============================] - 15s 57ms/step - loss: 0.5703 - categorical_accuracy: 0.7878 - val_loss: 0.4631 - val_categorical_accuracy: 0.8212\n",
      "Epoch 3/30\n",
      "264/264 [==============================] - 15s 58ms/step - loss: 0.3905 - categorical_accuracy: 0.8611 - val_loss: 0.3440 - val_categorical_accuracy: 0.8742\n",
      "Epoch 4/30\n",
      "264/264 [==============================] - 16s 61ms/step - loss: 0.3055 - categorical_accuracy: 0.8979 - val_loss: 0.2872 - val_categorical_accuracy: 0.9015\n",
      "Epoch 5/30\n",
      "264/264 [==============================] - 16s 61ms/step - loss: 0.2441 - categorical_accuracy: 0.9172 - val_loss: 0.2183 - val_categorical_accuracy: 0.9258\n",
      "Epoch 6/30\n",
      "264/264 [==============================] - 17s 62ms/step - loss: 0.1941 - categorical_accuracy: 0.9325 - val_loss: 0.1885 - val_categorical_accuracy: 0.9333\n",
      "Epoch 7/30\n",
      "264/264 [==============================] - 16s 59ms/step - loss: 0.1570 - categorical_accuracy: 0.9479 - val_loss: 0.1573 - val_categorical_accuracy: 0.9545\n",
      "Epoch 8/30\n",
      "264/264 [==============================] - 16s 59ms/step - loss: 0.1297 - categorical_accuracy: 0.9596 - val_loss: 0.1719 - val_categorical_accuracy: 0.9318\n",
      "Epoch 9/30\n",
      "264/264 [==============================] - 16s 60ms/step - loss: 0.1116 - categorical_accuracy: 0.9661 - val_loss: 0.1483 - val_categorical_accuracy: 0.9561\n",
      "Epoch 10/30\n",
      "264/264 [==============================] - 16s 59ms/step - loss: 0.0957 - categorical_accuracy: 0.9691 - val_loss: 0.1401 - val_categorical_accuracy: 0.9621\n",
      "Epoch 11/30\n",
      "264/264 [==============================] - 16s 59ms/step - loss: 0.0793 - categorical_accuracy: 0.9774 - val_loss: 0.1464 - val_categorical_accuracy: 0.9636\n",
      "Epoch 12/30\n",
      "264/264 [==============================] - 16s 60ms/step - loss: 0.0735 - categorical_accuracy: 0.9774 - val_loss: 0.1426 - val_categorical_accuracy: 0.9652\n",
      "Epoch 13/30\n",
      "264/264 [==============================] - 16s 61ms/step - loss: 0.0588 - categorical_accuracy: 0.9841 - val_loss: 0.1500 - val_categorical_accuracy: 0.9591\n",
      "Epoch 14/30\n",
      "264/264 [==============================] - 16s 62ms/step - loss: 0.0532 - categorical_accuracy: 0.9852 - val_loss: 0.1339 - val_categorical_accuracy: 0.9636\n"
     ]
    }
   ],
   "source": [
    "history = model.fit(\n",
    "    train_generator64_20,\n",
    "    steps_per_epoch = 264,  # train_n_samples=5297; batch_size=20\n",
    "    epochs = 30,\n",
    "    callbacks = callbacks_list_saving_model1,\n",
    "    validation_data = validation_generator64_20,\n",
    "    validation_steps = 33 #  validation_n_samples=663; batch_size=20\n",
    ")"
   ]
  },
  {
   "cell_type": "markdown",
   "id": "0d3c2d15",
   "metadata": {},
   "source": [
    "## 2. Model 2"
   ]
  },
  {
   "cell_type": "markdown",
   "id": "6065df9d",
   "metadata": {},
   "source": [
    "We will train this model for the 3 different image sizes (64x64px, 128x128px, 150x150px). After finding which one is the best, we will train the model for that image size, for different batch_sizes. This model is similar to model 1, but has a dropout layer (with value 0.5) after the flatten layer"
   ]
  },
  {
   "cell_type": "markdown",
   "id": "34a27478",
   "metadata": {},
   "source": [
    "### 2.1. Model 2 - 64x64px//batch_size = 20"
   ]
  },
  {
   "cell_type": "code",
   "execution_count": 27,
   "id": "db2b3f0a",
   "metadata": {},
   "outputs": [
    {
     "name": "stderr",
     "output_type": "stream",
     "text": [
      "D:\\anaconda3\\lib\\site-packages\\keras\\optimizer_v2\\rmsprop.py:130: UserWarning: The `lr` argument is deprecated, use `learning_rate` instead.\n",
      "  super(RMSprop, self).__init__(name, **kwargs)\n"
     ]
    }
   ],
   "source": [
    "model = models.Sequential()\n",
    "model.add(layers.Conv2D(32, (3,3), activation='relu', input_shape=(64,64,3)))\n",
    "model.add(layers.MaxPooling2D((2,2)))\n",
    "model.add(layers.Conv2D(64, (3,3), activation='relu'))\n",
    "model.add(layers.MaxPooling2D((2,2)))\n",
    "model.add(layers.Conv2D(128, (3,3), activation='relu'))\n",
    "model.add(layers.MaxPooling2D((2,2)))\n",
    "model.add(layers.Conv2D(128, (3,3), activation='relu'))\n",
    "model.add(layers.MaxPooling2D((2,2)))\n",
    "model.add(layers.Flatten())\n",
    "model.add(layers.Dropout(0.5))\n",
    "model.add(layers.Dense(512, activation='relu'))\n",
    "model.add(layers.Dense(4, activation='softmax'))\n",
    "\n",
    "model.compile(loss='categorical_crossentropy',\n",
    "             optimizer=optimizers.RMSprop(lr=1e-4),\n",
    "             metrics=['categorical_accuracy'])"
   ]
  },
  {
   "cell_type": "code",
   "execution_count": 28,
   "id": "7c3e9c73",
   "metadata": {},
   "outputs": [
    {
     "name": "stdout",
     "output_type": "stream",
     "text": [
      "Epoch 1/30\n",
      "264/264 [==============================] - 18s 67ms/step - loss: 1.0701 - categorical_accuracy: 0.5767 - val_loss: 0.8833 - val_categorical_accuracy: 0.6485\n",
      "Epoch 2/30\n",
      "264/264 [==============================] - 19s 70ms/step - loss: 0.7558 - categorical_accuracy: 0.7212 - val_loss: 0.5436 - val_categorical_accuracy: 0.7848\n",
      "Epoch 3/30\n",
      "264/264 [==============================] - 19s 70ms/step - loss: 0.5160 - categorical_accuracy: 0.8058 - val_loss: 0.4247 - val_categorical_accuracy: 0.8652\n",
      "Epoch 4/30\n",
      "264/264 [==============================] - 18s 69ms/step - loss: 0.4149 - categorical_accuracy: 0.8476 - val_loss: 0.3305 - val_categorical_accuracy: 0.8727\n",
      "Epoch 5/30\n",
      "264/264 [==============================] - 19s 72ms/step - loss: 0.3475 - categorical_accuracy: 0.8770 - val_loss: 0.2749 - val_categorical_accuracy: 0.9106\n",
      "Epoch 6/30\n",
      "264/264 [==============================] - 19s 71ms/step - loss: 0.2976 - categorical_accuracy: 0.8973 - val_loss: 0.2854 - val_categorical_accuracy: 0.8955\n",
      "Epoch 7/30\n",
      "264/264 [==============================] - 19s 72ms/step - loss: 0.2671 - categorical_accuracy: 0.9073 - val_loss: 0.2413 - val_categorical_accuracy: 0.9258\n",
      "Epoch 8/30\n",
      "264/264 [==============================] - 18s 69ms/step - loss: 0.2350 - categorical_accuracy: 0.9187 - val_loss: 0.2272 - val_categorical_accuracy: 0.9212\n",
      "Epoch 9/30\n",
      "264/264 [==============================] - 19s 71ms/step - loss: 0.2181 - categorical_accuracy: 0.9263 - val_loss: 0.2016 - val_categorical_accuracy: 0.9273\n",
      "Epoch 10/30\n",
      "264/264 [==============================] - 18s 68ms/step - loss: 0.1926 - categorical_accuracy: 0.9306 - val_loss: 0.1711 - val_categorical_accuracy: 0.9500\n",
      "Epoch 11/30\n",
      "264/264 [==============================] - 19s 71ms/step - loss: 0.1832 - categorical_accuracy: 0.9356 - val_loss: 0.1643 - val_categorical_accuracy: 0.9515\n",
      "Epoch 12/30\n",
      "264/264 [==============================] - 18s 68ms/step - loss: 0.1714 - categorical_accuracy: 0.9433 - val_loss: 0.1604 - val_categorical_accuracy: 0.9545\n",
      "Epoch 13/30\n",
      "264/264 [==============================] - 18s 70ms/step - loss: 0.1599 - categorical_accuracy: 0.9475 - val_loss: 0.1523 - val_categorical_accuracy: 0.9561\n",
      "Epoch 14/30\n",
      "264/264 [==============================] - 19s 70ms/step - loss: 0.1386 - categorical_accuracy: 0.9524 - val_loss: 0.1567 - val_categorical_accuracy: 0.9455\n",
      "Epoch 15/30\n",
      "264/264 [==============================] - 19s 70ms/step - loss: 0.1364 - categorical_accuracy: 0.9543 - val_loss: 0.1425 - val_categorical_accuracy: 0.9652\n",
      "Epoch 16/30\n",
      "264/264 [==============================] - 18s 70ms/step - loss: 0.1246 - categorical_accuracy: 0.9583 - val_loss: 0.1361 - val_categorical_accuracy: 0.9606\n",
      "Epoch 17/30\n",
      "264/264 [==============================] - 20s 74ms/step - loss: 0.1092 - categorical_accuracy: 0.9661 - val_loss: 0.1252 - val_categorical_accuracy: 0.9697\n",
      "Epoch 18/30\n",
      "264/264 [==============================] - 19s 70ms/step - loss: 0.1021 - categorical_accuracy: 0.9697 - val_loss: 0.1655 - val_categorical_accuracy: 0.9515\n",
      "Epoch 19/30\n",
      "264/264 [==============================] - 18s 70ms/step - loss: 0.0994 - categorical_accuracy: 0.9659 - val_loss: 0.1349 - val_categorical_accuracy: 0.9621\n"
     ]
    }
   ],
   "source": [
    "history = model.fit(\n",
    "    train_generator64_20,\n",
    "    steps_per_epoch = 264,  # train_n_samples=5297; batch_size=20\n",
    "    epochs = 30,\n",
    "    callbacks = callbacks_list,\n",
    "    validation_data = validation_generator64_20,\n",
    "    validation_steps = 33 #  validation_n_samples=663; batch_size=20\n",
    ")"
   ]
  },
  {
   "cell_type": "code",
   "execution_count": 29,
   "id": "b8f36b91",
   "metadata": {
    "scrolled": false
   },
   "outputs": [
    {
     "data": {
      "image/png": "[encoded data removed]",
      "text/plain": [
       "<Figure size 432x288 with 1 Axes>"
      ]
     },
     "metadata": {
      "needs_background": "light"
     },
     "output_type": "display_data"
    },
    {
     "data": {
      "image/png": "[encoded data removed]",
      "text/plain": [
       "<Figure size 432x288 with 1 Axes>"
      ]
     },
     "metadata": {
      "needs_background": "light"
     },
     "output_type": "display_data"
    }
   ],
   "source": [
    "training_plots(history)"
   ]
  },
  {
   "cell_type": "code",
   "execution_count": 30,
   "id": "9db85242",
   "metadata": {
    "scrolled": true
   },
   "outputs": [
    {
     "name": "stdout",
     "output_type": "stream",
     "text": [
      "Found 661 images belonging to 4 classes.\n"
     ]
    },
    {
     "name": "stderr",
     "output_type": "stream",
     "text": [
      "<ipython-input-10-a9619eae2628>:15: UserWarning: `Model.predict_generator` is deprecated and will be removed in a future version. Please use `Model.predict`, which supports generators.\n",
      "  Y_pred = model.predict_generator(generator, steps=epoch_steps)\n"
     ]
    },
    {
     "name": "stdout",
     "output_type": "stream",
     "text": [
      "                   precision    recall  f1-score   support\n",
      "\n",
      "    fully_covered       0.99      0.94      0.97       145\n",
      "      not_covered       0.98      0.99      0.98       366\n",
      "         not_face       0.93      1.00      0.96       111\n",
      "partially_covered       1.00      0.92      0.96        39\n",
      "\n",
      "         accuracy                           0.98       661\n",
      "        macro avg       0.98      0.96      0.97       661\n",
      "     weighted avg       0.98      0.98      0.98       661\n",
      "\n"
     ]
    }
   ],
   "source": [
    "model_evaluation_64_20(model, [test_directory])"
   ]
  },
  {
   "cell_type": "markdown",
   "id": "8a3e038b",
   "metadata": {},
   "source": [
    "### 2.2. Model 2 - 128x128px//batch_size = 20"
   ]
  },
  {
   "cell_type": "code",
   "execution_count": 31,
   "id": "85b0efa1",
   "metadata": {},
   "outputs": [
    {
     "name": "stderr",
     "output_type": "stream",
     "text": [
      "D:\\anaconda3\\lib\\site-packages\\keras\\optimizer_v2\\rmsprop.py:130: UserWarning: The `lr` argument is deprecated, use `learning_rate` instead.\n",
      "  super(RMSprop, self).__init__(name, **kwargs)\n"
     ]
    }
   ],
   "source": [
    "model = models.Sequential()\n",
    "model.add(layers.Conv2D(32, (3,3), activation='relu', input_shape=(128,128,3)))\n",
    "model.add(layers.MaxPooling2D((2,2)))\n",
    "model.add(layers.Conv2D(64, (3,3), activation='relu'))\n",
    "model.add(layers.MaxPooling2D((2,2)))\n",
    "model.add(layers.Conv2D(128, (3,3), activation='relu'))\n",
    "model.add(layers.MaxPooling2D((2,2)))\n",
    "model.add(layers.Conv2D(128, (3,3), activation='relu'))\n",
    "model.add(layers.MaxPooling2D((2,2)))\n",
    "model.add(layers.Flatten())\n",
    "model.add(layers.Dropout(0.5))\n",
    "model.add(layers.Dense(512, activation='relu'))\n",
    "model.add(layers.Dense(4, activation='softmax'))\n",
    "\n",
    "model.compile(loss='categorical_crossentropy',\n",
    "             optimizer=optimizers.RMSprop(lr=1e-4),\n",
    "             metrics=['categorical_accuracy'])"
   ]
  },
  {
   "cell_type": "code",
   "execution_count": 32,
   "id": "e36ae9c6",
   "metadata": {},
   "outputs": [
    {
     "name": "stdout",
     "output_type": "stream",
     "text": [
      "Epoch 1/30\n",
      "264/264 [==============================] - 74s 279ms/step - loss: 0.7795 - categorical_accuracy: 0.6960 - val_loss: 0.4456 - val_categorical_accuracy: 0.8561\n",
      "Epoch 2/30\n",
      "264/264 [==============================] - 82s 309ms/step - loss: 0.3790 - categorical_accuracy: 0.8728 - val_loss: 0.2930 - val_categorical_accuracy: 0.9152\n",
      "Epoch 3/30\n",
      "264/264 [==============================] - 105s 396ms/step - loss: 0.2660 - categorical_accuracy: 0.9113 - val_loss: 0.2671 - val_categorical_accuracy: 0.9136\n",
      "Epoch 4/30\n",
      "264/264 [==============================] - 92s 348ms/step - loss: 0.2265 - categorical_accuracy: 0.9244 - val_loss: 0.1921 - val_categorical_accuracy: 0.9364\n",
      "Epoch 5/30\n",
      "264/264 [==============================] - 74s 279ms/step - loss: 0.1876 - categorical_accuracy: 0.9386 - val_loss: 0.1648 - val_categorical_accuracy: 0.9455\n",
      "Epoch 6/30\n",
      "264/264 [==============================] - 75s 283ms/step - loss: 0.1552 - categorical_accuracy: 0.9488 - val_loss: 0.1724 - val_categorical_accuracy: 0.9470\n",
      "Epoch 7/30\n",
      "264/264 [==============================] - 89s 335ms/step - loss: 0.1438 - categorical_accuracy: 0.9558 - val_loss: 0.1430 - val_categorical_accuracy: 0.9591\n",
      "Epoch 8/30\n",
      "264/264 [==============================] - 77s 291ms/step - loss: 0.1296 - categorical_accuracy: 0.9593 - val_loss: 0.1337 - val_categorical_accuracy: 0.9576\n",
      "Epoch 9/30\n",
      "264/264 [==============================] - 74s 281ms/step - loss: 0.1105 - categorical_accuracy: 0.9655 - val_loss: 0.1394 - val_categorical_accuracy: 0.9530\n"
     ]
    }
   ],
   "source": [
    "history = model.fit(\n",
    "    train_generator128_20,\n",
    "    steps_per_epoch = 264,  # train_n_samples=5297; batch_size=20\n",
    "    epochs = 30,\n",
    "    callbacks = callbacks_list,\n",
    "    validation_data = validation_generator128_20,\n",
    "    validation_steps = 33 #  validation_n_samples=663; batch_size=20\n",
    ")"
   ]
  },
  {
   "cell_type": "code",
   "execution_count": 33,
   "id": "27ddec91",
   "metadata": {
    "scrolled": false
   },
   "outputs": [
    {
     "data": {
      "image/png": "[encoded data removed]",
      "text/plain": [
       "<Figure size 432x288 with 1 Axes>"
      ]
     },
     "metadata": {
      "needs_background": "light"
     },
     "output_type": "display_data"
    },
    {
     "data": {
      "image/png": "[encoded data removed]",
      "text/plain": [
       "<Figure size 432x288 with 1 Axes>"
      ]
     },
     "metadata": {
      "needs_background": "light"
     },
     "output_type": "display_data"
    }
   ],
   "source": [
    "training_plots(history)"
   ]
  },
  {
   "cell_type": "code",
   "execution_count": 34,
   "id": "390df5b0",
   "metadata": {
    "scrolled": true
   },
   "outputs": [
    {
     "name": "stdout",
     "output_type": "stream",
     "text": [
      "Found 661 images belonging to 4 classes.\n"
     ]
    },
    {
     "name": "stderr",
     "output_type": "stream",
     "text": [
      "<ipython-input-11-bad17ae776fb>:15: UserWarning: `Model.predict_generator` is deprecated and will be removed in a future version. Please use `Model.predict`, which supports generators.\n",
      "  Y_pred = model.predict_generator(generator, steps=epoch_steps)\n"
     ]
    },
    {
     "name": "stdout",
     "output_type": "stream",
     "text": [
      "                   precision    recall  f1-score   support\n",
      "\n",
      "    fully_covered       0.99      0.92      0.95       145\n",
      "      not_covered       0.96      0.99      0.97       366\n",
      "         not_face       0.95      0.94      0.95       111\n",
      "partially_covered       0.93      0.95      0.94        39\n",
      "\n",
      "         accuracy                           0.96       661\n",
      "        macro avg       0.96      0.95      0.95       661\n",
      "     weighted avg       0.96      0.96      0.96       661\n",
      "\n"
     ]
    }
   ],
   "source": [
    "model_evaluation_128_20(model, [test_directory])"
   ]
  },
  {
   "cell_type": "markdown",
   "id": "c8d5d693",
   "metadata": {},
   "source": [
    "### 2.3. Model 2 - 150x150px//batch_size = 20"
   ]
  },
  {
   "cell_type": "code",
   "execution_count": 35,
   "id": "708a0c34",
   "metadata": {},
   "outputs": [
    {
     "name": "stderr",
     "output_type": "stream",
     "text": [
      "D:\\anaconda3\\lib\\site-packages\\keras\\optimizer_v2\\rmsprop.py:130: UserWarning: The `lr` argument is deprecated, use `learning_rate` instead.\n",
      "  super(RMSprop, self).__init__(name, **kwargs)\n"
     ]
    }
   ],
   "source": [
    "model = models.Sequential()\n",
    "model.add(layers.Conv2D(32, (3,3), activation='relu', input_shape=(150,150,3)))\n",
    "model.add(layers.MaxPooling2D((2,2)))\n",
    "model.add(layers.Conv2D(64, (3,3), activation='relu'))\n",
    "model.add(layers.MaxPooling2D((2,2)))\n",
    "model.add(layers.Conv2D(128, (3,3), activation='relu'))\n",
    "model.add(layers.MaxPooling2D((2,2)))\n",
    "model.add(layers.Conv2D(128, (3,3), activation='relu'))\n",
    "model.add(layers.MaxPooling2D((2,2)))\n",
    "model.add(layers.Flatten())\n",
    "model.add(layers.Dropout(0.5))\n",
    "model.add(layers.Dense(512, activation='relu'))\n",
    "model.add(layers.Dense(4, activation='softmax'))\n",
    "\n",
    "model.compile(loss='categorical_crossentropy',\n",
    "             optimizer=optimizers.RMSprop(lr=1e-4),\n",
    "             metrics=['categorical_accuracy'])"
   ]
  },
  {
   "cell_type": "code",
   "execution_count": 36,
   "id": "5efb3acd",
   "metadata": {},
   "outputs": [
    {
     "name": "stdout",
     "output_type": "stream",
     "text": [
      "Epoch 1/30\n",
      "264/264 [==============================] - 104s 392ms/step - loss: 0.7479 - categorical_accuracy: 0.7044 - val_loss: 0.3931 - val_categorical_accuracy: 0.8727\n",
      "Epoch 2/30\n",
      "264/264 [==============================] - 114s 432ms/step - loss: 0.3597 - categorical_accuracy: 0.8755 - val_loss: 0.2887 - val_categorical_accuracy: 0.9106\n",
      "Epoch 3/30\n",
      "264/264 [==============================] - 121s 456ms/step - loss: 0.2735 - categorical_accuracy: 0.9094 - val_loss: 0.2301 - val_categorical_accuracy: 0.9212\n",
      "Epoch 4/30\n",
      "264/264 [==============================] - 108s 410ms/step - loss: 0.2122 - categorical_accuracy: 0.9301 - val_loss: 0.1933 - val_categorical_accuracy: 0.9394\n",
      "Epoch 5/30\n",
      "264/264 [==============================] - 106s 402ms/step - loss: 0.1821 - categorical_accuracy: 0.9416 - val_loss: 0.1846 - val_categorical_accuracy: 0.9348\n",
      "Epoch 6/30\n",
      "264/264 [==============================] - 106s 401ms/step - loss: 0.1610 - categorical_accuracy: 0.9468 - val_loss: 0.1563 - val_categorical_accuracy: 0.9500\n",
      "Epoch 7/30\n",
      "264/264 [==============================] - 109s 412ms/step - loss: 0.1364 - categorical_accuracy: 0.9574 - val_loss: 0.1527 - val_categorical_accuracy: 0.9530\n",
      "Epoch 8/30\n",
      "264/264 [==============================] - 109s 415ms/step - loss: 0.1216 - categorical_accuracy: 0.9604 - val_loss: 0.1345 - val_categorical_accuracy: 0.9545\n",
      "Epoch 9/30\n",
      "264/264 [==============================] - 111s 422ms/step - loss: 0.1030 - categorical_accuracy: 0.9676 - val_loss: 0.1474 - val_categorical_accuracy: 0.9500\n",
      "Epoch 10/30\n",
      "264/264 [==============================] - 114s 431ms/step - loss: 0.1032 - categorical_accuracy: 0.9682 - val_loss: 0.1353 - val_categorical_accuracy: 0.9591\n",
      "Epoch 11/30\n",
      "264/264 [==============================] - 110s 418ms/step - loss: 0.0949 - categorical_accuracy: 0.9693 - val_loss: 0.1448 - val_categorical_accuracy: 0.9545\n",
      "Epoch 12/30\n",
      "264/264 [==============================] - 109s 414ms/step - loss: 0.0748 - categorical_accuracy: 0.9756 - val_loss: 0.1185 - val_categorical_accuracy: 0.9697\n",
      "Epoch 13/30\n",
      "264/264 [==============================] - 109s 413ms/step - loss: 0.0726 - categorical_accuracy: 0.9782 - val_loss: 0.1250 - val_categorical_accuracy: 0.9712\n",
      "Epoch 14/30\n",
      "264/264 [==============================] - 110s 417ms/step - loss: 0.0688 - categorical_accuracy: 0.9773 - val_loss: 0.1132 - val_categorical_accuracy: 0.9682\n",
      "Epoch 15/30\n",
      "264/264 [==============================] - 115s 434ms/step - loss: 0.0628 - categorical_accuracy: 0.9793 - val_loss: 0.1161 - val_categorical_accuracy: 0.9712\n"
     ]
    }
   ],
   "source": [
    "history = model.fit(\n",
    "    train_generator150_20,\n",
    "    steps_per_epoch = 264,  # train_n_samples=5297; batch_size=20\n",
    "    epochs = 30,\n",
    "    callbacks = callbacks_list,\n",
    "    validation_data = validation_generator150_20,\n",
    "    validation_steps = 33 #  validation_n_samples=663; batch_size=20\n",
    ")"
   ]
  },
  {
   "cell_type": "code",
   "execution_count": 37,
   "id": "0fb96939",
   "metadata": {
    "scrolled": false
   },
   "outputs": [
    {
     "data": {
      "image/png": "[encoded data removed]",
      "text/plain": [
       "<Figure size 432x288 with 1 Axes>"
      ]
     },
     "metadata": {
      "needs_background": "light"
     },
     "output_type": "display_data"
    },
    {
     "data": {
      "image/png": "[encoded data removed]",
      "text/plain": [
       "<Figure size 432x288 with 1 Axes>"
      ]
     },
     "metadata": {
      "needs_background": "light"
     },
     "output_type": "display_data"
    }
   ],
   "source": [
    "training_plots(history)"
   ]
  },
  {
   "cell_type": "code",
   "execution_count": 38,
   "id": "5a459c5a",
   "metadata": {
    "scrolled": true
   },
   "outputs": [
    {
     "name": "stdout",
     "output_type": "stream",
     "text": [
      "Found 661 images belonging to 4 classes.\n"
     ]
    },
    {
     "name": "stderr",
     "output_type": "stream",
     "text": [
      "<ipython-input-12-e59ee181f5d9>:15: UserWarning: `Model.predict_generator` is deprecated and will be removed in a future version. Please use `Model.predict`, which supports generators.\n",
      "  Y_pred = model.predict_generator(generator, steps=epoch_steps)\n"
     ]
    },
    {
     "name": "stdout",
     "output_type": "stream",
     "text": [
      "                   precision    recall  f1-score   support\n",
      "\n",
      "    fully_covered       0.99      0.99      0.99       145\n",
      "      not_covered       0.99      0.99      0.99       366\n",
      "         not_face       0.94      0.98      0.96       111\n",
      "partially_covered       1.00      0.92      0.96        39\n",
      "\n",
      "         accuracy                           0.98       661\n",
      "        macro avg       0.98      0.97      0.97       661\n",
      "     weighted avg       0.98      0.98      0.98       661\n",
      "\n"
     ]
    }
   ],
   "source": [
    "model_evaluation_150_20(model, [test_directory])"
   ]
  },
  {
   "cell_type": "markdown",
   "id": "09495f4a",
   "metadata": {},
   "source": [
    "### 2.4. Model 2 - 64x64px//batch_size = 32"
   ]
  },
  {
   "cell_type": "code",
   "execution_count": 76,
   "id": "7d5696a5",
   "metadata": {},
   "outputs": [
    {
     "name": "stderr",
     "output_type": "stream",
     "text": [
      "D:\\anaconda3\\lib\\site-packages\\keras\\optimizer_v2\\rmsprop.py:130: UserWarning: The `lr` argument is deprecated, use `learning_rate` instead.\n",
      "  super(RMSprop, self).__init__(name, **kwargs)\n"
     ]
    }
   ],
   "source": [
    "model = models.Sequential()\n",
    "model.add(layers.Conv2D(32, (3,3), activation='relu', input_shape=(64,64,3)))\n",
    "model.add(layers.MaxPooling2D((2,2)))\n",
    "model.add(layers.Conv2D(64, (3,3), activation='relu'))\n",
    "model.add(layers.MaxPooling2D((2,2)))\n",
    "model.add(layers.Conv2D(128, (3,3), activation='relu'))\n",
    "model.add(layers.MaxPooling2D((2,2)))\n",
    "model.add(layers.Conv2D(128, (3,3), activation='relu'))\n",
    "model.add(layers.MaxPooling2D((2,2)))\n",
    "model.add(layers.Flatten())\n",
    "model.add(layers.Dropout(0.5))\n",
    "model.add(layers.Dense(512, activation='relu'))\n",
    "model.add(layers.Dense(4, activation='softmax'))\n",
    "\n",
    "model.compile(loss='categorical_crossentropy',\n",
    "             optimizer=optimizers.RMSprop(lr=1e-4),\n",
    "             metrics=['categorical_accuracy'])"
   ]
  },
  {
   "cell_type": "code",
   "execution_count": 77,
   "id": "99da6c89",
   "metadata": {},
   "outputs": [
    {
     "name": "stdout",
     "output_type": "stream",
     "text": [
      "Epoch 1/30\n",
      "165/165 [==============================] - 14s 80ms/step - loss: 1.1057 - categorical_accuracy: 0.5605 - val_loss: 0.9652 - val_categorical_accuracy: 0.5734\n",
      "Epoch 2/30\n",
      "165/165 [==============================] - 13s 81ms/step - loss: 0.8421 - categorical_accuracy: 0.6815 - val_loss: 0.6363 - val_categorical_accuracy: 0.7734\n",
      "Epoch 3/30\n",
      "165/165 [==============================] - 14s 84ms/step - loss: 0.6093 - categorical_accuracy: 0.7704 - val_loss: 0.4745 - val_categorical_accuracy: 0.8203\n",
      "Epoch 4/30\n",
      "165/165 [==============================] - 14s 88ms/step - loss: 0.4751 - categorical_accuracy: 0.8249 - val_loss: 0.4293 - val_categorical_accuracy: 0.8109\n",
      "Epoch 5/30\n",
      "165/165 [==============================] - 15s 92ms/step - loss: 0.4023 - categorical_accuracy: 0.8583 - val_loss: 0.3205 - val_categorical_accuracy: 0.8891\n",
      "Epoch 6/30\n",
      "165/165 [==============================] - 15s 93ms/step - loss: 0.3475 - categorical_accuracy: 0.8754 - val_loss: 0.2861 - val_categorical_accuracy: 0.8922\n",
      "Epoch 7/30\n",
      "165/165 [==============================] - 15s 92ms/step - loss: 0.3206 - categorical_accuracy: 0.8851 - val_loss: 0.2595 - val_categorical_accuracy: 0.9172\n",
      "Epoch 8/30\n",
      "165/165 [==============================] - 14s 83ms/step - loss: 0.2823 - categorical_accuracy: 0.8967 - val_loss: 0.2289 - val_categorical_accuracy: 0.9187\n",
      "Epoch 9/30\n",
      "165/165 [==============================] - 14s 83ms/step - loss: 0.2514 - categorical_accuracy: 0.9134 - val_loss: 0.2289 - val_categorical_accuracy: 0.9172\n",
      "Epoch 10/30\n",
      "165/165 [==============================] - 14s 87ms/step - loss: 0.2306 - categorical_accuracy: 0.9212 - val_loss: 0.2146 - val_categorical_accuracy: 0.9219\n",
      "Epoch 11/30\n",
      "165/165 [==============================] - 15s 92ms/step - loss: 0.2137 - categorical_accuracy: 0.9297 - val_loss: 0.1821 - val_categorical_accuracy: 0.9406\n",
      "Epoch 12/30\n",
      "165/165 [==============================] - 15s 92ms/step - loss: 0.1942 - categorical_accuracy: 0.9339 - val_loss: 0.2220 - val_categorical_accuracy: 0.9312\n",
      "Epoch 13/30\n",
      "165/165 [==============================] - 15s 92ms/step - loss: 0.1764 - categorical_accuracy: 0.9415 - val_loss: 0.1630 - val_categorical_accuracy: 0.9516\n",
      "Epoch 14/30\n",
      "165/165 [==============================] - 15s 92ms/step - loss: 0.1706 - categorical_accuracy: 0.9430 - val_loss: 0.1533 - val_categorical_accuracy: 0.9531\n",
      "Epoch 15/30\n",
      "165/165 [==============================] - 14s 84ms/step - loss: 0.1498 - categorical_accuracy: 0.9491 - val_loss: 0.1579 - val_categorical_accuracy: 0.9469\n",
      "Epoch 16/30\n",
      "165/165 [==============================] - 13s 81ms/step - loss: 0.1413 - categorical_accuracy: 0.9537 - val_loss: 0.1465 - val_categorical_accuracy: 0.9609\n",
      "Epoch 17/30\n",
      "165/165 [==============================] - 14s 86ms/step - loss: 0.1325 - categorical_accuracy: 0.9599 - val_loss: 0.1336 - val_categorical_accuracy: 0.9578\n",
      "Epoch 18/30\n",
      "165/165 [==============================] - 15s 89ms/step - loss: 0.1281 - categorical_accuracy: 0.9603 - val_loss: 0.1589 - val_categorical_accuracy: 0.9484\n"
     ]
    }
   ],
   "source": [
    "history = model.fit(\n",
    "    train_generator64_32,\n",
    "    steps_per_epoch = 165,  # train_n_samples=5297; batch_size=32\n",
    "    epochs = 30,\n",
    "    callbacks = callbacks_list,\n",
    "    validation_data = validation_generator64_32,\n",
    "    validation_steps = 20 #  validation_n_samples=663; batch_size=32\n",
    ")"
   ]
  },
  {
   "cell_type": "code",
   "execution_count": 78,
   "id": "d1df965e",
   "metadata": {
    "scrolled": false
   },
   "outputs": [
    {
     "data": {
      "image/png": "[encoded data removed]",
      "text/plain": [
       "<Figure size 432x288 with 1 Axes>"
      ]
     },
     "metadata": {
      "needs_background": "light"
     },
     "output_type": "display_data"
    },
    {
     "data": {
      "image/png": "[encoded data removed]",
      "text/plain": [
       "<Figure size 432x288 with 1 Axes>"
      ]
     },
     "metadata": {
      "needs_background": "light"
     },
     "output_type": "display_data"
    }
   ],
   "source": [
    "training_plots(history)"
   ]
  },
  {
   "cell_type": "code",
   "execution_count": 79,
   "id": "4538c84a",
   "metadata": {
    "scrolled": true
   },
   "outputs": [
    {
     "name": "stdout",
     "output_type": "stream",
     "text": [
      "Found 661 images belonging to 4 classes.\n"
     ]
    },
    {
     "name": "stderr",
     "output_type": "stream",
     "text": [
      "<ipython-input-10-a9619eae2628>:40: UserWarning: `Model.predict_generator` is deprecated and will be removed in a future version. Please use `Model.predict`, which supports generators.\n",
      "  Y_pred = model.predict_generator(generator, steps=epoch_steps)\n"
     ]
    },
    {
     "name": "stdout",
     "output_type": "stream",
     "text": [
      "                   precision    recall  f1-score   support\n",
      "\n",
      "    fully_covered       0.90      0.97      0.93       145\n",
      "      not_covered       0.98      0.98      0.98       366\n",
      "         not_face       0.96      0.82      0.88       111\n",
      "partially_covered       0.84      0.92      0.88        39\n",
      "\n",
      "         accuracy                           0.95       661\n",
      "        macro avg       0.92      0.92      0.92       661\n",
      "     weighted avg       0.95      0.95      0.95       661\n",
      "\n"
     ]
    }
   ],
   "source": [
    "model_evaluation_64_32(model, [test_directory])"
   ]
  },
  {
   "cell_type": "markdown",
   "id": "456a4364",
   "metadata": {},
   "source": [
    "### 2.5. Model 2 - 64x64px//batch_size = 64"
   ]
  },
  {
   "cell_type": "code",
   "execution_count": 80,
   "id": "5acaf696",
   "metadata": {},
   "outputs": [
    {
     "name": "stderr",
     "output_type": "stream",
     "text": [
      "D:\\anaconda3\\lib\\site-packages\\keras\\optimizer_v2\\rmsprop.py:130: UserWarning: The `lr` argument is deprecated, use `learning_rate` instead.\n",
      "  super(RMSprop, self).__init__(name, **kwargs)\n"
     ]
    }
   ],
   "source": [
    "model = models.Sequential()\n",
    "model.add(layers.Conv2D(32, (3,3), activation='relu', input_shape=(64,64,3)))\n",
    "model.add(layers.MaxPooling2D((2,2)))\n",
    "model.add(layers.Conv2D(64, (3,3), activation='relu'))\n",
    "model.add(layers.MaxPooling2D((2,2)))\n",
    "model.add(layers.Conv2D(128, (3,3), activation='relu'))\n",
    "model.add(layers.MaxPooling2D((2,2)))\n",
    "model.add(layers.Conv2D(128, (3,3), activation='relu'))\n",
    "model.add(layers.MaxPooling2D((2,2)))\n",
    "model.add(layers.Flatten())\n",
    "model.add(layers.Dropout(0.5))\n",
    "model.add(layers.Dense(512, activation='relu'))\n",
    "model.add(layers.Dense(4, activation='softmax'))\n",
    "\n",
    "model.compile(loss='categorical_crossentropy',\n",
    "             optimizer=optimizers.RMSprop(lr=1e-4),\n",
    "             metrics=['categorical_accuracy'])"
   ]
  },
  {
   "cell_type": "code",
   "execution_count": 81,
   "id": "17b4782c",
   "metadata": {},
   "outputs": [
    {
     "name": "stdout",
     "output_type": "stream",
     "text": [
      "Epoch 1/30\n",
      "82/82 [==============================] - 15s 174ms/step - loss: 1.1364 - categorical_accuracy: 0.5500 - val_loss: 1.0342 - val_categorical_accuracy: 0.5609\n",
      "Epoch 2/30\n",
      "82/82 [==============================] - 14s 167ms/step - loss: 0.9694 - categorical_accuracy: 0.6197 - val_loss: 0.8642 - val_categorical_accuracy: 0.6687\n",
      "Epoch 3/30\n",
      "82/82 [==============================] - 14s 169ms/step - loss: 0.8112 - categorical_accuracy: 0.6973 - val_loss: 0.6901 - val_categorical_accuracy: 0.7609\n",
      "Epoch 4/30\n",
      "82/82 [==============================] - 14s 170ms/step - loss: 0.6731 - categorical_accuracy: 0.7418 - val_loss: 0.5481 - val_categorical_accuracy: 0.7859\n",
      "Epoch 5/30\n",
      "82/82 [==============================] - 13s 162ms/step - loss: 0.5657 - categorical_accuracy: 0.7873 - val_loss: 0.4851 - val_categorical_accuracy: 0.8000\n",
      "Epoch 6/30\n",
      "82/82 [==============================] - 12s 151ms/step - loss: 0.4894 - categorical_accuracy: 0.8179 - val_loss: 0.4430 - val_categorical_accuracy: 0.8328\n",
      "Epoch 7/30\n",
      "82/82 [==============================] - 13s 154ms/step - loss: 0.4188 - categorical_accuracy: 0.8467 - val_loss: 0.3816 - val_categorical_accuracy: 0.8609\n",
      "Epoch 8/30\n",
      "82/82 [==============================] - 13s 160ms/step - loss: 0.3895 - categorical_accuracy: 0.8555 - val_loss: 0.3711 - val_categorical_accuracy: 0.8625\n",
      "Epoch 9/30\n",
      "82/82 [==============================] - 14s 168ms/step - loss: 0.3519 - categorical_accuracy: 0.8773 - val_loss: 0.3037 - val_categorical_accuracy: 0.8922\n",
      "Epoch 10/30\n",
      "82/82 [==============================] - 14s 171ms/step - loss: 0.3271 - categorical_accuracy: 0.8861 - val_loss: 0.3098 - val_categorical_accuracy: 0.8969\n",
      "Epoch 11/30\n",
      "82/82 [==============================] - 14s 172ms/step - loss: 0.3011 - categorical_accuracy: 0.8920 - val_loss: 0.2645 - val_categorical_accuracy: 0.9062\n",
      "Epoch 12/30\n",
      "82/82 [==============================] - 14s 170ms/step - loss: 0.2888 - categorical_accuracy: 0.8985 - val_loss: 0.2789 - val_categorical_accuracy: 0.9078\n",
      "Epoch 13/30\n",
      "82/82 [==============================] - 14s 171ms/step - loss: 0.2690 - categorical_accuracy: 0.9098 - val_loss: 0.2173 - val_categorical_accuracy: 0.9234\n",
      "Epoch 14/30\n",
      "82/82 [==============================] - 14s 171ms/step - loss: 0.2582 - categorical_accuracy: 0.9131 - val_loss: 0.2378 - val_categorical_accuracy: 0.9297\n",
      "Epoch 15/30\n",
      "82/82 [==============================] - 15s 187ms/step - loss: 0.2418 - categorical_accuracy: 0.9169 - val_loss: 0.2553 - val_categorical_accuracy: 0.9187\n",
      "Epoch 16/30\n",
      "82/82 [==============================] - 17s 202ms/step - loss: 0.2357 - categorical_accuracy: 0.9215 - val_loss: 0.2094 - val_categorical_accuracy: 0.9266\n"
     ]
    }
   ],
   "source": [
    "history = model.fit(\n",
    "    train_generator64_64,\n",
    "    steps_per_epoch = 82,  # train_n_samples=5297; batch_size=64\n",
    "    epochs = 30,\n",
    "    callbacks = callbacks_list,\n",
    "    validation_data = validation_generator64_64,\n",
    "    validation_steps = 10 #  validation_n_samples=663; batch_size=64\n",
    ")"
   ]
  },
  {
   "cell_type": "code",
   "execution_count": 82,
   "id": "dc0b74f6",
   "metadata": {
    "scrolled": false
   },
   "outputs": [
    {
     "data": {
      "image/png": "[encoded data removed]",
      "text/plain": [
       "<Figure size 432x288 with 1 Axes>"
      ]
     },
     "metadata": {
      "needs_background": "light"
     },
     "output_type": "display_data"
    },
    {
     "data": {
      "image/png": "[encoded data removed]",
      "text/plain": [
       "<Figure size 432x288 with 1 Axes>"
      ]
     },
     "metadata": {
      "needs_background": "light"
     },
     "output_type": "display_data"
    }
   ],
   "source": [
    "training_plots(history)"
   ]
  },
  {
   "cell_type": "code",
   "execution_count": 83,
   "id": "1a601d63",
   "metadata": {
    "scrolled": true
   },
   "outputs": [
    {
     "name": "stdout",
     "output_type": "stream",
     "text": [
      "Found 661 images belonging to 4 classes.\n"
     ]
    },
    {
     "name": "stderr",
     "output_type": "stream",
     "text": [
      "<ipython-input-10-a9619eae2628>:65: UserWarning: `Model.predict_generator` is deprecated and will be removed in a future version. Please use `Model.predict`, which supports generators.\n",
      "  Y_pred = model.predict_generator(generator, steps=epoch_steps)\n"
     ]
    },
    {
     "name": "stdout",
     "output_type": "stream",
     "text": [
      "                   precision    recall  f1-score   support\n",
      "\n",
      "    fully_covered       0.93      0.93      0.93       145\n",
      "      not_covered       0.94      0.98      0.96       366\n",
      "         not_face       0.90      0.79      0.84       111\n",
      "partially_covered       0.97      0.92      0.95        39\n",
      "\n",
      "         accuracy                           0.93       661\n",
      "        macro avg       0.94      0.91      0.92       661\n",
      "     weighted avg       0.93      0.93      0.93       661\n",
      "\n"
     ]
    }
   ],
   "source": [
    "model_evaluation_64_64(model, [test_directory])"
   ]
  },
  {
   "cell_type": "markdown",
   "id": "15ace7fb",
   "metadata": {},
   "source": [
    "### 2.6. Saving the best model Model 2"
   ]
  },
  {
   "cell_type": "markdown",
   "id": "0dea0819",
   "metadata": {},
   "source": [
    "The best model is the one trained with images with image size = 64x64px and the chosen batch_size is 20"
   ]
  },
  {
   "cell_type": "code",
   "execution_count": 103,
   "id": "9647c112",
   "metadata": {},
   "outputs": [],
   "source": [
    "callbacks_list_saving_model2 = [\n",
    "    keras.callbacks.EarlyStopping(\n",
    "    monitor = 'val_categorical_accuracy',\n",
    "    patience = 2),\n",
    "    keras.callbacks.ModelCheckpoint(\n",
    "        filepath = 'saved_models/model2.h5',\n",
    "        monitor = 'val_categorical_accuracy',\n",
    "        save_best_only = True\n",
    "    )\n",
    "]"
   ]
  },
  {
   "cell_type": "code",
   "execution_count": 104,
   "id": "4a7ba680",
   "metadata": {},
   "outputs": [],
   "source": [
    "model = models.Sequential()\n",
    "model.add(layers.Conv2D(32, (3,3), activation='relu', input_shape=(64,64,3)))\n",
    "model.add(layers.MaxPooling2D((2,2)))\n",
    "model.add(layers.Conv2D(64, (3,3), activation='relu'))\n",
    "model.add(layers.MaxPooling2D((2,2)))\n",
    "model.add(layers.Conv2D(128, (3,3), activation='relu'))\n",
    "model.add(layers.MaxPooling2D((2,2)))\n",
    "model.add(layers.Conv2D(128, (3,3), activation='relu'))\n",
    "model.add(layers.MaxPooling2D((2,2)))\n",
    "model.add(layers.Flatten())\n",
    "model.add(layers.Dropout(0.5))\n",
    "model.add(layers.Dense(512, activation='relu'))\n",
    "model.add(layers.Dense(4, activation='softmax'))\n",
    "\n",
    "model.compile(loss='categorical_crossentropy',\n",
    "             optimizer=optimizers.RMSprop(lr=1e-4),\n",
    "             metrics=['categorical_accuracy'])"
   ]
  },
  {
   "cell_type": "code",
   "execution_count": 105,
   "id": "03e26715",
   "metadata": {},
   "outputs": [
    {
     "name": "stdout",
     "output_type": "stream",
     "text": [
      "Epoch 1/30\n",
      "264/264 [==============================] - 16s 59ms/step - loss: 1.0696 - categorical_accuracy: 0.5710 - val_loss: 0.8760 - val_categorical_accuracy: 0.6833\n",
      "Epoch 2/30\n",
      "264/264 [==============================] - 15s 58ms/step - loss: 0.7606 - categorical_accuracy: 0.7169 - val_loss: 0.5833 - val_categorical_accuracy: 0.7652\n",
      "Epoch 3/30\n",
      "264/264 [==============================] - 15s 58ms/step - loss: 0.5208 - categorical_accuracy: 0.8010 - val_loss: 0.4509 - val_categorical_accuracy: 0.8258\n",
      "Epoch 4/30\n",
      "264/264 [==============================] - 15s 57ms/step - loss: 0.4121 - categorical_accuracy: 0.8528 - val_loss: 0.3345 - val_categorical_accuracy: 0.8848\n",
      "Epoch 5/30\n",
      "264/264 [==============================] - 16s 59ms/step - loss: 0.3559 - categorical_accuracy: 0.8783 - val_loss: 0.2958 - val_categorical_accuracy: 0.8894\n",
      "Epoch 6/30\n",
      "264/264 [==============================] - 16s 61ms/step - loss: 0.3007 - categorical_accuracy: 0.8992 - val_loss: 0.2395 - val_categorical_accuracy: 0.9364\n",
      "Epoch 7/30\n",
      "264/264 [==============================] - 17s 63ms/step - loss: 0.2608 - categorical_accuracy: 0.9136 - val_loss: 0.2496 - val_categorical_accuracy: 0.9227\n",
      "Epoch 8/30\n",
      "264/264 [==============================] - 16s 59ms/step - loss: 0.2361 - categorical_accuracy: 0.9202 - val_loss: 0.1867 - val_categorical_accuracy: 0.9364\n"
     ]
    }
   ],
   "source": [
    "history = model.fit(\n",
    "    train_generator64_20,\n",
    "    steps_per_epoch = 264,  # train_n_samples=5297; batch_size=20\n",
    "    epochs = 30,\n",
    "    callbacks = callbacks_list_saving_model2,\n",
    "    validation_data = validation_generator64_20,\n",
    "    validation_steps = 33 #  validation_n_samples=663; batch_size=20\n",
    ")"
   ]
  },
  {
   "cell_type": "markdown",
   "id": "9755ade2",
   "metadata": {},
   "source": [
    "## 3. Model 3"
   ]
  },
  {
   "cell_type": "markdown",
   "id": "867aec5a",
   "metadata": {},
   "source": [
    "We will train this model for the 3 different image sizes (64x64px, 128x128px, 150x150px). After finding which one is the best, we will train the model for that image size, for different batch_sizes. This model is similar to model 2, but has a dropout layer (with value 0.2) after the flatten layer"
   ]
  },
  {
   "cell_type": "markdown",
   "id": "0c8b8bbe",
   "metadata": {},
   "source": [
    "### 3.1. Model 3 - 64x64px//batch_size = 20"
   ]
  },
  {
   "cell_type": "code",
   "execution_count": 39,
   "id": "bc745927",
   "metadata": {},
   "outputs": [
    {
     "name": "stderr",
     "output_type": "stream",
     "text": [
      "D:\\anaconda3\\lib\\site-packages\\keras\\optimizer_v2\\rmsprop.py:130: UserWarning: The `lr` argument is deprecated, use `learning_rate` instead.\n",
      "  super(RMSprop, self).__init__(name, **kwargs)\n"
     ]
    }
   ],
   "source": [
    "model = models.Sequential()\n",
    "model.add(layers.Conv2D(32, (3,3), activation='relu', input_shape=(64,64,3)))\n",
    "model.add(layers.MaxPooling2D((2,2)))\n",
    "model.add(layers.Conv2D(64, (3,3), activation='relu'))\n",
    "model.add(layers.MaxPooling2D((2,2)))\n",
    "model.add(layers.Conv2D(128, (3,3), activation='relu'))\n",
    "model.add(layers.MaxPooling2D((2,2)))\n",
    "model.add(layers.Conv2D(128, (3,3), activation='relu'))\n",
    "model.add(layers.MaxPooling2D((2,2)))\n",
    "model.add(layers.Flatten())\n",
    "model.add(layers.Dropout(0.2))\n",
    "model.add(layers.Dense(512, activation='relu'))\n",
    "model.add(layers.Dense(4, activation='softmax'))\n",
    "\n",
    "model.compile(loss='categorical_crossentropy',\n",
    "             optimizer=optimizers.RMSprop(lr=1e-4),\n",
    "             metrics=['categorical_accuracy'])"
   ]
  },
  {
   "cell_type": "code",
   "execution_count": 40,
   "id": "6176a91e",
   "metadata": {},
   "outputs": [
    {
     "name": "stdout",
     "output_type": "stream",
     "text": [
      "Epoch 1/30\n",
      "264/264 [==============================] - 22s 78ms/step - loss: 1.0340 - categorical_accuracy: 0.6020 - val_loss: 0.8751 - val_categorical_accuracy: 0.6652\n",
      "Epoch 2/30\n",
      "264/264 [==============================] - 19s 70ms/step - loss: 0.6683 - categorical_accuracy: 0.7544 - val_loss: 0.4810 - val_categorical_accuracy: 0.8121\n",
      "Epoch 3/30\n",
      "264/264 [==============================] - 19s 73ms/step - loss: 0.4564 - categorical_accuracy: 0.8291 - val_loss: 0.3943 - val_categorical_accuracy: 0.8439\n",
      "Epoch 4/30\n",
      "264/264 [==============================] - 20s 75ms/step - loss: 0.3636 - categorical_accuracy: 0.8696 - val_loss: 0.3232 - val_categorical_accuracy: 0.8758\n",
      "Epoch 5/30\n",
      "264/264 [==============================] - 18s 69ms/step - loss: 0.2983 - categorical_accuracy: 0.8926 - val_loss: 0.2767 - val_categorical_accuracy: 0.8924\n",
      "Epoch 6/30\n",
      "264/264 [==============================] - 18s 70ms/step - loss: 0.2516 - categorical_accuracy: 0.9119 - val_loss: 0.2131 - val_categorical_accuracy: 0.9288\n",
      "Epoch 7/30\n",
      "264/264 [==============================] - 18s 69ms/step - loss: 0.2089 - categorical_accuracy: 0.9310 - val_loss: 0.1984 - val_categorical_accuracy: 0.9364\n",
      "Epoch 8/30\n",
      "264/264 [==============================] - 18s 68ms/step - loss: 0.1832 - categorical_accuracy: 0.9388 - val_loss: 0.2031 - val_categorical_accuracy: 0.9242\n",
      "Epoch 9/30\n",
      "264/264 [==============================] - 18s 68ms/step - loss: 0.1563 - categorical_accuracy: 0.9458 - val_loss: 0.1568 - val_categorical_accuracy: 0.9515\n",
      "Epoch 10/30\n",
      "264/264 [==============================] - 18s 69ms/step - loss: 0.1437 - categorical_accuracy: 0.9513 - val_loss: 0.1857 - val_categorical_accuracy: 0.9348\n",
      "Epoch 11/30\n",
      "264/264 [==============================] - 18s 68ms/step - loss: 0.1272 - categorical_accuracy: 0.9585 - val_loss: 0.1779 - val_categorical_accuracy: 0.9409\n"
     ]
    }
   ],
   "source": [
    "history = model.fit(\n",
    "    train_generator64_20,\n",
    "    steps_per_epoch = 264,  # train_n_samples=5297; batch_size=20\n",
    "    epochs = 30,\n",
    "    callbacks = callbacks_list,\n",
    "    validation_data = validation_generator64_20,\n",
    "    validation_steps = 33 #  validation_n_samples=663; batch_size=20\n",
    ")"
   ]
  },
  {
   "cell_type": "code",
   "execution_count": 41,
   "id": "48bd74bf",
   "metadata": {
    "scrolled": false
   },
   "outputs": [
    {
     "data": {
      "image/png": "[encoded data removed]",
      "text/plain": [
       "<Figure size 432x288 with 1 Axes>"
      ]
     },
     "metadata": {
      "needs_background": "light"
     },
     "output_type": "display_data"
    },
    {
     "data": {
      "image/png": "[encoded data removed]",
      "text/plain": [
       "<Figure size 432x288 with 1 Axes>"
      ]
     },
     "metadata": {
      "needs_background": "light"
     },
     "output_type": "display_data"
    }
   ],
   "source": [
    "training_plots(history)"
   ]
  },
  {
   "cell_type": "code",
   "execution_count": 42,
   "id": "baa0b066",
   "metadata": {
    "scrolled": false
   },
   "outputs": [
    {
     "name": "stdout",
     "output_type": "stream",
     "text": [
      "Found 661 images belonging to 4 classes.\n"
     ]
    },
    {
     "name": "stderr",
     "output_type": "stream",
     "text": [
      "<ipython-input-10-a9619eae2628>:15: UserWarning: `Model.predict_generator` is deprecated and will be removed in a future version. Please use `Model.predict`, which supports generators.\n",
      "  Y_pred = model.predict_generator(generator, steps=epoch_steps)\n"
     ]
    },
    {
     "name": "stdout",
     "output_type": "stream",
     "text": [
      "                   precision    recall  f1-score   support\n",
      "\n",
      "    fully_covered       0.94      0.95      0.95       145\n",
      "      not_covered       1.00      0.95      0.97       366\n",
      "         not_face       0.83      0.96      0.89       111\n",
      "partially_covered       0.92      0.90      0.91        39\n",
      "\n",
      "         accuracy                           0.95       661\n",
      "        macro avg       0.92      0.94      0.93       661\n",
      "     weighted avg       0.95      0.95      0.95       661\n",
      "\n"
     ]
    }
   ],
   "source": [
    "model_evaluation_64_20(model, [test_directory])"
   ]
  },
  {
   "cell_type": "markdown",
   "id": "4cca72c1",
   "metadata": {},
   "source": [
    "### 3.2. Model 3 - 128x128px//batch_size = 20"
   ]
  },
  {
   "cell_type": "code",
   "execution_count": 43,
   "id": "1fecc10e",
   "metadata": {},
   "outputs": [
    {
     "name": "stderr",
     "output_type": "stream",
     "text": [
      "D:\\anaconda3\\lib\\site-packages\\keras\\optimizer_v2\\rmsprop.py:130: UserWarning: The `lr` argument is deprecated, use `learning_rate` instead.\n",
      "  super(RMSprop, self).__init__(name, **kwargs)\n"
     ]
    }
   ],
   "source": [
    "model = models.Sequential()\n",
    "model.add(layers.Conv2D(32, (3,3), activation='relu', input_shape=(128,128,3)))\n",
    "model.add(layers.MaxPooling2D((2,2)))\n",
    "model.add(layers.Conv2D(64, (3,3), activation='relu'))\n",
    "model.add(layers.MaxPooling2D((2,2)))\n",
    "model.add(layers.Conv2D(128, (3,3), activation='relu'))\n",
    "model.add(layers.MaxPooling2D((2,2)))\n",
    "model.add(layers.Conv2D(128, (3,3), activation='relu'))\n",
    "model.add(layers.MaxPooling2D((2,2)))\n",
    "model.add(layers.Flatten())\n",
    "model.add(layers.Dropout(0.2))\n",
    "model.add(layers.Dense(512, activation='relu'))\n",
    "model.add(layers.Dense(4, activation='softmax'))\n",
    "\n",
    "model.compile(loss='categorical_crossentropy',\n",
    "             optimizer=optimizers.RMSprop(lr=1e-4),\n",
    "             metrics=['categorical_accuracy'])"
   ]
  },
  {
   "cell_type": "code",
   "execution_count": 44,
   "id": "2838f267",
   "metadata": {},
   "outputs": [
    {
     "name": "stdout",
     "output_type": "stream",
     "text": [
      "Epoch 1/30\n",
      "264/264 [==============================] - 83s 311ms/step - loss: 0.6977 - categorical_accuracy: 0.7360 - val_loss: 0.3480 - val_categorical_accuracy: 0.8879\n",
      "Epoch 2/30\n",
      "264/264 [==============================] - 79s 299ms/step - loss: 0.3227 - categorical_accuracy: 0.8924 - val_loss: 0.2486 - val_categorical_accuracy: 0.9273\n",
      "Epoch 3/30\n",
      "264/264 [==============================] - 74s 282ms/step - loss: 0.2294 - categorical_accuracy: 0.9244 - val_loss: 0.2247 - val_categorical_accuracy: 0.9273\n",
      "Epoch 4/30\n",
      "264/264 [==============================] - 76s 286ms/step - loss: 0.1740 - categorical_accuracy: 0.9418 - val_loss: 0.1518 - val_categorical_accuracy: 0.9485\n",
      "Epoch 5/30\n",
      "264/264 [==============================] - 82s 312ms/step - loss: 0.1393 - categorical_accuracy: 0.9572 - val_loss: 0.1303 - val_categorical_accuracy: 0.9545\n",
      "Epoch 6/30\n",
      "264/264 [==============================] - 81s 307ms/step - loss: 0.1137 - categorical_accuracy: 0.9640 - val_loss: 0.1346 - val_categorical_accuracy: 0.9606\n",
      "Epoch 7/30\n",
      "264/264 [==============================] - 74s 281ms/step - loss: 0.0952 - categorical_accuracy: 0.9702 - val_loss: 0.1284 - val_categorical_accuracy: 0.9606\n",
      "Epoch 8/30\n",
      "264/264 [==============================] - 75s 284ms/step - loss: 0.0771 - categorical_accuracy: 0.9763 - val_loss: 0.1085 - val_categorical_accuracy: 0.9667\n",
      "Epoch 9/30\n",
      "264/264 [==============================] - 78s 294ms/step - loss: 0.0664 - categorical_accuracy: 0.9795 - val_loss: 0.2512 - val_categorical_accuracy: 0.9182\n",
      "Epoch 10/30\n",
      "264/264 [==============================] - 72s 271ms/step - loss: 0.0583 - categorical_accuracy: 0.9831 - val_loss: 0.1168 - val_categorical_accuracy: 0.9652\n"
     ]
    }
   ],
   "source": [
    "history = model.fit(\n",
    "    train_generator128_20,\n",
    "    steps_per_epoch = 264,  # train_n_samples=5297; batch_size=20\n",
    "    epochs = 30,\n",
    "    callbacks = callbacks_list,\n",
    "    validation_data = validation_generator128_20,\n",
    "    validation_steps = 33 #  validation_n_samples=663; batch_size=20\n",
    ")"
   ]
  },
  {
   "cell_type": "code",
   "execution_count": 45,
   "id": "c72437b3",
   "metadata": {
    "scrolled": false
   },
   "outputs": [
    {
     "data": {
      "image/png": "[encoded data removed]",
      "text/plain": [
       "<Figure size 432x288 with 1 Axes>"
      ]
     },
     "metadata": {
      "needs_background": "light"
     },
     "output_type": "display_data"
    },
    {
     "data": {
      "image/png": "[encoded data removed]",
      "text/plain": [
       "<Figure size 432x288 with 1 Axes>"
      ]
     },
     "metadata": {
      "needs_background": "light"
     },
     "output_type": "display_data"
    }
   ],
   "source": [
    "training_plots(history)"
   ]
  },
  {
   "cell_type": "code",
   "execution_count": 46,
   "id": "6cf4eebc",
   "metadata": {
    "scrolled": true
   },
   "outputs": [
    {
     "name": "stdout",
     "output_type": "stream",
     "text": [
      "Found 661 images belonging to 4 classes.\n"
     ]
    },
    {
     "name": "stderr",
     "output_type": "stream",
     "text": [
      "<ipython-input-11-bad17ae776fb>:15: UserWarning: `Model.predict_generator` is deprecated and will be removed in a future version. Please use `Model.predict`, which supports generators.\n",
      "  Y_pred = model.predict_generator(generator, steps=epoch_steps)\n"
     ]
    },
    {
     "name": "stdout",
     "output_type": "stream",
     "text": [
      "                   precision    recall  f1-score   support\n",
      "\n",
      "    fully_covered       0.97      0.98      0.98       145\n",
      "      not_covered       0.99      0.99      0.99       366\n",
      "         not_face       0.96      0.97      0.97       111\n",
      "partially_covered       0.97      0.95      0.96        39\n",
      "\n",
      "         accuracy                           0.98       661\n",
      "        macro avg       0.97      0.97      0.97       661\n",
      "     weighted avg       0.98      0.98      0.98       661\n",
      "\n"
     ]
    }
   ],
   "source": [
    "model_evaluation_128_20(model, [test_directory])"
   ]
  },
  {
   "cell_type": "markdown",
   "id": "0204f25e",
   "metadata": {},
   "source": [
    "### 3.3. Model 3 - 150x150px//batch_size = 20"
   ]
  },
  {
   "cell_type": "code",
   "execution_count": 47,
   "id": "0c68fac9",
   "metadata": {},
   "outputs": [
    {
     "name": "stderr",
     "output_type": "stream",
     "text": [
      "D:\\anaconda3\\lib\\site-packages\\keras\\optimizer_v2\\rmsprop.py:130: UserWarning: The `lr` argument is deprecated, use `learning_rate` instead.\n",
      "  super(RMSprop, self).__init__(name, **kwargs)\n"
     ]
    }
   ],
   "source": [
    "model = models.Sequential()\n",
    "model.add(layers.Conv2D(32, (3,3), activation='relu', input_shape=(150,150,3)))\n",
    "model.add(layers.MaxPooling2D((2,2)))\n",
    "model.add(layers.Conv2D(64, (3,3), activation='relu'))\n",
    "model.add(layers.MaxPooling2D((2,2)))\n",
    "model.add(layers.Conv2D(128, (3,3), activation='relu'))\n",
    "model.add(layers.MaxPooling2D((2,2)))\n",
    "model.add(layers.Conv2D(128, (3,3), activation='relu'))\n",
    "model.add(layers.MaxPooling2D((2,2)))\n",
    "model.add(layers.Flatten())\n",
    "model.add(layers.Dropout(0.2))\n",
    "model.add(layers.Dense(512, activation='relu'))\n",
    "model.add(layers.Dense(4, activation='softmax'))\n",
    "\n",
    "model.compile(loss='categorical_crossentropy',\n",
    "             optimizer=optimizers.RMSprop(lr=1e-4),\n",
    "             metrics=['categorical_accuracy'])"
   ]
  },
  {
   "cell_type": "code",
   "execution_count": 48,
   "id": "aab16587",
   "metadata": {},
   "outputs": [
    {
     "name": "stdout",
     "output_type": "stream",
     "text": [
      "Epoch 1/30\n",
      "264/264 [==============================] - 104s 392ms/step - loss: 0.6739 - categorical_accuracy: 0.7375 - val_loss: 0.3638 - val_categorical_accuracy: 0.8652\n",
      "Epoch 2/30\n",
      "264/264 [==============================] - 107s 404ms/step - loss: 0.3182 - categorical_accuracy: 0.8903 - val_loss: 0.2281 - val_categorical_accuracy: 0.9303\n",
      "Epoch 3/30\n",
      "264/264 [==============================] - 116s 439ms/step - loss: 0.2311 - categorical_accuracy: 0.9253 - val_loss: 0.2008 - val_categorical_accuracy: 0.9318\n",
      "Epoch 4/30\n",
      "264/264 [==============================] - 105s 397ms/step - loss: 0.1745 - categorical_accuracy: 0.9439 - val_loss: 0.1770 - val_categorical_accuracy: 0.9424\n",
      "Epoch 5/30\n",
      "264/264 [==============================] - 101s 384ms/step - loss: 0.1422 - categorical_accuracy: 0.9526 - val_loss: 0.1899 - val_categorical_accuracy: 0.9424\n",
      "Epoch 6/30\n",
      "264/264 [==============================] - 112s 425ms/step - loss: 0.1198 - categorical_accuracy: 0.9606 - val_loss: 0.1430 - val_categorical_accuracy: 0.9561\n",
      "Epoch 7/30\n",
      "264/264 [==============================] - 102s 387ms/step - loss: 0.1006 - categorical_accuracy: 0.9678 - val_loss: 0.1569 - val_categorical_accuracy: 0.9606\n",
      "Epoch 8/30\n",
      "264/264 [==============================] - 104s 394ms/step - loss: 0.0864 - categorical_accuracy: 0.9752 - val_loss: 0.1465 - val_categorical_accuracy: 0.9652\n",
      "Epoch 9/30\n",
      "264/264 [==============================] - 103s 390ms/step - loss: 0.0725 - categorical_accuracy: 0.9771 - val_loss: 0.1760 - val_categorical_accuracy: 0.9591\n",
      "Epoch 10/30\n",
      "264/264 [==============================] - 101s 381ms/step - loss: 0.0601 - categorical_accuracy: 0.9831 - val_loss: 0.1752 - val_categorical_accuracy: 0.9621\n"
     ]
    }
   ],
   "source": [
    "history = model.fit(\n",
    "    train_generator150_20,\n",
    "    steps_per_epoch = 264,  # train_n_samples=5297; batch_size=20\n",
    "    epochs = 30,\n",
    "    callbacks = callbacks_list,\n",
    "    validation_data = validation_generator150_20,\n",
    "    validation_steps = 33 #  validation_n_samples=663; batch_size=20\n",
    ")"
   ]
  },
  {
   "cell_type": "code",
   "execution_count": 49,
   "id": "7a952925",
   "metadata": {
    "scrolled": false
   },
   "outputs": [
    {
     "data": {
      "image/png": "[encoded data removed]",
      "text/plain": [
       "<Figure size 432x288 with 1 Axes>"
      ]
     },
     "metadata": {
      "needs_background": "light"
     },
     "output_type": "display_data"
    },
    {
     "data": {
      "image/png": "[encoded data removed]",
      "text/plain": [
       "<Figure size 432x288 with 1 Axes>"
      ]
     },
     "metadata": {
      "needs_background": "light"
     },
     "output_type": "display_data"
    }
   ],
   "source": [
    "training_plots(history)"
   ]
  },
  {
   "cell_type": "code",
   "execution_count": 50,
   "id": "cad19045",
   "metadata": {
    "scrolled": true
   },
   "outputs": [
    {
     "name": "stdout",
     "output_type": "stream",
     "text": [
      "Found 661 images belonging to 4 classes.\n"
     ]
    },
    {
     "name": "stderr",
     "output_type": "stream",
     "text": [
      "<ipython-input-12-e59ee181f5d9>:15: UserWarning: `Model.predict_generator` is deprecated and will be removed in a future version. Please use `Model.predict`, which supports generators.\n",
      "  Y_pred = model.predict_generator(generator, steps=epoch_steps)\n"
     ]
    },
    {
     "name": "stdout",
     "output_type": "stream",
     "text": [
      "                   precision    recall  f1-score   support\n",
      "\n",
      "    fully_covered       0.98      0.94      0.96       145\n",
      "      not_covered       0.98      0.99      0.98       366\n",
      "         not_face       0.93      0.98      0.96       111\n",
      "partially_covered       1.00      0.90      0.95        39\n",
      "\n",
      "         accuracy                           0.97       661\n",
      "        macro avg       0.97      0.95      0.96       661\n",
      "     weighted avg       0.97      0.97      0.97       661\n",
      "\n"
     ]
    }
   ],
   "source": [
    "model_evaluation_150_20(model, [test_directory])"
   ]
  },
  {
   "cell_type": "markdown",
   "id": "aa90ebd0",
   "metadata": {},
   "source": [
    "### 3.4. Model 3 - 64x64px//batch_size = 32"
   ]
  },
  {
   "cell_type": "code",
   "execution_count": 84,
   "id": "52920603",
   "metadata": {},
   "outputs": [
    {
     "name": "stderr",
     "output_type": "stream",
     "text": [
      "D:\\anaconda3\\lib\\site-packages\\keras\\optimizer_v2\\rmsprop.py:130: UserWarning: The `lr` argument is deprecated, use `learning_rate` instead.\n",
      "  super(RMSprop, self).__init__(name, **kwargs)\n"
     ]
    }
   ],
   "source": [
    "model = models.Sequential()\n",
    "model.add(layers.Conv2D(32, (3,3), activation='relu', input_shape=(64,64,3)))\n",
    "model.add(layers.MaxPooling2D((2,2)))\n",
    "model.add(layers.Conv2D(64, (3,3), activation='relu'))\n",
    "model.add(layers.MaxPooling2D((2,2)))\n",
    "model.add(layers.Conv2D(128, (3,3), activation='relu'))\n",
    "model.add(layers.MaxPooling2D((2,2)))\n",
    "model.add(layers.Conv2D(128, (3,3), activation='relu'))\n",
    "model.add(layers.MaxPooling2D((2,2)))\n",
    "model.add(layers.Flatten())\n",
    "model.add(layers.Dropout(0.2))\n",
    "model.add(layers.Dense(512, activation='relu'))\n",
    "model.add(layers.Dense(4, activation='softmax'))\n",
    "\n",
    "model.compile(loss='categorical_crossentropy',\n",
    "             optimizer=optimizers.RMSprop(lr=1e-4),\n",
    "             metrics=['categorical_accuracy'])"
   ]
  },
  {
   "cell_type": "code",
   "execution_count": 85,
   "id": "37579052",
   "metadata": {},
   "outputs": [
    {
     "name": "stdout",
     "output_type": "stream",
     "text": [
      "Epoch 1/30\n",
      "165/165 [==============================] - 18s 107ms/step - loss: 1.0546 - categorical_accuracy: 0.5899 - val_loss: 0.8562 - val_categorical_accuracy: 0.6875\n",
      "Epoch 2/30\n",
      "165/165 [==============================] - 16s 98ms/step - loss: 0.7480 - categorical_accuracy: 0.7229 - val_loss: 0.5903 - val_categorical_accuracy: 0.7906\n",
      "Epoch 3/30\n",
      "165/165 [==============================] - 18s 108ms/step - loss: 0.5250 - categorical_accuracy: 0.8127 - val_loss: 0.4295 - val_categorical_accuracy: 0.8328\n",
      "Epoch 4/30\n",
      "165/165 [==============================] - 17s 101ms/step - loss: 0.4236 - categorical_accuracy: 0.8452 - val_loss: 0.3781 - val_categorical_accuracy: 0.8625\n",
      "Epoch 5/30\n",
      "165/165 [==============================] - 17s 102ms/step - loss: 0.3564 - categorical_accuracy: 0.8733 - val_loss: 0.3283 - val_categorical_accuracy: 0.8766\n",
      "Epoch 6/30\n",
      "165/165 [==============================] - 17s 101ms/step - loss: 0.3115 - categorical_accuracy: 0.8902 - val_loss: 0.3100 - val_categorical_accuracy: 0.8938\n",
      "Epoch 7/30\n",
      "165/165 [==============================] - 17s 103ms/step - loss: 0.2802 - categorical_accuracy: 0.9010 - val_loss: 0.2503 - val_categorical_accuracy: 0.9172\n",
      "Epoch 8/30\n",
      "165/165 [==============================] - 17s 101ms/step - loss: 0.2464 - categorical_accuracy: 0.9166 - val_loss: 0.2382 - val_categorical_accuracy: 0.9234\n",
      "Epoch 9/30\n",
      "165/165 [==============================] - 16s 99ms/step - loss: 0.2241 - categorical_accuracy: 0.9238 - val_loss: 0.2157 - val_categorical_accuracy: 0.9375\n",
      "Epoch 10/30\n",
      "165/165 [==============================] - 16s 96ms/step - loss: 0.1977 - categorical_accuracy: 0.9343 - val_loss: 0.2381 - val_categorical_accuracy: 0.9156\n",
      "Epoch 11/30\n",
      "165/165 [==============================] - 16s 96ms/step - loss: 0.1801 - categorical_accuracy: 0.9404 - val_loss: 0.1866 - val_categorical_accuracy: 0.9484\n",
      "Epoch 12/30\n",
      "165/165 [==============================] - 16s 95ms/step - loss: 0.1679 - categorical_accuracy: 0.9409 - val_loss: 0.1800 - val_categorical_accuracy: 0.9469\n",
      "Epoch 13/30\n",
      "165/165 [==============================] - 16s 95ms/step - loss: 0.1557 - categorical_accuracy: 0.9512 - val_loss: 0.1771 - val_categorical_accuracy: 0.9469\n"
     ]
    }
   ],
   "source": [
    "history = model.fit(\n",
    "    train_generator64_32,\n",
    "    steps_per_epoch = 165,  # train_n_samples=5297; batch_size=32\n",
    "    epochs = 30,\n",
    "    callbacks = callbacks_list,\n",
    "    validation_data = validation_generator64_32,\n",
    "    validation_steps = 20 #  validation_n_samples=663; batch_size=32\n",
    ")"
   ]
  },
  {
   "cell_type": "code",
   "execution_count": 86,
   "id": "7132338c",
   "metadata": {
    "scrolled": false
   },
   "outputs": [
    {
     "data": {
      "image/png": "[encoded data removed]",
      "text/plain": [
       "<Figure size 432x288 with 1 Axes>"
      ]
     },
     "metadata": {
      "needs_background": "light"
     },
     "output_type": "display_data"
    },
    {
     "data": {
      "image/png": "[encoded data removed]",
      "text/plain": [
       "<Figure size 432x288 with 1 Axes>"
      ]
     },
     "metadata": {
      "needs_background": "light"
     },
     "output_type": "display_data"
    }
   ],
   "source": [
    "training_plots(history)"
   ]
  },
  {
   "cell_type": "code",
   "execution_count": 87,
   "id": "6e7173ba",
   "metadata": {
    "scrolled": true
   },
   "outputs": [
    {
     "name": "stdout",
     "output_type": "stream",
     "text": [
      "Found 661 images belonging to 4 classes.\n"
     ]
    },
    {
     "name": "stderr",
     "output_type": "stream",
     "text": [
      "<ipython-input-10-a9619eae2628>:40: UserWarning: `Model.predict_generator` is deprecated and will be removed in a future version. Please use `Model.predict`, which supports generators.\n",
      "  Y_pred = model.predict_generator(generator, steps=epoch_steps)\n"
     ]
    },
    {
     "name": "stdout",
     "output_type": "stream",
     "text": [
      "                   precision    recall  f1-score   support\n",
      "\n",
      "    fully_covered       0.97      0.96      0.96       145\n",
      "      not_covered       0.99      0.97      0.98       366\n",
      "         not_face       0.86      0.96      0.91       111\n",
      "partially_covered       1.00      0.90      0.95        39\n",
      "\n",
      "         accuracy                           0.96       661\n",
      "        macro avg       0.95      0.95      0.95       661\n",
      "     weighted avg       0.96      0.96      0.96       661\n",
      "\n"
     ]
    }
   ],
   "source": [
    "model_evaluation_64_32(model, [test_directory])"
   ]
  },
  {
   "cell_type": "markdown",
   "id": "c945ac51",
   "metadata": {},
   "source": [
    "### 3.5. Model 3 - 64x64px//batch_size = 64"
   ]
  },
  {
   "cell_type": "code",
   "execution_count": 88,
   "id": "0b7c6c61",
   "metadata": {},
   "outputs": [
    {
     "name": "stderr",
     "output_type": "stream",
     "text": [
      "D:\\anaconda3\\lib\\site-packages\\keras\\optimizer_v2\\rmsprop.py:130: UserWarning: The `lr` argument is deprecated, use `learning_rate` instead.\n",
      "  super(RMSprop, self).__init__(name, **kwargs)\n"
     ]
    }
   ],
   "source": [
    "model = models.Sequential()\n",
    "model.add(layers.Conv2D(32, (3,3), activation='relu', input_shape=(64,64,3)))\n",
    "model.add(layers.MaxPooling2D((2,2)))\n",
    "model.add(layers.Conv2D(64, (3,3), activation='relu'))\n",
    "model.add(layers.MaxPooling2D((2,2)))\n",
    "model.add(layers.Conv2D(128, (3,3), activation='relu'))\n",
    "model.add(layers.MaxPooling2D((2,2)))\n",
    "model.add(layers.Conv2D(128, (3,3), activation='relu'))\n",
    "model.add(layers.MaxPooling2D((2,2)))\n",
    "model.add(layers.Flatten())\n",
    "model.add(layers.Dropout(0.2))\n",
    "model.add(layers.Dense(512, activation='relu'))\n",
    "model.add(layers.Dense(4, activation='softmax'))\n",
    "\n",
    "model.compile(loss='categorical_crossentropy',\n",
    "             optimizer=optimizers.RMSprop(lr=1e-4),\n",
    "             metrics=['categorical_accuracy'])"
   ]
  },
  {
   "cell_type": "code",
   "execution_count": 89,
   "id": "f675df53",
   "metadata": {},
   "outputs": [
    {
     "name": "stdout",
     "output_type": "stream",
     "text": [
      "Epoch 1/30\n",
      "82/82 [==============================] - 15s 172ms/step - loss: 1.1236 - categorical_accuracy: 0.5561 - val_loss: 0.9960 - val_categorical_accuracy: 0.5641\n",
      "Epoch 2/30\n",
      "82/82 [==============================] - 14s 175ms/step - loss: 0.9398 - categorical_accuracy: 0.6327 - val_loss: 0.8700 - val_categorical_accuracy: 0.6187\n",
      "Epoch 3/30\n",
      "82/82 [==============================] - 15s 179ms/step - loss: 0.7840 - categorical_accuracy: 0.7015 - val_loss: 0.6580 - val_categorical_accuracy: 0.7609\n",
      "Epoch 4/30\n",
      "82/82 [==============================] - 15s 177ms/step - loss: 0.6321 - categorical_accuracy: 0.7638 - val_loss: 0.5546 - val_categorical_accuracy: 0.7859\n",
      "Epoch 5/30\n",
      "82/82 [==============================] - 14s 172ms/step - loss: 0.5231 - categorical_accuracy: 0.8036 - val_loss: 0.4819 - val_categorical_accuracy: 0.8062\n",
      "Epoch 6/30\n",
      "82/82 [==============================] - 14s 172ms/step - loss: 0.4486 - categorical_accuracy: 0.8376 - val_loss: 0.4674 - val_categorical_accuracy: 0.8250\n",
      "Epoch 7/30\n",
      "82/82 [==============================] - 14s 173ms/step - loss: 0.3990 - categorical_accuracy: 0.8530 - val_loss: 0.3673 - val_categorical_accuracy: 0.8609\n",
      "Epoch 8/30\n",
      "82/82 [==============================] - 14s 172ms/step - loss: 0.3609 - categorical_accuracy: 0.8699 - val_loss: 0.3229 - val_categorical_accuracy: 0.8953\n",
      "Epoch 9/30\n",
      "82/82 [==============================] - 14s 172ms/step - loss: 0.3274 - categorical_accuracy: 0.8869 - val_loss: 0.3122 - val_categorical_accuracy: 0.8938\n",
      "Epoch 10/30\n",
      "82/82 [==============================] - 14s 175ms/step - loss: 0.2893 - categorical_accuracy: 0.9001 - val_loss: 0.3538 - val_categorical_accuracy: 0.8703\n"
     ]
    }
   ],
   "source": [
    "history = model.fit(\n",
    "    train_generator64_64,\n",
    "    steps_per_epoch = 82,  # train_n_samples=5297; batch_size=64\n",
    "    epochs = 30,\n",
    "    callbacks = callbacks_list,\n",
    "    validation_data = validation_generator64_64,\n",
    "    validation_steps = 10 #  validation_n_samples=663; batch_size=64\n",
    ")"
   ]
  },
  {
   "cell_type": "code",
   "execution_count": 90,
   "id": "730d2fe6",
   "metadata": {
    "scrolled": false
   },
   "outputs": [
    {
     "data": {
      "image/png": "[encoded data removed]",
      "text/plain": [
       "<Figure size 432x288 with 1 Axes>"
      ]
     },
     "metadata": {
      "needs_background": "light"
     },
     "output_type": "display_data"
    },
    {
     "data": {
      "image/png": "[encoded data removed]",
      "text/plain": [
       "<Figure size 432x288 with 1 Axes>"
      ]
     },
     "metadata": {
      "needs_background": "light"
     },
     "output_type": "display_data"
    }
   ],
   "source": [
    "training_plots(history)"
   ]
  },
  {
   "cell_type": "code",
   "execution_count": 91,
   "id": "d49227fd",
   "metadata": {
    "scrolled": true
   },
   "outputs": [
    {
     "name": "stdout",
     "output_type": "stream",
     "text": [
      "Found 661 images belonging to 4 classes.\n"
     ]
    },
    {
     "name": "stderr",
     "output_type": "stream",
     "text": [
      "<ipython-input-10-a9619eae2628>:65: UserWarning: `Model.predict_generator` is deprecated and will be removed in a future version. Please use `Model.predict`, which supports generators.\n",
      "  Y_pred = model.predict_generator(generator, steps=epoch_steps)\n"
     ]
    },
    {
     "name": "stdout",
     "output_type": "stream",
     "text": [
      "                   precision    recall  f1-score   support\n",
      "\n",
      "    fully_covered       0.77      0.95      0.85       145\n",
      "      not_covered       0.94      0.93      0.94       366\n",
      "         not_face       0.89      0.60      0.72       111\n",
      "partially_covered       0.78      0.90      0.83        39\n",
      "\n",
      "         accuracy                           0.88       661\n",
      "        macro avg       0.85      0.85      0.84       661\n",
      "     weighted avg       0.89      0.88      0.88       661\n",
      "\n"
     ]
    }
   ],
   "source": [
    "model_evaluation_64_64(model, [test_directory])"
   ]
  },
  {
   "cell_type": "markdown",
   "id": "7a610031",
   "metadata": {},
   "source": [
    "### 3.6. Saving the best model Model 3"
   ]
  },
  {
   "cell_type": "markdown",
   "id": "b2732a59",
   "metadata": {},
   "source": [
    "The best model is the one trained with images with image size = 64x64px and the chosen batch_size is 32"
   ]
  },
  {
   "cell_type": "code",
   "execution_count": 106,
   "id": "28b8eb9e",
   "metadata": {},
   "outputs": [],
   "source": [
    "callbacks_list_saving_model3 = [\n",
    "    keras.callbacks.EarlyStopping(\n",
    "    monitor = 'val_categorical_accuracy',\n",
    "    patience = 2),\n",
    "    keras.callbacks.ModelCheckpoint(\n",
    "        filepath = 'saved_models/model3.h5',\n",
    "        monitor = 'val_categorical_accuracy',\n",
    "        save_best_only = True\n",
    "    )\n",
    "]"
   ]
  },
  {
   "cell_type": "code",
   "execution_count": 107,
   "id": "c0981176",
   "metadata": {},
   "outputs": [],
   "source": [
    "model = models.Sequential()\n",
    "model.add(layers.Conv2D(32, (3,3), activation='relu', input_shape=(64,64,3)))\n",
    "model.add(layers.MaxPooling2D((2,2)))\n",
    "model.add(layers.Conv2D(64, (3,3), activation='relu'))\n",
    "model.add(layers.MaxPooling2D((2,2)))\n",
    "model.add(layers.Conv2D(128, (3,3), activation='relu'))\n",
    "model.add(layers.MaxPooling2D((2,2)))\n",
    "model.add(layers.Conv2D(128, (3,3), activation='relu'))\n",
    "model.add(layers.MaxPooling2D((2,2)))\n",
    "model.add(layers.Flatten())\n",
    "model.add(layers.Dropout(0.2))\n",
    "model.add(layers.Dense(512, activation='relu'))\n",
    "model.add(layers.Dense(4, activation='softmax'))\n",
    "\n",
    "model.compile(loss='categorical_crossentropy',\n",
    "             optimizer=optimizers.RMSprop(lr=1e-4),\n",
    "             metrics=['categorical_accuracy'])"
   ]
  },
  {
   "cell_type": "code",
   "execution_count": 108,
   "id": "c1f28daf",
   "metadata": {},
   "outputs": [
    {
     "name": "stdout",
     "output_type": "stream",
     "text": [
      "Epoch 1/30\n",
      "165/165 [==============================] - 16s 91ms/step - loss: 1.0722 - categorical_accuracy: 0.5827 - val_loss: 0.8733 - val_categorical_accuracy: 0.6922\n",
      "Epoch 2/30\n",
      "165/165 [==============================] - 15s 92ms/step - loss: 0.7841 - categorical_accuracy: 0.7111 - val_loss: 0.6298 - val_categorical_accuracy: 0.7563\n",
      "Epoch 3/30\n",
      "165/165 [==============================] - 16s 98ms/step - loss: 0.5582 - categorical_accuracy: 0.7930 - val_loss: 0.4693 - val_categorical_accuracy: 0.8234\n",
      "Epoch 4/30\n",
      "165/165 [==============================] - 16s 97ms/step - loss: 0.4403 - categorical_accuracy: 0.8393 - val_loss: 0.3872 - val_categorical_accuracy: 0.8438\n",
      "Epoch 5/30\n",
      "165/165 [==============================] - 15s 90ms/step - loss: 0.3647 - categorical_accuracy: 0.8716 - val_loss: 0.3302 - val_categorical_accuracy: 0.8797\n",
      "Epoch 6/30\n",
      "165/165 [==============================] - 16s 95ms/step - loss: 0.3104 - categorical_accuracy: 0.8900 - val_loss: 0.3090 - val_categorical_accuracy: 0.9016\n",
      "Epoch 7/30\n",
      "165/165 [==============================] - 15s 90ms/step - loss: 0.2774 - categorical_accuracy: 0.9058 - val_loss: 0.2447 - val_categorical_accuracy: 0.9203\n",
      "Epoch 8/30\n",
      "165/165 [==============================] - 17s 100ms/step - loss: 0.2252 - categorical_accuracy: 0.9206 - val_loss: 0.2448 - val_categorical_accuracy: 0.9328\n",
      "Epoch 9/30\n",
      "165/165 [==============================] - 16s 97ms/step - loss: 0.2084 - categorical_accuracy: 0.9297 - val_loss: 0.2077 - val_categorical_accuracy: 0.9344\n",
      "Epoch 10/30\n",
      "165/165 [==============================] - 16s 98ms/step - loss: 0.1797 - categorical_accuracy: 0.9406 - val_loss: 0.1902 - val_categorical_accuracy: 0.9531\n",
      "Epoch 11/30\n",
      "165/165 [==============================] - 14s 87ms/step - loss: 0.1575 - categorical_accuracy: 0.9470 - val_loss: 0.1660 - val_categorical_accuracy: 0.9469\n",
      "Epoch 12/30\n",
      "165/165 [==============================] - 15s 89ms/step - loss: 0.1408 - categorical_accuracy: 0.9518 - val_loss: 0.2023 - val_categorical_accuracy: 0.9406\n"
     ]
    }
   ],
   "source": [
    "history = model.fit(\n",
    "    train_generator64_32,\n",
    "    steps_per_epoch = 165,  # train_n_samples=5297; batch_size=32\n",
    "    epochs = 30,\n",
    "    callbacks = callbacks_list_saving_model3,\n",
    "    validation_data = validation_generator64_32,\n",
    "    validation_steps = 20 #  validation_n_samples=663; batch_size=32\n",
    ")"
   ]
  },
  {
   "cell_type": "markdown",
   "id": "dcaf0f30",
   "metadata": {},
   "source": [
    "## 4. Model 4"
   ]
  },
  {
   "cell_type": "markdown",
   "id": "b23f7bf4",
   "metadata": {},
   "source": [
    "We will train this model for the 3 different image sizes (64x64px, 128x128px, 150x150px). After finding which one is the best, we will train the model for that image size, for different batch_sizes."
   ]
  },
  {
   "cell_type": "markdown",
   "id": "69fbffae",
   "metadata": {},
   "source": [
    "### 4.1. Model 4 - 64x64px//batch_size = 20"
   ]
  },
  {
   "cell_type": "code",
   "execution_count": 51,
   "id": "1f5a43c7",
   "metadata": {},
   "outputs": [
    {
     "name": "stderr",
     "output_type": "stream",
     "text": [
      "D:\\anaconda3\\lib\\site-packages\\keras\\optimizer_v2\\rmsprop.py:130: UserWarning: The `lr` argument is deprecated, use `learning_rate` instead.\n",
      "  super(RMSprop, self).__init__(name, **kwargs)\n"
     ]
    }
   ],
   "source": [
    "model = models.Sequential()\n",
    "model.add(layers.Conv2D(16, (3,3), activation='relu', input_shape=(64,64,3)))\n",
    "model.add(layers.MaxPooling2D((2,2)))\n",
    "model.add(layers.Conv2D(32, (3,3), activation='relu'))\n",
    "model.add(layers.MaxPooling2D((2,2)))\n",
    "model.add(layers.Dropout(0.2))\n",
    "model.add(layers.Conv2D(64, (3,3), activation='relu'))\n",
    "model.add(layers.MaxPooling2D((2,2)))\n",
    "model.add(layers.Dropout(0.2))\n",
    "model.add(layers.Conv2D(128, (3,3), activation='relu'))\n",
    "model.add(layers.MaxPooling2D((2,2)))\n",
    "model.add(layers.Flatten())\n",
    "model.add(layers.Dropout(0.2))\n",
    "model.add(layers.Dense(512, activation='relu'))\n",
    "model.add(layers.Dense(4, activation='softmax'))\n",
    "\n",
    "model.compile(loss='categorical_crossentropy',\n",
    "             optimizer=optimizers.RMSprop(lr=1e-4),\n",
    "             metrics=['categorical_accuracy'])"
   ]
  },
  {
   "cell_type": "code",
   "execution_count": 52,
   "id": "e70f59fd",
   "metadata": {},
   "outputs": [
    {
     "name": "stdout",
     "output_type": "stream",
     "text": [
      "Epoch 1/30\n",
      "264/264 [==============================] - 11s 39ms/step - loss: 1.1185 - categorical_accuracy: 0.5670 - val_loss: 1.0946 - val_categorical_accuracy: 0.6591\n",
      "Epoch 2/30\n",
      "264/264 [==============================] - 10s 37ms/step - loss: 0.9757 - categorical_accuracy: 0.6426 - val_loss: 0.9040 - val_categorical_accuracy: 0.7167\n",
      "Epoch 3/30\n",
      "264/264 [==============================] - 10s 37ms/step - loss: 0.8630 - categorical_accuracy: 0.6773 - val_loss: 0.8401 - val_categorical_accuracy: 0.7091\n",
      "Epoch 4/30\n",
      "264/264 [==============================] - 11s 40ms/step - loss: 0.7278 - categorical_accuracy: 0.7341 - val_loss: 0.6807 - val_categorical_accuracy: 0.7394\n",
      "Epoch 5/30\n",
      "264/264 [==============================] - 10s 39ms/step - loss: 0.5959 - categorical_accuracy: 0.7842 - val_loss: 0.5536 - val_categorical_accuracy: 0.8076\n",
      "Epoch 6/30\n",
      "264/264 [==============================] - 11s 42ms/step - loss: 0.5138 - categorical_accuracy: 0.8109 - val_loss: 0.4831 - val_categorical_accuracy: 0.8303\n",
      "Epoch 7/30\n",
      "264/264 [==============================] - 11s 42ms/step - loss: 0.4486 - categorical_accuracy: 0.8344 - val_loss: 0.4457 - val_categorical_accuracy: 0.8212\n",
      "Epoch 8/30\n",
      "264/264 [==============================] - 11s 43ms/step - loss: 0.4168 - categorical_accuracy: 0.8476 - val_loss: 0.4191 - val_categorical_accuracy: 0.8303\n"
     ]
    }
   ],
   "source": [
    "history = model.fit(\n",
    "    train_generator64_20,\n",
    "    steps_per_epoch = 264,  # train_n_samples=5297; batch_size=20\n",
    "    epochs = 30,\n",
    "    callbacks = callbacks_list,\n",
    "    validation_data = validation_generator64_20,\n",
    "    validation_steps = 33 #  validation_n_samples=663; batch_size=20\n",
    ")"
   ]
  },
  {
   "cell_type": "code",
   "execution_count": 53,
   "id": "a40f84d6",
   "metadata": {
    "scrolled": false
   },
   "outputs": [
    {
     "data": {
      "image/png": "[encoded data removed]",
      "text/plain": [
       "<Figure size 432x288 with 1 Axes>"
      ]
     },
     "metadata": {
      "needs_background": "light"
     },
     "output_type": "display_data"
    },
    {
     "data": {
      "image/png": "[encoded data removed]",
      "text/plain": [
       "<Figure size 432x288 with 1 Axes>"
      ]
     },
     "metadata": {
      "needs_background": "light"
     },
     "output_type": "display_data"
    }
   ],
   "source": [
    "training_plots(history)"
   ]
  },
  {
   "cell_type": "code",
   "execution_count": 54,
   "id": "44e4c6bb",
   "metadata": {
    "scrolled": false
   },
   "outputs": [
    {
     "name": "stdout",
     "output_type": "stream",
     "text": [
      "Found 661 images belonging to 4 classes.\n"
     ]
    },
    {
     "name": "stderr",
     "output_type": "stream",
     "text": [
      "<ipython-input-10-a9619eae2628>:15: UserWarning: `Model.predict_generator` is deprecated and will be removed in a future version. Please use `Model.predict`, which supports generators.\n",
      "  Y_pred = model.predict_generator(generator, steps=epoch_steps)\n"
     ]
    },
    {
     "name": "stdout",
     "output_type": "stream",
     "text": [
      "                   precision    recall  f1-score   support\n",
      "\n",
      "    fully_covered       0.90      0.83      0.86       145\n",
      "      not_covered       0.86      0.96      0.91       366\n",
      "         not_face       0.85      0.60      0.71       111\n",
      "partially_covered       0.80      0.82      0.81        39\n",
      "\n",
      "         accuracy                           0.86       661\n",
      "        macro avg       0.85      0.80      0.82       661\n",
      "     weighted avg       0.86      0.86      0.86       661\n",
      "\n"
     ]
    }
   ],
   "source": [
    "model_evaluation_64_20(model, [test_directory])"
   ]
  },
  {
   "cell_type": "markdown",
   "id": "6c641389",
   "metadata": {},
   "source": [
    "### 4.2. Model 4 - 128x128px//batch_size = 20"
   ]
  },
  {
   "cell_type": "code",
   "execution_count": 55,
   "id": "03ad846b",
   "metadata": {},
   "outputs": [
    {
     "name": "stderr",
     "output_type": "stream",
     "text": [
      "D:\\anaconda3\\lib\\site-packages\\keras\\optimizer_v2\\rmsprop.py:130: UserWarning: The `lr` argument is deprecated, use `learning_rate` instead.\n",
      "  super(RMSprop, self).__init__(name, **kwargs)\n"
     ]
    }
   ],
   "source": [
    "model = models.Sequential()\n",
    "model.add(layers.Conv2D(16, (3,3), activation='relu', input_shape=(128,128,3)))\n",
    "model.add(layers.MaxPooling2D((2,2)))\n",
    "model.add(layers.Conv2D(32, (3,3), activation='relu'))\n",
    "model.add(layers.MaxPooling2D((2,2)))\n",
    "model.add(layers.Dropout(0.2))\n",
    "model.add(layers.Conv2D(64, (3,3), activation='relu'))\n",
    "model.add(layers.MaxPooling2D((2,2)))\n",
    "model.add(layers.Dropout(0.2))\n",
    "model.add(layers.Conv2D(128, (3,3), activation='relu'))\n",
    "model.add(layers.MaxPooling2D((2,2)))\n",
    "model.add(layers.Flatten())\n",
    "model.add(layers.Dropout(0.2))\n",
    "model.add(layers.Dense(512, activation='relu'))\n",
    "model.add(layers.Dense(4, activation='softmax'))\n",
    "\n",
    "model.compile(loss='categorical_crossentropy',\n",
    "             optimizer=optimizers.RMSprop(lr=1e-4),\n",
    "             metrics=['categorical_accuracy'])"
   ]
  },
  {
   "cell_type": "code",
   "execution_count": 56,
   "id": "312d7314",
   "metadata": {},
   "outputs": [
    {
     "name": "stdout",
     "output_type": "stream",
     "text": [
      "Epoch 1/30\n",
      "264/264 [==============================] - 41s 152ms/step - loss: 0.9541 - categorical_accuracy: 0.6168 - val_loss: 0.8585 - val_categorical_accuracy: 0.6394\n",
      "Epoch 2/30\n",
      "264/264 [==============================] - 41s 154ms/step - loss: 0.5910 - categorical_accuracy: 0.7707 - val_loss: 0.5067 - val_categorical_accuracy: 0.8091\n",
      "Epoch 3/30\n",
      "264/264 [==============================] - 41s 155ms/step - loss: 0.3813 - categorical_accuracy: 0.8632 - val_loss: 0.3913 - val_categorical_accuracy: 0.8515\n",
      "Epoch 4/30\n",
      "264/264 [==============================] - 38s 145ms/step - loss: 0.3067 - categorical_accuracy: 0.8950 - val_loss: 0.3196 - val_categorical_accuracy: 0.8909\n",
      "Epoch 5/30\n",
      "264/264 [==============================] - 39s 148ms/step - loss: 0.2650 - categorical_accuracy: 0.9077 - val_loss: 0.3100 - val_categorical_accuracy: 0.8909\n",
      "Epoch 6/30\n",
      "264/264 [==============================] - 40s 150ms/step - loss: 0.2257 - categorical_accuracy: 0.9225 - val_loss: 0.2844 - val_categorical_accuracy: 0.9045\n",
      "Epoch 7/30\n",
      "264/264 [==============================] - 41s 154ms/step - loss: 0.1944 - categorical_accuracy: 0.9344 - val_loss: 0.2358 - val_categorical_accuracy: 0.9242\n",
      "Epoch 8/30\n",
      "264/264 [==============================] - 40s 153ms/step - loss: 0.1661 - categorical_accuracy: 0.9458 - val_loss: 0.1911 - val_categorical_accuracy: 0.9379\n",
      "Epoch 9/30\n",
      "264/264 [==============================] - 41s 155ms/step - loss: 0.1543 - categorical_accuracy: 0.9486 - val_loss: 0.1854 - val_categorical_accuracy: 0.9409\n",
      "Epoch 10/30\n",
      "264/264 [==============================] - 40s 150ms/step - loss: 0.1364 - categorical_accuracy: 0.9568 - val_loss: 0.1496 - val_categorical_accuracy: 0.9576\n",
      "Epoch 11/30\n",
      "264/264 [==============================] - 39s 148ms/step - loss: 0.1189 - categorical_accuracy: 0.9621 - val_loss: 0.2078 - val_categorical_accuracy: 0.9348\n",
      "Epoch 12/30\n",
      "264/264 [==============================] - 35s 134ms/step - loss: 0.1122 - categorical_accuracy: 0.9640 - val_loss: 0.1688 - val_categorical_accuracy: 0.9485\n"
     ]
    }
   ],
   "source": [
    "history = model.fit(\n",
    "    train_generator128_20,\n",
    "    steps_per_epoch = 264,  # train_n_samples=5297; batch_size=20\n",
    "    epochs = 30,\n",
    "    callbacks = callbacks_list,\n",
    "    validation_data = validation_generator128_20,\n",
    "    validation_steps = 33 #  validation_n_samples=663; batch_size=20\n",
    ")"
   ]
  },
  {
   "cell_type": "code",
   "execution_count": 57,
   "id": "057fc684",
   "metadata": {
    "scrolled": false
   },
   "outputs": [
    {
     "data": {
      "image/png": "[encoded data removed]",
      "text/plain": [
       "<Figure size 432x288 with 1 Axes>"
      ]
     },
     "metadata": {
      "needs_background": "light"
     },
     "output_type": "display_data"
    },
    {
     "data": {
      "image/png": "[encoded data removed]",
      "text/plain": [
       "<Figure size 432x288 with 1 Axes>"
      ]
     },
     "metadata": {
      "needs_background": "light"
     },
     "output_type": "display_data"
    }
   ],
   "source": [
    "training_plots(history)"
   ]
  },
  {
   "cell_type": "code",
   "execution_count": 58,
   "id": "66a71422",
   "metadata": {
    "scrolled": true
   },
   "outputs": [
    {
     "name": "stdout",
     "output_type": "stream",
     "text": [
      "Found 661 images belonging to 4 classes.\n"
     ]
    },
    {
     "name": "stderr",
     "output_type": "stream",
     "text": [
      "<ipython-input-11-bad17ae776fb>:15: UserWarning: `Model.predict_generator` is deprecated and will be removed in a future version. Please use `Model.predict`, which supports generators.\n",
      "  Y_pred = model.predict_generator(generator, steps=epoch_steps)\n"
     ]
    },
    {
     "name": "stdout",
     "output_type": "stream",
     "text": [
      "                   precision    recall  f1-score   support\n",
      "\n",
      "    fully_covered       0.99      0.88      0.93       145\n",
      "      not_covered       0.97      0.99      0.98       366\n",
      "         not_face       0.91      0.97      0.94       111\n",
      "partially_covered       0.92      0.92      0.92        39\n",
      "\n",
      "         accuracy                           0.96       661\n",
      "        macro avg       0.95      0.94      0.94       661\n",
      "     weighted avg       0.96      0.96      0.96       661\n",
      "\n"
     ]
    }
   ],
   "source": [
    "model_evaluation_128_20(model, [test_directory])"
   ]
  },
  {
   "cell_type": "markdown",
   "id": "96b342d5",
   "metadata": {},
   "source": [
    "### 4.3. Model 4 - 150x150px//batch_size = 20"
   ]
  },
  {
   "cell_type": "code",
   "execution_count": 59,
   "id": "3d9eb908",
   "metadata": {},
   "outputs": [
    {
     "name": "stderr",
     "output_type": "stream",
     "text": [
      "D:\\anaconda3\\lib\\site-packages\\keras\\optimizer_v2\\rmsprop.py:130: UserWarning: The `lr` argument is deprecated, use `learning_rate` instead.\n",
      "  super(RMSprop, self).__init__(name, **kwargs)\n"
     ]
    }
   ],
   "source": [
    "model = models.Sequential()\n",
    "model.add(layers.Conv2D(16, (3,3), activation='relu', input_shape=(150,150,3)))\n",
    "model.add(layers.MaxPooling2D((2,2)))\n",
    "model.add(layers.Conv2D(32, (3,3), activation='relu'))\n",
    "model.add(layers.MaxPooling2D((2,2)))\n",
    "model.add(layers.Dropout(0.2))\n",
    "model.add(layers.Conv2D(64, (3,3), activation='relu'))\n",
    "model.add(layers.MaxPooling2D((2,2)))\n",
    "model.add(layers.Dropout(0.2))\n",
    "model.add(layers.Conv2D(128, (3,3), activation='relu'))\n",
    "model.add(layers.MaxPooling2D((2,2)))\n",
    "model.add(layers.Flatten())\n",
    "model.add(layers.Dropout(0.2))\n",
    "model.add(layers.Dense(512, activation='relu'))\n",
    "model.add(layers.Dense(4, activation='softmax'))\n",
    "\n",
    "model.compile(loss='categorical_crossentropy',\n",
    "             optimizer=optimizers.RMSprop(lr=1e-4),\n",
    "             metrics=['categorical_accuracy'])"
   ]
  },
  {
   "cell_type": "code",
   "execution_count": 60,
   "id": "e787c8a8",
   "metadata": {},
   "outputs": [
    {
     "name": "stdout",
     "output_type": "stream",
     "text": [
      "Epoch 1/30\n",
      "264/264 [==============================] - 46s 171ms/step - loss: 0.9260 - categorical_accuracy: 0.6362 - val_loss: 0.8444 - val_categorical_accuracy: 0.7318\n",
      "Epoch 2/30\n",
      "264/264 [==============================] - 44s 167ms/step - loss: 0.5669 - categorical_accuracy: 0.7883 - val_loss: 0.4782 - val_categorical_accuracy: 0.8258\n",
      "Epoch 3/30\n",
      "264/264 [==============================] - 44s 167ms/step - loss: 0.3685 - categorical_accuracy: 0.8711 - val_loss: 0.3595 - val_categorical_accuracy: 0.8727\n",
      "Epoch 4/30\n",
      "264/264 [==============================] - 44s 167ms/step - loss: 0.2956 - categorical_accuracy: 0.8967 - val_loss: 0.3114 - val_categorical_accuracy: 0.8970\n",
      "Epoch 5/30\n",
      "264/264 [==============================] - 44s 167ms/step - loss: 0.2434 - categorical_accuracy: 0.9161 - val_loss: 0.3113 - val_categorical_accuracy: 0.8985\n",
      "Epoch 6/30\n",
      "264/264 [==============================] - 46s 174ms/step - loss: 0.2098 - categorical_accuracy: 0.9291 - val_loss: 0.2283 - val_categorical_accuracy: 0.9303\n",
      "Epoch 7/30\n",
      "264/264 [==============================] - 48s 180ms/step - loss: 0.1726 - categorical_accuracy: 0.9428 - val_loss: 0.2149 - val_categorical_accuracy: 0.9333\n",
      "Epoch 8/30\n",
      "264/264 [==============================] - 49s 187ms/step - loss: 0.1568 - categorical_accuracy: 0.9479 - val_loss: 0.2163 - val_categorical_accuracy: 0.9288\n",
      "Epoch 9/30\n",
      "264/264 [==============================] - 51s 192ms/step - loss: 0.1410 - categorical_accuracy: 0.9519 - val_loss: 0.1941 - val_categorical_accuracy: 0.9364\n",
      "Epoch 10/30\n",
      "264/264 [==============================] - 48s 180ms/step - loss: 0.1247 - categorical_accuracy: 0.9570 - val_loss: 0.1887 - val_categorical_accuracy: 0.9424\n",
      "Epoch 11/30\n",
      "264/264 [==============================] - 49s 187ms/step - loss: 0.1086 - categorical_accuracy: 0.9615 - val_loss: 0.2131 - val_categorical_accuracy: 0.9364\n",
      "Epoch 12/30\n",
      "264/264 [==============================] - 46s 175ms/step - loss: 0.1017 - categorical_accuracy: 0.9663 - val_loss: 0.1628 - val_categorical_accuracy: 0.9470\n",
      "Epoch 13/30\n",
      "264/264 [==============================] - 48s 182ms/step - loss: 0.0928 - categorical_accuracy: 0.9691 - val_loss: 0.1698 - val_categorical_accuracy: 0.9455\n",
      "Epoch 14/30\n",
      "264/264 [==============================] - 47s 179ms/step - loss: 0.0809 - categorical_accuracy: 0.9727 - val_loss: 0.2204 - val_categorical_accuracy: 0.9318\n"
     ]
    }
   ],
   "source": [
    "history = model.fit(\n",
    "    train_generator150_20,\n",
    "    steps_per_epoch = 264,  # train_n_samples=5297; batch_size=20\n",
    "    epochs = 30,\n",
    "    callbacks = callbacks_list,\n",
    "    validation_data = validation_generator150_20,\n",
    "    validation_steps = 33 #  validation_n_samples=663; batch_size=20\n",
    ")"
   ]
  },
  {
   "cell_type": "code",
   "execution_count": 61,
   "id": "c1fc7daa",
   "metadata": {
    "scrolled": false
   },
   "outputs": [
    {
     "data": {
      "image/png": "[encoded data removed]",
      "text/plain": [
       "<Figure size 432x288 with 1 Axes>"
      ]
     },
     "metadata": {
      "needs_background": "light"
     },
     "output_type": "display_data"
    },
    {
     "data": {
      "image/png": "[encoded data removed]",
      "text/plain": [
       "<Figure size 432x288 with 1 Axes>"
      ]
     },
     "metadata": {
      "needs_background": "light"
     },
     "output_type": "display_data"
    }
   ],
   "source": [
    "training_plots(history)"
   ]
  },
  {
   "cell_type": "code",
   "execution_count": 62,
   "id": "eca0a300",
   "metadata": {
    "scrolled": true
   },
   "outputs": [
    {
     "name": "stdout",
     "output_type": "stream",
     "text": [
      "Found 661 images belonging to 4 classes.\n"
     ]
    },
    {
     "name": "stderr",
     "output_type": "stream",
     "text": [
      "<ipython-input-12-e59ee181f5d9>:15: UserWarning: `Model.predict_generator` is deprecated and will be removed in a future version. Please use `Model.predict`, which supports generators.\n",
      "  Y_pred = model.predict_generator(generator, steps=epoch_steps)\n"
     ]
    },
    {
     "name": "stdout",
     "output_type": "stream",
     "text": [
      "                   precision    recall  f1-score   support\n",
      "\n",
      "    fully_covered       0.97      0.88      0.92       145\n",
      "      not_covered       0.96      0.99      0.97       366\n",
      "         not_face       0.90      0.93      0.92       111\n",
      "partially_covered       0.92      0.92      0.92        39\n",
      "\n",
      "         accuracy                           0.95       661\n",
      "        macro avg       0.94      0.93      0.93       661\n",
      "     weighted avg       0.95      0.95      0.95       661\n",
      "\n"
     ]
    }
   ],
   "source": [
    "model_evaluation_150_20(model, [test_directory])"
   ]
  },
  {
   "cell_type": "markdown",
   "id": "5cbbd8bc",
   "metadata": {},
   "source": [
    "### 4.4. Model 4 - 128x128px//batch_size = 32"
   ]
  },
  {
   "cell_type": "code",
   "execution_count": 92,
   "id": "a3e1e7f6",
   "metadata": {},
   "outputs": [
    {
     "name": "stderr",
     "output_type": "stream",
     "text": [
      "D:\\anaconda3\\lib\\site-packages\\keras\\optimizer_v2\\rmsprop.py:130: UserWarning: The `lr` argument is deprecated, use `learning_rate` instead.\n",
      "  super(RMSprop, self).__init__(name, **kwargs)\n"
     ]
    }
   ],
   "source": [
    "model = models.Sequential()\n",
    "model.add(layers.Conv2D(16, (3,3), activation='relu', input_shape=(128,128,3)))\n",
    "model.add(layers.MaxPooling2D((2,2)))\n",
    "model.add(layers.Conv2D(32, (3,3), activation='relu'))\n",
    "model.add(layers.MaxPooling2D((2,2)))\n",
    "model.add(layers.Dropout(0.2))\n",
    "model.add(layers.Conv2D(64, (3,3), activation='relu'))\n",
    "model.add(layers.MaxPooling2D((2,2)))\n",
    "model.add(layers.Dropout(0.2))\n",
    "model.add(layers.Conv2D(128, (3,3), activation='relu'))\n",
    "model.add(layers.MaxPooling2D((2,2)))\n",
    "model.add(layers.Flatten())\n",
    "model.add(layers.Dropout(0.2))\n",
    "model.add(layers.Dense(512, activation='relu'))\n",
    "model.add(layers.Dense(4, activation='softmax'))\n",
    "\n",
    "model.compile(loss='categorical_crossentropy',\n",
    "             optimizer=optimizers.RMSprop(lr=1e-4),\n",
    "             metrics=['categorical_accuracy'])"
   ]
  },
  {
   "cell_type": "code",
   "execution_count": 93,
   "id": "c444a083",
   "metadata": {},
   "outputs": [
    {
     "name": "stdout",
     "output_type": "stream",
     "text": [
      "Epoch 1/30\n",
      "165/165 [==============================] - 30s 176ms/step - loss: 0.9810 - categorical_accuracy: 0.6097 - val_loss: 0.9868 - val_categorical_accuracy: 0.6422\n",
      "Epoch 2/30\n",
      "165/165 [==============================] - 28s 171ms/step - loss: 0.7565 - categorical_accuracy: 0.6946 - val_loss: 0.7624 - val_categorical_accuracy: 0.7188\n",
      "Epoch 3/30\n",
      "165/165 [==============================] - 30s 181ms/step - loss: 0.5569 - categorical_accuracy: 0.7856 - val_loss: 0.5520 - val_categorical_accuracy: 0.8078\n",
      "Epoch 4/30\n",
      "165/165 [==============================] - 30s 181ms/step - loss: 0.3903 - categorical_accuracy: 0.8674 - val_loss: 0.4135 - val_categorical_accuracy: 0.8500\n",
      "Epoch 5/30\n",
      "165/165 [==============================] - 30s 182ms/step - loss: 0.3140 - categorical_accuracy: 0.8900 - val_loss: 0.3142 - val_categorical_accuracy: 0.8969\n",
      "Epoch 6/30\n",
      "165/165 [==============================] - 31s 185ms/step - loss: 0.2694 - categorical_accuracy: 0.9107 - val_loss: 0.2753 - val_categorical_accuracy: 0.9078\n",
      "Epoch 7/30\n",
      "165/165 [==============================] - 31s 190ms/step - loss: 0.2383 - categorical_accuracy: 0.9170 - val_loss: 0.2456 - val_categorical_accuracy: 0.9312\n",
      "Epoch 8/30\n",
      "165/165 [==============================] - 34s 205ms/step - loss: 0.2057 - categorical_accuracy: 0.9292 - val_loss: 0.2336 - val_categorical_accuracy: 0.9250\n",
      "Epoch 9/30\n",
      "165/165 [==============================] - 35s 211ms/step - loss: 0.1846 - categorical_accuracy: 0.9400 - val_loss: 0.2144 - val_categorical_accuracy: 0.9328\n",
      "Epoch 10/30\n",
      "165/165 [==============================] - 33s 198ms/step - loss: 0.1647 - categorical_accuracy: 0.9451 - val_loss: 0.2194 - val_categorical_accuracy: 0.9203\n",
      "Epoch 11/30\n",
      "165/165 [==============================] - 34s 204ms/step - loss: 0.1471 - categorical_accuracy: 0.9506 - val_loss: 0.2270 - val_categorical_accuracy: 0.9297\n"
     ]
    }
   ],
   "source": [
    "history = model.fit(\n",
    "    train_generator128_32,\n",
    "    steps_per_epoch = 165,  # train_n_samples=5297; batch_size=32\n",
    "    epochs = 30,\n",
    "    callbacks = callbacks_list,\n",
    "    validation_data = validation_generator128_32,\n",
    "    validation_steps = 20 #  validation_n_samples=663; batch_size=32\n",
    ")"
   ]
  },
  {
   "cell_type": "code",
   "execution_count": 94,
   "id": "1305b68e",
   "metadata": {
    "scrolled": false
   },
   "outputs": [
    {
     "data": {
      "image/png": "[encoded data removed]",
      "text/plain": [
       "<Figure size 432x288 with 1 Axes>"
      ]
     },
     "metadata": {
      "needs_background": "light"
     },
     "output_type": "display_data"
    },
    {
     "data": {
      "image/png": "[encoded data removed]",
      "text/plain": [
       "<Figure size 432x288 with 1 Axes>"
      ]
     },
     "metadata": {
      "needs_background": "light"
     },
     "output_type": "display_data"
    }
   ],
   "source": [
    "training_plots(history)"
   ]
  },
  {
   "cell_type": "code",
   "execution_count": 95,
   "id": "3525d332",
   "metadata": {
    "scrolled": true
   },
   "outputs": [
    {
     "name": "stdout",
     "output_type": "stream",
     "text": [
      "Found 661 images belonging to 4 classes.\n"
     ]
    },
    {
     "name": "stderr",
     "output_type": "stream",
     "text": [
      "<ipython-input-11-bad17ae776fb>:40: UserWarning: `Model.predict_generator` is deprecated and will be removed in a future version. Please use `Model.predict`, which supports generators.\n",
      "  Y_pred = model.predict_generator(generator, steps=epoch_steps)\n"
     ]
    },
    {
     "name": "stdout",
     "output_type": "stream",
     "text": [
      "                   precision    recall  f1-score   support\n",
      "\n",
      "    fully_covered       0.99      0.90      0.95       145\n",
      "      not_covered       0.91      0.99      0.95       366\n",
      "         not_face       0.99      0.81      0.89       111\n",
      "partially_covered       0.92      0.87      0.89        39\n",
      "\n",
      "         accuracy                           0.93       661\n",
      "        macro avg       0.95      0.89      0.92       661\n",
      "     weighted avg       0.94      0.93      0.93       661\n",
      "\n"
     ]
    }
   ],
   "source": [
    "model_evaluation_128_32(model, [test_directory])"
   ]
  },
  {
   "cell_type": "markdown",
   "id": "fcd24016",
   "metadata": {},
   "source": [
    "### 4.5. Model 4 - 128x128px//batch_size = 64"
   ]
  },
  {
   "cell_type": "code",
   "execution_count": 96,
   "id": "ea4f8a4d",
   "metadata": {},
   "outputs": [
    {
     "name": "stderr",
     "output_type": "stream",
     "text": [
      "D:\\anaconda3\\lib\\site-packages\\keras\\optimizer_v2\\rmsprop.py:130: UserWarning: The `lr` argument is deprecated, use `learning_rate` instead.\n",
      "  super(RMSprop, self).__init__(name, **kwargs)\n"
     ]
    }
   ],
   "source": [
    "model = models.Sequential()\n",
    "model.add(layers.Conv2D(16, (3,3), activation='relu', input_shape=(128,128,3)))\n",
    "model.add(layers.MaxPooling2D((2,2)))\n",
    "model.add(layers.Conv2D(32, (3,3), activation='relu'))\n",
    "model.add(layers.MaxPooling2D((2,2)))\n",
    "model.add(layers.Dropout(0.2))\n",
    "model.add(layers.Conv2D(64, (3,3), activation='relu'))\n",
    "model.add(layers.MaxPooling2D((2,2)))\n",
    "model.add(layers.Dropout(0.2))\n",
    "model.add(layers.Conv2D(128, (3,3), activation='relu'))\n",
    "model.add(layers.MaxPooling2D((2,2)))\n",
    "model.add(layers.Flatten())\n",
    "model.add(layers.Dropout(0.2))\n",
    "model.add(layers.Dense(512, activation='relu'))\n",
    "model.add(layers.Dense(4, activation='softmax'))\n",
    "\n",
    "model.compile(loss='categorical_crossentropy',\n",
    "             optimizer=optimizers.RMSprop(lr=1e-4),\n",
    "             metrics=['categorical_accuracy'])"
   ]
  },
  {
   "cell_type": "code",
   "execution_count": 97,
   "id": "ed299b36",
   "metadata": {},
   "outputs": [
    {
     "name": "stdout",
     "output_type": "stream",
     "text": [
      "Epoch 1/30\n",
      "82/82 [==============================] - 32s 386ms/step - loss: 1.0475 - categorical_accuracy: 0.5819 - val_loss: 1.0422 - val_categorical_accuracy: 0.6547\n",
      "Epoch 2/30\n",
      "82/82 [==============================] - 32s 390ms/step - loss: 0.8085 - categorical_accuracy: 0.6860 - val_loss: 0.7681 - val_categorical_accuracy: 0.7625\n",
      "Epoch 3/30\n",
      "82/82 [==============================] - 32s 394ms/step - loss: 0.5842 - categorical_accuracy: 0.7825 - val_loss: 0.5667 - val_categorical_accuracy: 0.8031\n",
      "Epoch 4/30\n",
      "82/82 [==============================] - 32s 390ms/step - loss: 0.4289 - categorical_accuracy: 0.8444 - val_loss: 0.4393 - val_categorical_accuracy: 0.8422\n",
      "Epoch 5/30\n",
      "82/82 [==============================] - 31s 378ms/step - loss: 0.3555 - categorical_accuracy: 0.8771 - val_loss: 0.3619 - val_categorical_accuracy: 0.8906\n",
      "Epoch 6/30\n",
      "82/82 [==============================] - 31s 372ms/step - loss: 0.3040 - categorical_accuracy: 0.8957 - val_loss: 0.3108 - val_categorical_accuracy: 0.8891\n",
      "Epoch 7/30\n",
      "82/82 [==============================] - 30s 367ms/step - loss: 0.2780 - categorical_accuracy: 0.9050 - val_loss: 0.2853 - val_categorical_accuracy: 0.9172\n",
      "Epoch 8/30\n",
      "82/82 [==============================] - 30s 366ms/step - loss: 0.2497 - categorical_accuracy: 0.9165 - val_loss: 0.3015 - val_categorical_accuracy: 0.9016\n",
      "Epoch 9/30\n",
      "82/82 [==============================] - 30s 366ms/step - loss: 0.2233 - categorical_accuracy: 0.9243 - val_loss: 0.2429 - val_categorical_accuracy: 0.9266\n",
      "Epoch 10/30\n",
      "82/82 [==============================] - 30s 366ms/step - loss: 0.2032 - categorical_accuracy: 0.9327 - val_loss: 0.2216 - val_categorical_accuracy: 0.9312\n",
      "Epoch 11/30\n",
      "82/82 [==============================] - 30s 362ms/step - loss: 0.1847 - categorical_accuracy: 0.9367 - val_loss: 0.2166 - val_categorical_accuracy: 0.9328\n",
      "Epoch 12/30\n",
      "82/82 [==============================] - 33s 404ms/step - loss: 0.1762 - categorical_accuracy: 0.9421 - val_loss: 0.2116 - val_categorical_accuracy: 0.9375\n",
      "Epoch 13/30\n",
      "82/82 [==============================] - 32s 393ms/step - loss: 0.1614 - categorical_accuracy: 0.9434 - val_loss: 0.2011 - val_categorical_accuracy: 0.9359\n",
      "Epoch 14/30\n",
      "82/82 [==============================] - 33s 405ms/step - loss: 0.1457 - categorical_accuracy: 0.9520 - val_loss: 0.1777 - val_categorical_accuracy: 0.9547\n",
      "Epoch 15/30\n",
      "82/82 [==============================] - 32s 392ms/step - loss: 0.1359 - categorical_accuracy: 0.9526 - val_loss: 0.1932 - val_categorical_accuracy: 0.9406\n",
      "Epoch 16/30\n",
      "82/82 [==============================] - 31s 376ms/step - loss: 0.1261 - categorical_accuracy: 0.9591 - val_loss: 0.1651 - val_categorical_accuracy: 0.9484\n"
     ]
    }
   ],
   "source": [
    "history = model.fit(\n",
    "    train_generator128_64,\n",
    "    steps_per_epoch = 82,  # train_n_samples=5297; batch_size=64\n",
    "    epochs = 30,\n",
    "    callbacks = callbacks_list,\n",
    "    validation_data = validation_generator128_64,\n",
    "    validation_steps = 10 #  validation_n_samples=663; batch_size=64\n",
    ")"
   ]
  },
  {
   "cell_type": "code",
   "execution_count": 98,
   "id": "f6780e57",
   "metadata": {
    "scrolled": false
   },
   "outputs": [
    {
     "data": {
      "image/png": "[encoded data removed]",
      "text/plain": [
       "<Figure size 432x288 with 1 Axes>"
      ]
     },
     "metadata": {
      "needs_background": "light"
     },
     "output_type": "display_data"
    },
    {
     "data": {
      "image/png": "[encoded data removed]",
      "text/plain": [
       "<Figure size 432x288 with 1 Axes>"
      ]
     },
     "metadata": {
      "needs_background": "light"
     },
     "output_type": "display_data"
    }
   ],
   "source": [
    "training_plots(history)"
   ]
  },
  {
   "cell_type": "code",
   "execution_count": 99,
   "id": "d57d5966",
   "metadata": {
    "scrolled": true
   },
   "outputs": [
    {
     "name": "stdout",
     "output_type": "stream",
     "text": [
      "Found 661 images belonging to 4 classes.\n"
     ]
    },
    {
     "name": "stderr",
     "output_type": "stream",
     "text": [
      "<ipython-input-11-bad17ae776fb>:65: UserWarning: `Model.predict_generator` is deprecated and will be removed in a future version. Please use `Model.predict`, which supports generators.\n",
      "  Y_pred = model.predict_generator(generator, steps=epoch_steps)\n"
     ]
    },
    {
     "name": "stdout",
     "output_type": "stream",
     "text": [
      "                   precision    recall  f1-score   support\n",
      "\n",
      "    fully_covered       0.98      0.88      0.93       145\n",
      "      not_covered       0.96      0.98      0.97       366\n",
      "         not_face       0.91      0.95      0.93       111\n",
      "partially_covered       0.95      0.92      0.94        39\n",
      "\n",
      "         accuracy                           0.95       661\n",
      "        macro avg       0.95      0.93      0.94       661\n",
      "     weighted avg       0.95      0.95      0.95       661\n",
      "\n"
     ]
    }
   ],
   "source": [
    "model_evaluation_128_64(model, [test_directory])"
   ]
  },
  {
   "cell_type": "markdown",
   "id": "94d54386",
   "metadata": {},
   "source": [
    "### 4.6. Saving the best model Model 4"
   ]
  },
  {
   "cell_type": "markdown",
   "id": "2dc222a9",
   "metadata": {},
   "source": [
    "The best model is the one trained with images with image size = 128x128px and the chosen batch_size is 20"
   ]
  },
  {
   "cell_type": "code",
   "execution_count": 109,
   "id": "d657bc3f",
   "metadata": {},
   "outputs": [],
   "source": [
    "callbacks_list_saving_model4 = [\n",
    "    keras.callbacks.EarlyStopping(\n",
    "    monitor = 'val_categorical_accuracy',\n",
    "    patience = 2),\n",
    "    keras.callbacks.ModelCheckpoint(\n",
    "        filepath = 'saved_models/model4.h5',\n",
    "        monitor = 'val_categorical_accuracy',\n",
    "        save_best_only = True\n",
    "    )\n",
    "]"
   ]
  },
  {
   "cell_type": "code",
   "execution_count": 110,
   "id": "9d735aa4",
   "metadata": {},
   "outputs": [],
   "source": [
    "model = models.Sequential()\n",
    "model.add(layers.Conv2D(16, (3,3), activation='relu', input_shape=(128,128,3)))\n",
    "model.add(layers.MaxPooling2D((2,2)))\n",
    "model.add(layers.Conv2D(32, (3,3), activation='relu'))\n",
    "model.add(layers.MaxPooling2D((2,2)))\n",
    "model.add(layers.Dropout(0.2))\n",
    "model.add(layers.Conv2D(64, (3,3), activation='relu'))\n",
    "model.add(layers.MaxPooling2D((2,2)))\n",
    "model.add(layers.Dropout(0.2))\n",
    "model.add(layers.Conv2D(128, (3,3), activation='relu'))\n",
    "model.add(layers.MaxPooling2D((2,2)))\n",
    "model.add(layers.Flatten())\n",
    "model.add(layers.Dropout(0.2))\n",
    "model.add(layers.Dense(512, activation='relu'))\n",
    "model.add(layers.Dense(4, activation='softmax'))\n",
    "\n",
    "model.compile(loss='categorical_crossentropy',\n",
    "             optimizer=optimizers.RMSprop(lr=1e-4),\n",
    "             metrics=['categorical_accuracy'])"
   ]
  },
  {
   "cell_type": "code",
   "execution_count": 111,
   "id": "61c39e82",
   "metadata": {},
   "outputs": [
    {
     "name": "stdout",
     "output_type": "stream",
     "text": [
      "Epoch 1/30\n",
      "264/264 [==============================] - 39s 143ms/step - loss: 0.9570 - categorical_accuracy: 0.6227 - val_loss: 0.9044 - val_categorical_accuracy: 0.7000\n",
      "Epoch 2/30\n",
      "264/264 [==============================] - 38s 144ms/step - loss: 0.6475 - categorical_accuracy: 0.7421 - val_loss: 0.5102 - val_categorical_accuracy: 0.8409\n",
      "Epoch 3/30\n",
      "264/264 [==============================] - 36s 136ms/step - loss: 0.3875 - categorical_accuracy: 0.8630 - val_loss: 0.3833 - val_categorical_accuracy: 0.8576\n",
      "Epoch 4/30\n",
      "264/264 [==============================] - 39s 149ms/step - loss: 0.3053 - categorical_accuracy: 0.8943 - val_loss: 0.2949 - val_categorical_accuracy: 0.9045\n",
      "Epoch 5/30\n",
      "264/264 [==============================] - 40s 152ms/step - loss: 0.2505 - categorical_accuracy: 0.9145 - val_loss: 0.2659 - val_categorical_accuracy: 0.9076\n",
      "Epoch 6/30\n",
      "264/264 [==============================] - 40s 151ms/step - loss: 0.2172 - categorical_accuracy: 0.9229 - val_loss: 0.2280 - val_categorical_accuracy: 0.9258\n",
      "Epoch 7/30\n",
      "264/264 [==============================] - 39s 147ms/step - loss: 0.1810 - categorical_accuracy: 0.9401 - val_loss: 0.2031 - val_categorical_accuracy: 0.9364\n",
      "Epoch 8/30\n",
      "264/264 [==============================] - 40s 151ms/step - loss: 0.1638 - categorical_accuracy: 0.9435 - val_loss: 0.1895 - val_categorical_accuracy: 0.9409\n",
      "Epoch 9/30\n",
      "264/264 [==============================] - 37s 140ms/step - loss: 0.1439 - categorical_accuracy: 0.9505 - val_loss: 0.1624 - val_categorical_accuracy: 0.9500\n",
      "Epoch 10/30\n",
      "264/264 [==============================] - 40s 151ms/step - loss: 0.1275 - categorical_accuracy: 0.9581 - val_loss: 0.1618 - val_categorical_accuracy: 0.9591\n",
      "Epoch 11/30\n",
      "264/264 [==============================] - 39s 147ms/step - loss: 0.1170 - categorical_accuracy: 0.9638 - val_loss: 0.1629 - val_categorical_accuracy: 0.9485\n",
      "Epoch 12/30\n",
      "264/264 [==============================] - 36s 136ms/step - loss: 0.1043 - categorical_accuracy: 0.9657 - val_loss: 0.1683 - val_categorical_accuracy: 0.9485\n"
     ]
    }
   ],
   "source": [
    "history = model.fit(\n",
    "    train_generator128_20,\n",
    "    steps_per_epoch = 264,  # train_n_samples=5297; batch_size=20\n",
    "    epochs = 30,\n",
    "    callbacks = callbacks_list_saving_model4,\n",
    "    validation_data = validation_generator128_20,\n",
    "    validation_steps = 33 #  validation_n_samples=663; batch_size=20\n",
    ")"
   ]
  },
  {
   "cell_type": "markdown",
   "id": "553cc91c",
   "metadata": {},
   "source": [
    "## 5. Model 5"
   ]
  },
  {
   "cell_type": "markdown",
   "id": "ac6a12d5",
   "metadata": {},
   "source": [
    "This model follows the AlexNet architecture. We will train the model for a image size of 227x227px (which is the correct image size, according to the paper where the architecture was proposed) and a batch_size of 64."
   ]
  },
  {
   "cell_type": "code",
   "execution_count": 63,
   "id": "3aee42aa",
   "metadata": {},
   "outputs": [],
   "source": [
    "callbacks_list_saving_alex_net = [\n",
    "    keras.callbacks.EarlyStopping(\n",
    "    monitor = 'val_categorical_accuracy',\n",
    "    patience = 2),\n",
    "    keras.callbacks.ModelCheckpoint(\n",
    "        filepath = 'saved_models/alex_net_model.h5',\n",
    "        monitor = 'val_categorical_accuracy',\n",
    "        save_best_only = True\n",
    "    )\n",
    "]"
   ]
  },
  {
   "cell_type": "code",
   "execution_count": 64,
   "id": "f7779851",
   "metadata": {},
   "outputs": [
    {
     "name": "stderr",
     "output_type": "stream",
     "text": [
      "D:\\anaconda3\\lib\\site-packages\\keras\\optimizer_v2\\rmsprop.py:130: UserWarning: The `lr` argument is deprecated, use `learning_rate` instead.\n",
      "  super(RMSprop, self).__init__(name, **kwargs)\n"
     ]
    }
   ],
   "source": [
    "model = models.Sequential()\n",
    "model.add(layers.Conv2D(filters=96, kernel_size=(11,11), strides=(4,4), activation='relu', input_shape=(227,227,3)))\n",
    "model.add(layers.MaxPooling2D(pool_size=(3,3), strides=(2,2)))\n",
    "model.add(layers.Conv2D(filters=256, kernel_size=(5,5), strides=(1,1), activation='relu', padding=\"same\"))\n",
    "model.add(layers.MaxPooling2D(pool_size=(3,3), strides=(2,2)))\n",
    "model.add(layers.Conv2D(filters=384, kernel_size=(3,3), strides=(1,1), activation='relu', padding=\"same\"))\n",
    "model.add(layers.Conv2D(filters=384, kernel_size=(3,3), strides=(1,1), activation='relu', padding=\"same\"))\n",
    "model.add(layers.Conv2D(filters=256, kernel_size=(3,3), strides=(1,1), activation='relu', padding=\"same\"))\n",
    "model.add(layers.MaxPooling2D(pool_size=(3,3), strides=(2,2)))\n",
    "model.add(layers.Flatten())\n",
    "model.add(layers.Dense(4096, activation='relu'))\n",
    "model.add(layers.Dropout(0.5))\n",
    "model.add(layers.Dense(4096, activation='relu'))\n",
    "model.add(layers.Dropout(0.5))\n",
    "model.add(layers.Dense(4, activation='softmax'))\n",
    "\n",
    "model.compile(loss='categorical_crossentropy',\n",
    "             optimizer=optimizers.RMSprop(lr=1e-4),\n",
    "             metrics=['categorical_accuracy'])"
   ]
  },
  {
   "cell_type": "code",
   "execution_count": 65,
   "id": "00c9ea4e",
   "metadata": {},
   "outputs": [
    {
     "name": "stdout",
     "output_type": "stream",
     "text": [
      "Epoch 1/30\n",
      "82/82 [==============================] - 243s 3s/step - loss: 0.9638 - categorical_accuracy: 0.5964 - val_loss: 0.6642 - val_categorical_accuracy: 0.7641\n",
      "Epoch 2/30\n",
      "82/82 [==============================] - 1025s 13s/step - loss: 0.4954 - categorical_accuracy: 0.8122 - val_loss: 0.3930 - val_categorical_accuracy: 0.8687\n",
      "Epoch 3/30\n",
      "82/82 [==============================] - 240s 3s/step - loss: 0.2888 - categorical_accuracy: 0.9012 - val_loss: 0.2038 - val_categorical_accuracy: 0.9281\n",
      "Epoch 4/30\n",
      "82/82 [==============================] - 279s 3s/step - loss: 0.2157 - categorical_accuracy: 0.9281 - val_loss: 0.2646 - val_categorical_accuracy: 0.9359\n",
      "Epoch 5/30\n",
      "82/82 [==============================] - 1688s 21s/step - loss: 0.1509 - categorical_accuracy: 0.9509 - val_loss: 0.2550 - val_categorical_accuracy: 0.9203\n",
      "Epoch 6/30\n",
      "82/82 [==============================] - 206s 3s/step - loss: 0.1234 - categorical_accuracy: 0.9589 - val_loss: 0.2998 - val_categorical_accuracy: 0.9062\n"
     ]
    }
   ],
   "source": [
    "history = model.fit(\n",
    "    train_generator_alex_net,\n",
    "    steps_per_epoch = 82,  # train_n_samples=5297; batch_size=64\n",
    "    epochs = 30,\n",
    "    callbacks = callbacks_list_saving_alex_net,\n",
    "    validation_data = validation_generator_alex_net,\n",
    "    validation_steps = 10 #  validation_n_samples=663; batch_size=64\n",
    ")"
   ]
  },
  {
   "cell_type": "code",
   "execution_count": 66,
   "id": "372cca8a",
   "metadata": {
    "scrolled": false
   },
   "outputs": [
    {
     "data": {
      "image/png": "[encoded data removed]",
      "text/plain": [
       "<Figure size 432x288 with 1 Axes>"
      ]
     },
     "metadata": {
      "needs_background": "light"
     },
     "output_type": "display_data"
    },
    {
     "data": {
      "image/png": "[encoded data removed]",
      "text/plain": [
       "<Figure size 432x288 with 1 Axes>"
      ]
     },
     "metadata": {
      "needs_background": "light"
     },
     "output_type": "display_data"
    }
   ],
   "source": [
    "training_plots(history)"
   ]
  },
  {
   "cell_type": "code",
   "execution_count": 67,
   "id": "c5c5af67",
   "metadata": {
    "scrolled": true
   },
   "outputs": [
    {
     "name": "stdout",
     "output_type": "stream",
     "text": [
      "Found 661 images belonging to 4 classes.\n"
     ]
    },
    {
     "name": "stderr",
     "output_type": "stream",
     "text": [
      "<ipython-input-13-a9d2bbc97939>:15: UserWarning: `Model.predict_generator` is deprecated and will be removed in a future version. Please use `Model.predict`, which supports generators.\n",
      "  Y_pred = model.predict_generator(generator, steps=epoch_steps)\n"
     ]
    },
    {
     "name": "stdout",
     "output_type": "stream",
     "text": [
      "                   precision    recall  f1-score   support\n",
      "\n",
      "    fully_covered       0.98      0.77      0.86       145\n",
      "      not_covered       0.94      0.96      0.95       366\n",
      "         not_face       0.76      0.98      0.86       111\n",
      "partially_covered       1.00      0.74      0.85        39\n",
      "\n",
      "         accuracy                           0.91       661\n",
      "        macro avg       0.92      0.86      0.88       661\n",
      "     weighted avg       0.92      0.91      0.91       661\n",
      "\n"
     ]
    }
   ],
   "source": [
    "model_evaluation_227(model, [test_directory])"
   ]
  }
 ],
 "metadata": {
  "kernelspec": {
   "display_name": "Python 3",
   "language": "python",
   "name": "python3"
  },
  "language_info": {
   "codemirror_mode": {
    "name": "ipython",
    "version": 3
   },
   "file_extension": ".py",
   "mimetype": "text/x-python",
   "name": "python",
   "nbconvert_exporter": "python",
   "pygments_lexer": "ipython3",
   "version": "3.8.8"
  }
 },
 "nbformat": 4,
 "nbformat_minor": 5
}
