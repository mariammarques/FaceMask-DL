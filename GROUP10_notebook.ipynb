{
 "cells": [
  {
   "cell_type": "markdown",
   "id": "bfb3a657",
   "metadata": {},
   "source": [
    "<div class=\"alert alert-block alert-info\">\n",
    "<a class=\"anchor\" id=\"one-bullet\"> \n",
    "    \n",
    "# MACHINE LEARNING @DSAA, DS\n",
    "###### António Cymbron (R20181059), Duarte Redinha (R20181066), Gonçalo Silva (R20181085), Maria João M. Marques (R20181119), Pedro Sequeira (R20181097)\n",
    "</a>    \n",
    "</div>"
   ]
  },
  {
   "cell_type": "markdown",
   "id": "054dc62f",
   "metadata": {},
   "source": [
    "# 1. Import necessary packages"
   ]
  },
  {
   "cell_type": "code",
   "execution_count": 1,
   "id": "fe768162",
   "metadata": {},
   "outputs": [],
   "source": [
    "import os, shutil\n",
    "import keras\n",
    "import math\n",
    "import numpy as np\n",
    "import matplotlib.pyplot as plt\n",
    "from keras.preprocessing.image import load_img, img_to_array, ImageDataGenerator\n",
    "from sklearn.metrics import classification_report\n",
    "from tensorflow.keras import layers, models, optimizers, metrics\n",
    "from keras.callbacks import EarlyStopping\n",
    "from sklearn.preprocessing import LabelBinarizer\n",
    "from tensorflow.keras.applications.resnet_v2 import preprocess_input\n",
    "from sklearn.model_selection import train_test_split, cross_val_score\n",
    "from keras.models import load_model\n",
    "from keras.wrappers.scikit_learn import KerasClassifier"
   ]
  },
  {
   "cell_type": "markdown",
   "id": "ad01a120",
   "metadata": {},
   "source": [
    "# 2. Loading the 5 best models obtained with the holdout method\n",
    "Consult the 'Holdout_Preprocessing&Training.ipynb' to see how we arrived at this top5 and to understand all the attempts of models and specifications, through the holdout method. The training process and training times are also shown in the same file."
   ]
  },
  {
   "cell_type": "code",
   "execution_count": 2,
   "id": "bf6d3359",
   "metadata": {},
   "outputs": [],
   "source": [
    "# Model 1 - The best model is the one trained with images with image size = 64x64px and the chosen batch_size is 20.\n",
    "model1 = load_model(\"saved_models/model1.h5\")\n",
    "# Model 2 - The best model is the one trained with images with image size = 64x64px and the chosen batch_size is 32.\n",
    "model2 = load_model(\"saved_models/model2.h5\")\n",
    "# Model 3 - The best model is the one trained with images with image size = 64x64px and the chosen batch_size is 20.\n",
    "model3 = load_model(\"saved_models/model3.h5\")\n",
    "# Model 4 - The best model is the one trained with images with image size = 64x64px and the chosen batch_size is 20.\n",
    "model4 = load_model(\"saved_models/model4.h5\")\n",
    "# Model 5 - This model follows the AlexNet architecture. The image size is 227x227px and the batch_size is 64.\n",
    "model5 = load_model(\"saved_models/alex_net_model.h5\")"
   ]
  },
  {
   "cell_type": "markdown",
   "id": "3ea35001",
   "metadata": {},
   "source": [
    "# 3. Evaluating the 5 best models obtained with the holdout method"
   ]
  },
  {
   "cell_type": "markdown",
   "id": "c625738f",
   "metadata": {},
   "source": [
    "## 3.1. Defining the functions to evaluate the 5 best models obtained with the holdout method"
   ]
  },
  {
   "cell_type": "code",
   "execution_count": 3,
   "id": "6cfde869",
   "metadata": {},
   "outputs": [],
   "source": [
    "# Defining a function that will perform the model evaluation, when the image size is 64x64px, and batch_size is 20\n",
    "# This function will receive a model and a directory (to know where to get the images)\n",
    "def model_evaluation_64_20(model, directory_evaluation=[]):\n",
    "    for i in range(len(directory_evaluation)):\n",
    "        generator = test_datagen.flow_from_directory(\n",
    "            directory_evaluation[i],\n",
    "            target_size = (64,64),\n",
    "            batch_size = 20,\n",
    "            class_mode = 'categorical',\n",
    "            shuffle = False\n",
    "        )\n",
    "        epoch_steps = math.ceil(generator.samples/generator.batch_size)\n",
    "        \n",
    "        # Fit the model to the data using the created generator\n",
    "        Y_pred = model.predict_generator(generator, steps=epoch_steps)\n",
    "        # Get the most probable class from the prediction\n",
    "        Y_class = np.argmax(Y_pred, axis = 1)\n",
    "        \n",
    "        real_classes = generator.classes\n",
    "        labels_classes = list(generator.class_indices.keys())\n",
    "                \n",
    "        # Printing the classification report for the model that was inputed into the function\n",
    "        report_model = classification_report(real_classes, Y_class, target_names = labels_classes)\n",
    "        print(report_model)"
   ]
  },
  {
   "cell_type": "code",
   "execution_count": 4,
   "id": "fc5065f7",
   "metadata": {},
   "outputs": [],
   "source": [
    "# Defining a function that will perform the model evaluation, when the image size is 64x64px, and batch_size is 32\n",
    "# This function will receive a model and a directory (to know where to get the images)\n",
    "def model_evaluation_64_32(model, directory_evaluation=[]):\n",
    "    for i in range(len(directory_evaluation)):\n",
    "        generator = test_datagen.flow_from_directory(\n",
    "            directory_evaluation[i],\n",
    "            target_size = (64,64),\n",
    "            batch_size = 32,\n",
    "            class_mode = 'categorical',\n",
    "            shuffle = False\n",
    "        )\n",
    "        epoch_steps = math.ceil(generator.samples/generator.batch_size)\n",
    "        \n",
    "        # Fit the model to the data using the created generator\n",
    "        Y_pred = model.predict_generator(generator, steps=epoch_steps)\n",
    "        # Get the most probable class from the prediction\n",
    "        Y_class = np.argmax(Y_pred, axis = 1)\n",
    "        \n",
    "        real_classes = generator.classes\n",
    "        labels_classes = list(generator.class_indices.keys())\n",
    "                \n",
    "        # Printing the classification report for the model that was inputed into the function\n",
    "        report_model = classification_report(real_classes, Y_class, target_names = labels_classes)\n",
    "        print(report_model)"
   ]
  },
  {
   "cell_type": "code",
   "execution_count": 5,
   "id": "30cbaa45",
   "metadata": {},
   "outputs": [],
   "source": [
    "# Defining a function that will perform the model evaluation, when the image size is 128x128px, and batch_size is 20\n",
    "# This function will receive a model and a directory (to know where to get the images)\n",
    "def model_evaluation_128_20(model, directory_evaluation=[]):\n",
    "    for i in range(len(directory_evaluation)):\n",
    "        generator = test_datagen.flow_from_directory(\n",
    "            directory_evaluation[i],\n",
    "            target_size = (128,128),\n",
    "            batch_size = 20,\n",
    "            class_mode = 'categorical',\n",
    "            shuffle = False\n",
    "        )\n",
    "        epoch_steps = math.ceil(generator.samples/generator.batch_size)\n",
    "        \n",
    "        # Fit the model to the data using the created generator\n",
    "        Y_pred = model.predict_generator(generator, steps=epoch_steps)\n",
    "        # Get the most probable class from the prediction\n",
    "        Y_class = np.argmax(Y_pred, axis = 1)\n",
    "        \n",
    "        real_classes = generator.classes\n",
    "        labels_classes = list(generator.class_indices.keys())\n",
    "                \n",
    "        # Printing the classification report for the model that was inputed into the function\n",
    "        report_model = classification_report(real_classes, Y_class, target_names = labels_classes)\n",
    "        print(report_model)"
   ]
  },
  {
   "cell_type": "code",
   "execution_count": 6,
   "id": "3a82130e",
   "metadata": {},
   "outputs": [],
   "source": [
    "# Defining a function that will perform the model evaluation, when the image size is 227x227px --> AlexNet\n",
    "# This function will receive a model and a directory (to know where to get the images)\n",
    "def model_evaluation_227(model, directory_evaluation=[]):\n",
    "    for i in range(len(directory_evaluation)):\n",
    "        generator = test_datagen.flow_from_directory(\n",
    "            directory_evaluation[i],\n",
    "            target_size = (227,227),\n",
    "            batch_size = 64,\n",
    "            class_mode = 'categorical',\n",
    "            shuffle = False\n",
    "        )\n",
    "        epoch_steps = math.ceil(generator.samples/generator.batch_size)\n",
    "        \n",
    "        # Fit the model to the data using the created generator\n",
    "        Y_pred = model.predict_generator(generator, steps=epoch_steps)\n",
    "        # Get the most probable class from the prediction\n",
    "        Y_class = np.argmax(Y_pred, axis = 1)\n",
    "        \n",
    "        real_classes = generator.classes\n",
    "        labels_classes = list(generator.class_indices.keys())\n",
    "                \n",
    "        # Printing the classification report for the model that was inputed into the function\n",
    "        report_model = classification_report(real_classes, Y_class, target_names = labels_classes)\n",
    "        print(report_model)"
   ]
  },
  {
   "cell_type": "code",
   "execution_count": 7,
   "id": "2a6e4be1",
   "metadata": {},
   "outputs": [
    {
     "name": "stdout",
     "output_type": "stream",
     "text": [
      "C:\\Users\\anton\\Desktop\\ProjetoDeepLearningFinalFinal\\Split_Dataset\\Test\n"
     ]
    }
   ],
   "source": [
    "# Defining the directory where the test data is located\n",
    "directory = os.getcwd()\n",
    "split_directory = directory+'\\\\Split_Dataset'\n",
    "test_directory = split_directory+'\\\\Test'\n",
    "print(test_directory)"
   ]
  },
  {
   "cell_type": "code",
   "execution_count": 8,
   "id": "de6fcfa6",
   "metadata": {},
   "outputs": [],
   "source": [
    "# Rescalling the pixel values (between 0 and 255) to the [0,1] interval\n",
    "test_datagen = ImageDataGenerator(rescale=1./255)"
   ]
  },
  {
   "cell_type": "markdown",
   "id": "f47b2129",
   "metadata": {},
   "source": [
    "## 3.2. Calling the model_evaluation function on the 5 models"
   ]
  },
  {
   "cell_type": "markdown",
   "id": "f69c5027",
   "metadata": {},
   "source": [
    "### 3.2.1. Model 1"
   ]
  },
  {
   "cell_type": "code",
   "execution_count": 9,
   "id": "7e780128",
   "metadata": {
    "scrolled": true
   },
   "outputs": [
    {
     "name": "stdout",
     "output_type": "stream",
     "text": [
      "Found 661 images belonging to 4 classes.\n"
     ]
    },
    {
     "name": "stderr",
     "output_type": "stream",
     "text": [
      "<ipython-input-3-c484568f867b>:15: UserWarning: `Model.predict_generator` is deprecated and will be removed in a future version. Please use `Model.predict`, which supports generators.\n",
      "  Y_pred = model.predict_generator(generator, steps=epoch_steps)\n"
     ]
    },
    {
     "name": "stdout",
     "output_type": "stream",
     "text": [
      "                   precision    recall  f1-score   support\n",
      "\n",
      "    fully_covered       0.98      0.97      0.97       145\n",
      "      not_covered       0.98      0.98      0.98       366\n",
      "         not_face       0.92      0.97      0.94       111\n",
      "partially_covered       1.00      0.90      0.95        39\n",
      "\n",
      "         accuracy                           0.97       661\n",
      "        macro avg       0.97      0.95      0.96       661\n",
      "     weighted avg       0.97      0.97      0.97       661\n",
      "\n"
     ]
    }
   ],
   "source": [
    "model_evaluation_64_20(model1, [test_directory])"
   ]
  },
  {
   "cell_type": "markdown",
   "id": "5006806d",
   "metadata": {},
   "source": [
    "### 3.2.2. Model 2"
   ]
  },
  {
   "cell_type": "code",
   "execution_count": 10,
   "id": "e2b2e874",
   "metadata": {
    "scrolled": true
   },
   "outputs": [
    {
     "name": "stdout",
     "output_type": "stream",
     "text": [
      "Found 661 images belonging to 4 classes.\n"
     ]
    },
    {
     "name": "stderr",
     "output_type": "stream",
     "text": [
      "<ipython-input-3-c484568f867b>:15: UserWarning: `Model.predict_generator` is deprecated and will be removed in a future version. Please use `Model.predict`, which supports generators.\n",
      "  Y_pred = model.predict_generator(generator, steps=epoch_steps)\n"
     ]
    },
    {
     "name": "stdout",
     "output_type": "stream",
     "text": [
      "                   precision    recall  f1-score   support\n",
      "\n",
      "    fully_covered       0.94      0.92      0.93       145\n",
      "      not_covered       0.98      0.94      0.96       366\n",
      "         not_face       0.79      0.93      0.85       111\n",
      "partially_covered       0.87      0.87      0.87        39\n",
      "\n",
      "         accuracy                           0.93       661\n",
      "        macro avg       0.90      0.91      0.90       661\n",
      "     weighted avg       0.93      0.93      0.93       661\n",
      "\n"
     ]
    }
   ],
   "source": [
    "model_evaluation_64_20(model2, [test_directory])"
   ]
  },
  {
   "cell_type": "markdown",
   "id": "f29ea2d6",
   "metadata": {},
   "source": [
    "### 3.2.3. Model 3"
   ]
  },
  {
   "cell_type": "code",
   "execution_count": 11,
   "id": "7f6f2718",
   "metadata": {
    "scrolled": true
   },
   "outputs": [
    {
     "name": "stdout",
     "output_type": "stream",
     "text": [
      "Found 661 images belonging to 4 classes.\n"
     ]
    },
    {
     "name": "stderr",
     "output_type": "stream",
     "text": [
      "<ipython-input-4-d87886bbf42b>:15: UserWarning: `Model.predict_generator` is deprecated and will be removed in a future version. Please use `Model.predict`, which supports generators.\n",
      "  Y_pred = model.predict_generator(generator, steps=epoch_steps)\n"
     ]
    },
    {
     "name": "stdout",
     "output_type": "stream",
     "text": [
      "                   precision    recall  f1-score   support\n",
      "\n",
      "    fully_covered       0.96      0.90      0.93       145\n",
      "      not_covered       0.95      0.98      0.96       366\n",
      "         not_face       0.90      0.90      0.90       111\n",
      "partially_covered       0.97      0.92      0.95        39\n",
      "\n",
      "         accuracy                           0.95       661\n",
      "        macro avg       0.95      0.93      0.94       661\n",
      "     weighted avg       0.95      0.95      0.95       661\n",
      "\n"
     ]
    }
   ],
   "source": [
    "model_evaluation_64_32(model3, [test_directory])"
   ]
  },
  {
   "cell_type": "markdown",
   "id": "478e5ac6",
   "metadata": {},
   "source": [
    "### 3.2.4. Model 4"
   ]
  },
  {
   "cell_type": "code",
   "execution_count": 12,
   "id": "50e30715",
   "metadata": {
    "scrolled": true
   },
   "outputs": [
    {
     "name": "stdout",
     "output_type": "stream",
     "text": [
      "Found 661 images belonging to 4 classes.\n"
     ]
    },
    {
     "name": "stderr",
     "output_type": "stream",
     "text": [
      "<ipython-input-5-d538374c68ae>:15: UserWarning: `Model.predict_generator` is deprecated and will be removed in a future version. Please use `Model.predict`, which supports generators.\n",
      "  Y_pred = model.predict_generator(generator, steps=epoch_steps)\n"
     ]
    },
    {
     "name": "stdout",
     "output_type": "stream",
     "text": [
      "                   precision    recall  f1-score   support\n",
      "\n",
      "    fully_covered       0.94      0.93      0.93       145\n",
      "      not_covered       0.98      0.97      0.97       366\n",
      "         not_face       0.93      0.95      0.94       111\n",
      "partially_covered       0.88      0.92      0.90        39\n",
      "\n",
      "         accuracy                           0.95       661\n",
      "        macro avg       0.93      0.94      0.94       661\n",
      "     weighted avg       0.96      0.95      0.95       661\n",
      "\n"
     ]
    }
   ],
   "source": [
    "model_evaluation_128_20(model4, [test_directory])"
   ]
  },
  {
   "cell_type": "markdown",
   "id": "5dc81ef2",
   "metadata": {},
   "source": [
    "### 3.2.5. Model 5"
   ]
  },
  {
   "cell_type": "code",
   "execution_count": 13,
   "id": "af081a55",
   "metadata": {
    "scrolled": true
   },
   "outputs": [
    {
     "name": "stdout",
     "output_type": "stream",
     "text": [
      "Found 661 images belonging to 4 classes.\n"
     ]
    },
    {
     "name": "stderr",
     "output_type": "stream",
     "text": [
      "<ipython-input-6-a9d2bbc97939>:15: UserWarning: `Model.predict_generator` is deprecated and will be removed in a future version. Please use `Model.predict`, which supports generators.\n",
      "  Y_pred = model.predict_generator(generator, steps=epoch_steps)\n"
     ]
    },
    {
     "name": "stdout",
     "output_type": "stream",
     "text": [
      "                   precision    recall  f1-score   support\n",
      "\n",
      "    fully_covered       0.90      0.94      0.92       145\n",
      "      not_covered       1.00      0.89      0.94       366\n",
      "         not_face       0.73      0.99      0.84       111\n",
      "partially_covered       0.91      0.77      0.83        39\n",
      "\n",
      "         accuracy                           0.91       661\n",
      "        macro avg       0.89      0.90      0.88       661\n",
      "     weighted avg       0.93      0.91      0.91       661\n",
      "\n"
     ]
    }
   ],
   "source": [
    "model_evaluation_227(model5, [test_directory])"
   ]
  },
  {
   "cell_type": "markdown",
   "id": "16b1c7ee",
   "metadata": {},
   "source": [
    "# 4. Crossvalidation"
   ]
  },
  {
   "cell_type": "markdown",
   "id": "bca206c4",
   "metadata": {},
   "source": [
    "## 4.1. Crossvalidation setup - functions and required steps"
   ]
  },
  {
   "cell_type": "code",
   "execution_count": 14,
   "id": "0bd5af75",
   "metadata": {},
   "outputs": [
    {
     "data": {
      "text/plain": [
       "'C:\\\\Users\\\\anton\\\\Desktop\\\\ProjetoDeepLearningFinalFinal\\\\Dataset'"
      ]
     },
     "execution_count": 14,
     "metadata": {},
     "output_type": "execute_result"
    }
   ],
   "source": [
    "directory = os.getcwd()\n",
    "original_dataset_directory= os.path.join(directory,'Dataset')\n",
    "original_dataset_directory"
   ]
  },
  {
   "cell_type": "code",
   "execution_count": 15,
   "id": "70fd277e",
   "metadata": {},
   "outputs": [],
   "source": [
    "categories = ['fully_covered', 'not_covered', 'not_face', 'partially_covered']"
   ]
  },
  {
   "cell_type": "code",
   "execution_count": 16,
   "id": "62871e2d",
   "metadata": {},
   "outputs": [],
   "source": [
    "# IMAGES 2 ARRAYS -> 64pxs\n",
    "data_images_64 = []\n",
    "labels_categories_64 = []\n",
    "\n",
    "for category in categories:\n",
    "    path = os.path.join(original_dataset_directory, category)\n",
    "    for img in os.listdir(path):\n",
    "        img_path = os.path.join(path, img)\n",
    "        image_64 = load_img(img_path, target_size=(64,64))\n",
    "        image_64 = img_to_array(image_64)\n",
    "        image_64 = preprocess_input(image_64)\n",
    "\n",
    "        data_images_64.append(image_64)\n",
    "        labels_categories_64.append(category)\n",
    "\n",
    "lb_64 = LabelBinarizer()\n",
    "labels_64 = lb_64.fit_transform(labels_categories_64)\n",
    "data_64 = np.array(data_images_64)\n",
    "labels_64 = np.array(labels_64)"
   ]
  },
  {
   "cell_type": "code",
   "execution_count": 17,
   "id": "015615b8",
   "metadata": {},
   "outputs": [],
   "source": [
    "def eval_model_64(model, test, test_labels):\n",
    "    \n",
    "    predictions = model.predict(test)\n",
    "    # Get most likely class\n",
    "    predictions = np.argmax(predictions, axis=1)\n",
    "    test_labels = np.argmax(test_labels.copy(), axis=1)\n",
    "\n",
    "    report = classification_report(test_labels, predictions, target_names=lb_64.classes_)\n",
    "    print(report)"
   ]
  },
  {
   "cell_type": "code",
   "execution_count": 18,
   "id": "b83dae18",
   "metadata": {},
   "outputs": [],
   "source": [
    "train_data_64, test_data_64, train_labels_64, test_labels_64 = train_test_split(data_64, labels_64, test_size=.1, stratify=labels_64,\n",
    "                                                         random_state=42)"
   ]
  },
  {
   "cell_type": "code",
   "execution_count": 19,
   "id": "22c81310",
   "metadata": {},
   "outputs": [],
   "source": [
    "# IMAGES 2 ARRAYS -> 128pxs\n",
    "data_images_128 = []\n",
    "labels_categories_128 = []\n",
    "\n",
    "for category in categories:\n",
    "    path = os.path.join(original_dataset_directory, category)\n",
    "    for img in os.listdir(path):\n",
    "        img_path = os.path.join(path, img)\n",
    "        image_128 = load_img(img_path, target_size=(128,128))\n",
    "        image_128 = img_to_array(image_128)\n",
    "        image_128 = preprocess_input(image_128)\n",
    "\n",
    "        data_images_128.append(image_128)\n",
    "        labels_categories_128.append(category)\n",
    "\n",
    "lb_128 = LabelBinarizer()\n",
    "labels_128 = lb_128.fit_transform(labels_categories_128)\n",
    "data_128 = np.array(data_images_128)\n",
    "labels_128 = np.array(labels_128)"
   ]
  },
  {
   "cell_type": "code",
   "execution_count": 20,
   "id": "41ce7621",
   "metadata": {},
   "outputs": [],
   "source": [
    "def eval_model_128(model, test, test_labels):\n",
    "    \n",
    "    predictions = model.predict(test)\n",
    "    # Get most likely class\n",
    "    predictions = np.argmax(predictions, axis=1)\n",
    "    test_labels = np.argmax(test_labels.copy(), axis=1)\n",
    "\n",
    "    report = classification_report(test_labels, predictions, target_names=lb_128.classes_)\n",
    "    print(report)"
   ]
  },
  {
   "cell_type": "code",
   "execution_count": 21,
   "id": "bec6cad2",
   "metadata": {},
   "outputs": [],
   "source": [
    "train_data_128, test_data_128, train_labels_128, test_labels_128 = train_test_split(data_128, labels_128, test_size=.1, stratify=labels_128,\n",
    "                                                         random_state=42)"
   ]
  },
  {
   "cell_type": "markdown",
   "id": "245d506c",
   "metadata": {},
   "source": [
    "## 4.2. Creating and testing models with crossvalidation"
   ]
  },
  {
   "cell_type": "markdown",
   "id": "a115c32a",
   "metadata": {},
   "source": [
    "### 4.2.1. Model 1"
   ]
  },
  {
   "cell_type": "code",
   "execution_count": 22,
   "id": "cd7a2d7f",
   "metadata": {},
   "outputs": [],
   "source": [
    "def model1_creation():\n",
    "    model = models.Sequential()\n",
    "    model.add(layers.Conv2D(32, (3,3), activation='relu', input_shape=(64,64,3)))\n",
    "    model.add(layers.MaxPooling2D((2,2)))\n",
    "    model.add(layers.Conv2D(64, (3,3), activation='relu'))\n",
    "    model.add(layers.MaxPooling2D((2,2)))\n",
    "    model.add(layers.Conv2D(128, (3,3), activation='relu'))\n",
    "    model.add(layers.MaxPooling2D((2,2)))\n",
    "    model.add(layers.Conv2D(128, (3,3), activation='relu'))\n",
    "    model.add(layers.MaxPooling2D((2,2)))\n",
    "    model.add(layers.Flatten())\n",
    "    model.add(layers.Dense(512, activation='relu'))\n",
    "    model.add(layers.Dense(4, activation='softmax'))\n",
    "\n",
    "    model.compile(loss='categorical_crossentropy',\n",
    "                 optimizer=optimizers.RMSprop(lr=1e-4),\n",
    "                 metrics=['accuracy'])\n",
    "    return model"
   ]
  },
  {
   "cell_type": "code",
   "execution_count": 23,
   "id": "146c8c50",
   "metadata": {},
   "outputs": [
    {
     "name": "stderr",
     "output_type": "stream",
     "text": [
      "<ipython-input-23-587213c4842c>:2: DeprecationWarning: KerasClassifier is deprecated, use Sci-Keras (https://github.com/adriangb/scikeras) instead. See https://www.adriangb.com/scikeras/stable/migration.html for help migrating.\n",
      "  model1 = KerasClassifier(build_fn=model1_creation,\n"
     ]
    }
   ],
   "source": [
    "# Creating the model\n",
    "model1 = KerasClassifier(build_fn=model1_creation, \n",
    "                        batch_size=64, \n",
    "                        epochs=15)"
   ]
  },
  {
   "cell_type": "code",
   "execution_count": 24,
   "id": "872abc59",
   "metadata": {},
   "outputs": [
    {
     "name": "stdout",
     "output_type": "stream",
     "text": [
      "Epoch 1/15\n"
     ]
    },
    {
     "name": "stderr",
     "output_type": "stream",
     "text": [
      "D:\\anaconda3\\lib\\site-packages\\keras\\optimizer_v2\\rmsprop.py:130: UserWarning: The `lr` argument is deprecated, use `learning_rate` instead.\n",
      "  super(RMSprop, self).__init__(name, **kwargs)\n"
     ]
    },
    {
     "name": "stdout",
     "output_type": "stream",
     "text": [
      "75/75 [==============================] - 10s 119ms/step - loss: 0.8848 - accuracy: 0.6609\n",
      "Epoch 2/15\n",
      "75/75 [==============================] - 9s 119ms/step - loss: 0.5990 - accuracy: 0.7765\n",
      "Epoch 3/15\n",
      "75/75 [==============================] - 9s 122ms/step - loss: 0.4861 - accuracy: 0.8183\n",
      "Epoch 4/15\n",
      "75/75 [==============================] - 9s 122ms/step - loss: 0.4125 - accuracy: 0.8533\n",
      "Epoch 5/15\n",
      "75/75 [==============================] - 10s 132ms/step - loss: 0.3479 - accuracy: 0.8798\n",
      "Epoch 6/15\n",
      "75/75 [==============================] - 10s 131ms/step - loss: 0.2998 - accuracy: 0.8974\n",
      "Epoch 7/15\n",
      "75/75 [==============================] - 10s 133ms/step - loss: 0.2621 - accuracy: 0.9110\n",
      "Epoch 8/15\n",
      "75/75 [==============================] - 10s 133ms/step - loss: 0.2307 - accuracy: 0.9232\n",
      "Epoch 9/15\n",
      "75/75 [==============================] - 10s 132ms/step - loss: 0.2066 - accuracy: 0.9274\n",
      "Epoch 10/15\n",
      "75/75 [==============================] - 10s 133ms/step - loss: 0.1803 - accuracy: 0.9375\n",
      "Epoch 11/15\n",
      "75/75 [==============================] - 10s 131ms/step - loss: 0.1545 - accuracy: 0.9467\n",
      "Epoch 12/15\n",
      "75/75 [==============================] - 10s 134ms/step - loss: 0.1372 - accuracy: 0.9526\n",
      "Epoch 13/15\n",
      "75/75 [==============================] - 10s 134ms/step - loss: 0.1244 - accuracy: 0.9616\n",
      "Epoch 14/15\n",
      "75/75 [==============================] - 11s 141ms/step - loss: 0.1099 - accuracy: 0.9629\n",
      "Epoch 15/15\n",
      "75/75 [==============================] - 11s 141ms/step - loss: 0.0938 - accuracy: 0.9717\n",
      "19/19 [==============================] - 1s 36ms/step - loss: 0.1374 - accuracy: 0.9564\n",
      "Epoch 1/15\n"
     ]
    },
    {
     "name": "stderr",
     "output_type": "stream",
     "text": [
      "D:\\anaconda3\\lib\\site-packages\\keras\\optimizer_v2\\rmsprop.py:130: UserWarning: The `lr` argument is deprecated, use `learning_rate` instead.\n",
      "  super(RMSprop, self).__init__(name, **kwargs)\n"
     ]
    },
    {
     "name": "stdout",
     "output_type": "stream",
     "text": [
      "75/75 [==============================] - 11s 140ms/step - loss: 0.9245 - accuracy: 0.6488\n",
      "Epoch 2/15\n",
      "75/75 [==============================] - 11s 151ms/step - loss: 0.6291 - accuracy: 0.7570\n",
      "Epoch 3/15\n",
      "75/75 [==============================] - 11s 151ms/step - loss: 0.4936 - accuracy: 0.8200\n",
      "Epoch 4/15\n",
      "75/75 [==============================] - 12s 162ms/step - loss: 0.4125 - accuracy: 0.8531\n",
      "Epoch 5/15\n",
      "75/75 [==============================] - 13s 175ms/step - loss: 0.3578 - accuracy: 0.8743\n",
      "Epoch 6/15\n",
      "75/75 [==============================] - 14s 186ms/step - loss: 0.3132 - accuracy: 0.8901\n",
      "Epoch 7/15\n",
      "75/75 [==============================] - 16s 213ms/step - loss: 0.2720 - accuracy: 0.9077\n",
      "Epoch 8/15\n",
      "75/75 [==============================] - 18s 245ms/step - loss: 0.2424 - accuracy: 0.9178\n",
      "Epoch 9/15\n",
      "75/75 [==============================] - 21s 286ms/step - loss: 0.2189 - accuracy: 0.9234\n",
      "Epoch 10/15\n",
      "75/75 [==============================] - 20s 272ms/step - loss: 0.1965 - accuracy: 0.9358\n",
      "Epoch 11/15\n",
      "75/75 [==============================] - 13s 174ms/step - loss: 0.1755 - accuracy: 0.9400\n",
      "Epoch 12/15\n",
      "75/75 [==============================] - 13s 167ms/step - loss: 0.1524 - accuracy: 0.9522\n",
      "Epoch 13/15\n",
      "75/75 [==============================] - 14s 182ms/step - loss: 0.1392 - accuracy: 0.9549\n",
      "Epoch 14/15\n",
      "75/75 [==============================] - 12s 161ms/step - loss: 0.1259 - accuracy: 0.9576\n",
      "Epoch 15/15\n",
      "75/75 [==============================] - 12s 159ms/step - loss: 0.1155 - accuracy: 0.9599\n",
      "19/19 [==============================] - 1s 44ms/step - loss: 0.1886 - accuracy: 0.9362\n",
      "Epoch 1/15\n"
     ]
    },
    {
     "name": "stderr",
     "output_type": "stream",
     "text": [
      "D:\\anaconda3\\lib\\site-packages\\keras\\optimizer_v2\\rmsprop.py:130: UserWarning: The `lr` argument is deprecated, use `learning_rate` instead.\n",
      "  super(RMSprop, self).__init__(name, **kwargs)\n"
     ]
    },
    {
     "name": "stdout",
     "output_type": "stream",
     "text": [
      "75/75 [==============================] - 12s 153ms/step - loss: 0.8999 - accuracy: 0.6569\n",
      "Epoch 2/15\n",
      "75/75 [==============================] - 11s 146ms/step - loss: 0.6128 - accuracy: 0.7663\n",
      "Epoch 3/15\n",
      "75/75 [==============================] - 11s 144ms/step - loss: 0.4916 - accuracy: 0.8164\n",
      "Epoch 4/15\n",
      "75/75 [==============================] - 11s 143ms/step - loss: 0.4159 - accuracy: 0.8454\n",
      "Epoch 5/15\n",
      "75/75 [==============================] - 11s 149ms/step - loss: 0.3560 - accuracy: 0.8726\n",
      "Epoch 6/15\n",
      "75/75 [==============================] - 11s 144ms/step - loss: 0.3137 - accuracy: 0.8909\n",
      "Epoch 7/15\n",
      "75/75 [==============================] - 11s 144ms/step - loss: 0.2738 - accuracy: 0.9056\n",
      "Epoch 8/15\n",
      "75/75 [==============================] - 11s 144ms/step - loss: 0.2386 - accuracy: 0.9157\n",
      "Epoch 9/15\n",
      "75/75 [==============================] - 11s 143ms/step - loss: 0.2079 - accuracy: 0.9301\n",
      "Epoch 10/15\n",
      "75/75 [==============================] - 11s 149ms/step - loss: 0.1854 - accuracy: 0.9408\n",
      "Epoch 11/15\n",
      "75/75 [==============================] - 11s 144ms/step - loss: 0.1653 - accuracy: 0.9448\n",
      "Epoch 12/15\n",
      "75/75 [==============================] - 11s 150ms/step - loss: 0.1480 - accuracy: 0.9490\n",
      "Epoch 13/15\n",
      "75/75 [==============================] - 11s 150ms/step - loss: 0.1281 - accuracy: 0.9580\n",
      "Epoch 14/15\n",
      "75/75 [==============================] - 13s 167ms/step - loss: 0.1150 - accuracy: 0.9643\n",
      "Epoch 15/15\n",
      "75/75 [==============================] - 11s 153ms/step - loss: 0.1038 - accuracy: 0.9675\n",
      "19/19 [==============================] - 1s 42ms/step - loss: 0.1161 - accuracy: 0.9597\n",
      "Epoch 1/15\n"
     ]
    },
    {
     "name": "stderr",
     "output_type": "stream",
     "text": [
      "D:\\anaconda3\\lib\\site-packages\\keras\\optimizer_v2\\rmsprop.py:130: UserWarning: The `lr` argument is deprecated, use `learning_rate` instead.\n",
      "  super(RMSprop, self).__init__(name, **kwargs)\n"
     ]
    },
    {
     "name": "stdout",
     "output_type": "stream",
     "text": [
      "75/75 [==============================] - 12s 151ms/step - loss: 0.8827 - accuracy: 0.6637\n",
      "Epoch 2/15\n",
      "75/75 [==============================] - 11s 153ms/step - loss: 0.6075 - accuracy: 0.7674\n",
      "Epoch 3/15\n",
      "75/75 [==============================] - 12s 154ms/step - loss: 0.4928 - accuracy: 0.8200\n",
      "Epoch 4/15\n",
      "75/75 [==============================] - 12s 161ms/step - loss: 0.4059 - accuracy: 0.8534\n",
      "Epoch 5/15\n",
      "75/75 [==============================] - 12s 163ms/step - loss: 0.3552 - accuracy: 0.8781\n",
      "Epoch 6/15\n",
      "75/75 [==============================] - 13s 171ms/step - loss: 0.2983 - accuracy: 0.8985\n",
      "Epoch 7/15\n",
      "75/75 [==============================] - 13s 167ms/step - loss: 0.2615 - accuracy: 0.9136\n",
      "Epoch 8/15\n",
      "75/75 [==============================] - 13s 176ms/step - loss: 0.2244 - accuracy: 0.9245\n",
      "Epoch 9/15\n",
      "75/75 [==============================] - 14s 182ms/step - loss: 0.1968 - accuracy: 0.9339\n",
      "Epoch 10/15\n",
      "75/75 [==============================] - 13s 177ms/step - loss: 0.1712 - accuracy: 0.9423\n",
      "Epoch 11/15\n",
      "75/75 [==============================] - 13s 178ms/step - loss: 0.1526 - accuracy: 0.9478\n",
      "Epoch 12/15\n",
      "75/75 [==============================] - 12s 163ms/step - loss: 0.1319 - accuracy: 0.9568\n",
      "Epoch 13/15\n",
      "75/75 [==============================] - 12s 161ms/step - loss: 0.1243 - accuracy: 0.9608\n",
      "Epoch 14/15\n",
      "75/75 [==============================] - 12s 159ms/step - loss: 0.1066 - accuracy: 0.9658\n",
      "Epoch 15/15\n",
      "75/75 [==============================] - 12s 158ms/step - loss: 0.0949 - accuracy: 0.9702\n",
      "19/19 [==============================] - 1s 41ms/step - loss: 0.1562 - accuracy: 0.9471\n",
      "Epoch 1/15\n"
     ]
    },
    {
     "name": "stderr",
     "output_type": "stream",
     "text": [
      "D:\\anaconda3\\lib\\site-packages\\keras\\optimizer_v2\\rmsprop.py:130: UserWarning: The `lr` argument is deprecated, use `learning_rate` instead.\n",
      "  super(RMSprop, self).__init__(name, **kwargs)\n"
     ]
    },
    {
     "name": "stdout",
     "output_type": "stream",
     "text": [
      "75/75 [==============================] - 12s 157ms/step - loss: 0.8931 - accuracy: 0.6589\n",
      "Epoch 2/15\n",
      "75/75 [==============================] - 14s 190ms/step - loss: 0.6185 - accuracy: 0.7636\n",
      "Epoch 3/15\n",
      "75/75 [==============================] - 17s 222ms/step - loss: 0.5125 - accuracy: 0.8018\n",
      "Epoch 4/15\n",
      "75/75 [==============================] - 17s 221ms/step - loss: 0.4335 - accuracy: 0.8366\n",
      "Epoch 5/15\n",
      "75/75 [==============================] - 15s 201ms/step - loss: 0.3794 - accuracy: 0.8643\n",
      "Epoch 6/15\n",
      "75/75 [==============================] - 15s 199ms/step - loss: 0.3325 - accuracy: 0.8869\n",
      "Epoch 7/15\n",
      "75/75 [==============================] - 15s 205ms/step - loss: 0.2844 - accuracy: 0.9008\n",
      "Epoch 8/15\n",
      "75/75 [==============================] - 15s 202ms/step - loss: 0.2543 - accuracy: 0.9090\n",
      "Epoch 9/15\n",
      "75/75 [==============================] - 13s 172ms/step - loss: 0.2220 - accuracy: 0.9209\n",
      "Epoch 10/15\n",
      "75/75 [==============================] - 13s 172ms/step - loss: 0.1964 - accuracy: 0.9331\n",
      "Epoch 11/15\n",
      "75/75 [==============================] - 14s 182ms/step - loss: 0.1710 - accuracy: 0.9432\n",
      "Epoch 12/15\n",
      "75/75 [==============================] - 13s 170ms/step - loss: 0.1539 - accuracy: 0.9452\n",
      "Epoch 13/15\n",
      "75/75 [==============================] - 13s 179ms/step - loss: 0.1419 - accuracy: 0.9478\n",
      "Epoch 14/15\n",
      "75/75 [==============================] - 13s 175ms/step - loss: 0.1266 - accuracy: 0.9606\n",
      "Epoch 15/15\n",
      "75/75 [==============================] - 15s 200ms/step - loss: 0.1113 - accuracy: 0.9608\n",
      "19/19 [==============================] - 1s 47ms/step - loss: 0.2101 - accuracy: 0.9295\n"
     ]
    },
    {
     "data": {
      "text/plain": [
       "0.9457846522331238"
      ]
     },
     "execution_count": 24,
     "metadata": {},
     "output_type": "execute_result"
    }
   ],
   "source": [
    "# Evaluate using 5 cv\n",
    "accuracies = cross_val_score(estimator = model1, X = train_data_64, y=train_labels_64,\n",
    "                            cv=5)\n",
    "accuracies.mean()"
   ]
  },
  {
   "cell_type": "code",
   "execution_count": 25,
   "id": "e684555c",
   "metadata": {},
   "outputs": [
    {
     "name": "stdout",
     "output_type": "stream",
     "text": [
      "Epoch 1/15\n",
      "94/94 [==============================] - 16s 167ms/step - loss: 0.8546 - accuracy: 0.6749\n",
      "Epoch 2/15\n",
      "94/94 [==============================] - 14s 148ms/step - loss: 0.5817 - accuracy: 0.7853\n",
      "Epoch 3/15\n",
      "94/94 [==============================] - 14s 147ms/step - loss: 0.4657 - accuracy: 0.8308\n",
      "Epoch 4/15\n",
      "94/94 [==============================] - 14s 150ms/step - loss: 0.3844 - accuracy: 0.8609\n",
      "Epoch 5/15\n",
      "94/94 [==============================] - 14s 148ms/step - loss: 0.3159 - accuracy: 0.8891\n",
      "Epoch 6/15\n",
      "94/94 [==============================] - 14s 151ms/step - loss: 0.2641 - accuracy: 0.9072\n",
      "Epoch 7/15\n",
      "94/94 [==============================] - 14s 149ms/step - loss: 0.2298 - accuracy: 0.9240\n",
      "Epoch 8/15\n",
      "94/94 [==============================] - 14s 149ms/step - loss: 0.1975 - accuracy: 0.9315\n",
      "Epoch 9/15\n",
      "94/94 [==============================] - 14s 152ms/step - loss: 0.1636 - accuracy: 0.9478\n",
      "Epoch 10/15\n",
      "94/94 [==============================] - 15s 160ms/step - loss: 0.1495 - accuracy: 0.9480\n",
      "Epoch 11/15\n",
      "94/94 [==============================] - 14s 151ms/step - loss: 0.1312 - accuracy: 0.9559\n",
      "Epoch 12/15\n",
      "94/94 [==============================] - 14s 146ms/step - loss: 0.1143 - accuracy: 0.9627\n",
      "Epoch 13/15\n",
      "94/94 [==============================] - 14s 146ms/step - loss: 0.0992 - accuracy: 0.9691\n",
      "Epoch 14/15\n",
      "94/94 [==============================] - 14s 147ms/step - loss: 0.0869 - accuracy: 0.9728\n",
      "Epoch 15/15\n",
      "94/94 [==============================] - 16s 170ms/step - loss: 0.0741 - accuracy: 0.9770\n"
     ]
    }
   ],
   "source": [
    "model1 = model1_creation()\n",
    "history = model1.fit(train_data_64, train_labels_64, batch_size=64, epochs=15)"
   ]
  },
  {
   "cell_type": "code",
   "execution_count": 26,
   "id": "0c16513f",
   "metadata": {
    "scrolled": true
   },
   "outputs": [
    {
     "name": "stdout",
     "output_type": "stream",
     "text": [
      "                   precision    recall  f1-score   support\n",
      "\n",
      "    fully_covered       0.98      0.81      0.89       145\n",
      "      not_covered       0.93      0.97      0.95       367\n",
      "         not_face       0.87      0.87      0.87       112\n",
      "partially_covered       0.77      0.95      0.85        39\n",
      "\n",
      "         accuracy                           0.92       663\n",
      "        macro avg       0.89      0.90      0.89       663\n",
      "     weighted avg       0.92      0.92      0.92       663\n",
      "\n"
     ]
    }
   ],
   "source": [
    "eval_model_64(model1, test_data_64, test_labels_64)"
   ]
  },
  {
   "cell_type": "markdown",
   "id": "379212e3",
   "metadata": {},
   "source": [
    "### 4.2.2. Model 2"
   ]
  },
  {
   "cell_type": "code",
   "execution_count": 27,
   "id": "29673cf9",
   "metadata": {},
   "outputs": [],
   "source": [
    "def model2_creation():\n",
    "    model = models.Sequential()\n",
    "    model.add(layers.Conv2D(32, (3,3), activation='relu', input_shape=(64,64,3)))\n",
    "    model.add(layers.MaxPooling2D((2,2)))\n",
    "    model.add(layers.Conv2D(64, (3,3), activation='relu'))\n",
    "    model.add(layers.MaxPooling2D((2,2)))\n",
    "    model.add(layers.Conv2D(128, (3,3), activation='relu'))\n",
    "    model.add(layers.MaxPooling2D((2,2)))\n",
    "    model.add(layers.Conv2D(128, (3,3), activation='relu'))\n",
    "    model.add(layers.MaxPooling2D((2,2)))\n",
    "    model.add(layers.Flatten())\n",
    "    model.add(layers.Dropout(0.5))\n",
    "    model.add(layers.Dense(512, activation='relu'))\n",
    "    model.add(layers.Dense(4, activation='softmax'))\n",
    "\n",
    "    model.compile(loss='categorical_crossentropy',\n",
    "                 optimizer=optimizers.RMSprop(lr=1e-4),\n",
    "                 metrics=['accuracy'])\n",
    "    return model"
   ]
  },
  {
   "cell_type": "code",
   "execution_count": 28,
   "id": "0e33fcf9",
   "metadata": {},
   "outputs": [
    {
     "name": "stderr",
     "output_type": "stream",
     "text": [
      "<ipython-input-28-acea64b1a13e>:2: DeprecationWarning: KerasClassifier is deprecated, use Sci-Keras (https://github.com/adriangb/scikeras) instead. See https://www.adriangb.com/scikeras/stable/migration.html for help migrating.\n",
      "  model2 = KerasClassifier(build_fn=model2_creation,\n"
     ]
    }
   ],
   "source": [
    "# Creating the model\n",
    "model2 = KerasClassifier(build_fn=model2_creation, \n",
    "                        batch_size=64, \n",
    "                        epochs=15)"
   ]
  },
  {
   "cell_type": "code",
   "execution_count": 29,
   "id": "e3d980cc",
   "metadata": {},
   "outputs": [
    {
     "name": "stdout",
     "output_type": "stream",
     "text": [
      "Epoch 1/15\n"
     ]
    },
    {
     "name": "stderr",
     "output_type": "stream",
     "text": [
      "D:\\anaconda3\\lib\\site-packages\\keras\\optimizer_v2\\rmsprop.py:130: UserWarning: The `lr` argument is deprecated, use `learning_rate` instead.\n",
      "  super(RMSprop, self).__init__(name, **kwargs)\n"
     ]
    },
    {
     "name": "stdout",
     "output_type": "stream",
     "text": [
      "75/75 [==============================] - 14s 173ms/step - loss: 0.9814 - accuracy: 0.6202\n",
      "Epoch 2/15\n",
      "75/75 [==============================] - 14s 186ms/step - loss: 0.7223 - accuracy: 0.7146\n",
      "Epoch 3/15\n",
      "75/75 [==============================] - 16s 218ms/step - loss: 0.6063 - accuracy: 0.7627\n",
      "Epoch 4/15\n",
      "75/75 [==============================] - 15s 205ms/step - loss: 0.5238 - accuracy: 0.8026\n",
      "Epoch 5/15\n",
      "75/75 [==============================] - 13s 177ms/step - loss: 0.4413 - accuracy: 0.8374\n",
      "Epoch 6/15\n",
      "75/75 [==============================] - 14s 183ms/step - loss: 0.3912 - accuracy: 0.8592\n",
      "Epoch 7/15\n",
      "75/75 [==============================] - 14s 186ms/step - loss: 0.3506 - accuracy: 0.8810\n",
      "Epoch 8/15\n",
      "75/75 [==============================] - 14s 180ms/step - loss: 0.3202 - accuracy: 0.8861\n",
      "Epoch 9/15\n",
      "75/75 [==============================] - 13s 169ms/step - loss: 0.2825 - accuracy: 0.9024\n",
      "Epoch 10/15\n",
      "75/75 [==============================] - 11s 152ms/step - loss: 0.2702 - accuracy: 0.9075\n",
      "Epoch 11/15\n",
      "75/75 [==============================] - 11s 151ms/step - loss: 0.2372 - accuracy: 0.9163\n",
      "Epoch 12/15\n",
      "75/75 [==============================] - 12s 155ms/step - loss: 0.2202 - accuracy: 0.9213\n",
      "Epoch 13/15\n",
      "75/75 [==============================] - 12s 155ms/step - loss: 0.2034 - accuracy: 0.9270\n",
      "Epoch 14/15\n",
      "75/75 [==============================] - 12s 156ms/step - loss: 0.1843 - accuracy: 0.9381\n",
      "Epoch 15/15\n",
      "75/75 [==============================] - 12s 165ms/step - loss: 0.1760 - accuracy: 0.9392\n",
      "19/19 [==============================] - 1s 42ms/step - loss: 0.1609 - accuracy: 0.9430\n",
      "Epoch 1/15\n"
     ]
    },
    {
     "name": "stderr",
     "output_type": "stream",
     "text": [
      "D:\\anaconda3\\lib\\site-packages\\keras\\optimizer_v2\\rmsprop.py:130: UserWarning: The `lr` argument is deprecated, use `learning_rate` instead.\n",
      "  super(RMSprop, self).__init__(name, **kwargs)\n"
     ]
    },
    {
     "name": "stdout",
     "output_type": "stream",
     "text": [
      "75/75 [==============================] - 12s 155ms/step - loss: 0.9788 - accuracy: 0.6248\n",
      "Epoch 2/15\n",
      "75/75 [==============================] - 12s 159ms/step - loss: 0.7184 - accuracy: 0.7251\n",
      "Epoch 3/15\n",
      "75/75 [==============================] - 20s 266ms/step - loss: 0.5880 - accuracy: 0.7747\n",
      "Epoch 4/15\n",
      "75/75 [==============================] - 15s 196ms/step - loss: 0.4941 - accuracy: 0.8156\n",
      "Epoch 5/15\n",
      "75/75 [==============================] - 12s 159ms/step - loss: 0.4110 - accuracy: 0.8563\n",
      "Epoch 6/15\n",
      "75/75 [==============================] - 14s 180ms/step - loss: 0.3641 - accuracy: 0.8752\n",
      "Epoch 7/15\n",
      "75/75 [==============================] - 13s 179ms/step - loss: 0.3193 - accuracy: 0.8947\n",
      "Epoch 8/15\n",
      "75/75 [==============================] - 13s 169ms/step - loss: 0.2822 - accuracy: 0.9024\n",
      "Epoch 9/15\n",
      "75/75 [==============================] - 12s 160ms/step - loss: 0.2546 - accuracy: 0.9171\n",
      "Epoch 10/15\n",
      "75/75 [==============================] - 11s 148ms/step - loss: 0.2344 - accuracy: 0.9217\n",
      "Epoch 11/15\n",
      "75/75 [==============================] - 11s 146ms/step - loss: 0.2083 - accuracy: 0.9305\n",
      "Epoch 12/15\n",
      "75/75 [==============================] - 11s 146ms/step - loss: 0.1974 - accuracy: 0.9303\n",
      "Epoch 13/15\n",
      "75/75 [==============================] - 11s 146ms/step - loss: 0.1752 - accuracy: 0.9400\n",
      "Epoch 14/15\n",
      "75/75 [==============================] - 11s 147ms/step - loss: 0.1797 - accuracy: 0.9433\n",
      "Epoch 15/15\n",
      "75/75 [==============================] - 11s 147ms/step - loss: 0.1585 - accuracy: 0.9480\n",
      "19/19 [==============================] - 1s 40ms/step - loss: 0.1504 - accuracy: 0.9539\n",
      "Epoch 1/15\n"
     ]
    },
    {
     "name": "stderr",
     "output_type": "stream",
     "text": [
      "D:\\anaconda3\\lib\\site-packages\\keras\\optimizer_v2\\rmsprop.py:130: UserWarning: The `lr` argument is deprecated, use `learning_rate` instead.\n",
      "  super(RMSprop, self).__init__(name, **kwargs)\n"
     ]
    },
    {
     "name": "stdout",
     "output_type": "stream",
     "text": [
      "75/75 [==============================] - 12s 149ms/step - loss: 0.9813 - accuracy: 0.6181\n",
      "Epoch 2/15\n",
      "75/75 [==============================] - 11s 148ms/step - loss: 0.7142 - accuracy: 0.7159\n",
      "Epoch 3/15\n",
      "75/75 [==============================] - 11s 152ms/step - loss: 0.5840 - accuracy: 0.7742\n",
      "Epoch 4/15\n",
      "75/75 [==============================] - 11s 152ms/step - loss: 0.5034 - accuracy: 0.8107\n",
      "Epoch 5/15\n",
      "75/75 [==============================] - 12s 159ms/step - loss: 0.4336 - accuracy: 0.8443\n",
      "Epoch 6/15\n",
      "75/75 [==============================] - 11s 147ms/step - loss: 0.3701 - accuracy: 0.8682\n",
      "Epoch 7/15\n",
      "75/75 [==============================] - 11s 146ms/step - loss: 0.3356 - accuracy: 0.8840\n",
      "Epoch 8/15\n",
      "75/75 [==============================] - 11s 149ms/step - loss: 0.2980 - accuracy: 0.8970\n",
      "Epoch 9/15\n",
      "75/75 [==============================] - 11s 147ms/step - loss: 0.2677 - accuracy: 0.9050\n",
      "Epoch 10/15\n",
      "75/75 [==============================] - 12s 155ms/step - loss: 0.2465 - accuracy: 0.9154\n",
      "Epoch 11/15\n",
      "75/75 [==============================] - 12s 158ms/step - loss: 0.2274 - accuracy: 0.9209\n",
      "Epoch 12/15\n",
      "75/75 [==============================] - 12s 160ms/step - loss: 0.2066 - accuracy: 0.9297\n",
      "Epoch 13/15\n",
      "75/75 [==============================] - 11s 152ms/step - loss: 0.2010 - accuracy: 0.9291\n",
      "Epoch 14/15\n",
      "75/75 [==============================] - 12s 157ms/step - loss: 0.1799 - accuracy: 0.9396\n",
      "Epoch 15/15\n",
      "75/75 [==============================] - 12s 156ms/step - loss: 0.1690 - accuracy: 0.9454\n",
      "19/19 [==============================] - 1s 43ms/step - loss: 0.1521 - accuracy: 0.9522\n",
      "Epoch 1/15\n"
     ]
    },
    {
     "name": "stderr",
     "output_type": "stream",
     "text": [
      "D:\\anaconda3\\lib\\site-packages\\keras\\optimizer_v2\\rmsprop.py:130: UserWarning: The `lr` argument is deprecated, use `learning_rate` instead.\n",
      "  super(RMSprop, self).__init__(name, **kwargs)\n"
     ]
    },
    {
     "name": "stdout",
     "output_type": "stream",
     "text": [
      "75/75 [==============================] - 12s 153ms/step - loss: 0.9773 - accuracy: 0.6249\n",
      "Epoch 2/15\n",
      "75/75 [==============================] - 11s 149ms/step - loss: 0.7159 - accuracy: 0.7208\n",
      "Epoch 3/15\n",
      "75/75 [==============================] - 12s 156ms/step - loss: 0.5921 - accuracy: 0.7716\n",
      "Epoch 4/15\n",
      "75/75 [==============================] - 13s 173ms/step - loss: 0.4960 - accuracy: 0.8120\n",
      "Epoch 5/15\n",
      "75/75 [==============================] - 13s 178ms/step - loss: 0.4322 - accuracy: 0.8467\n",
      "Epoch 6/15\n",
      "75/75 [==============================] - 12s 166ms/step - loss: 0.3757 - accuracy: 0.8739\n",
      "Epoch 7/15\n",
      "75/75 [==============================] - 12s 165ms/step - loss: 0.3312 - accuracy: 0.8876\n",
      "Epoch 8/15\n",
      "75/75 [==============================] - 12s 158ms/step - loss: 0.3093 - accuracy: 0.8930\n",
      "Epoch 9/15\n",
      "75/75 [==============================] - 12s 155ms/step - loss: 0.2749 - accuracy: 0.9037\n",
      "Epoch 10/15\n",
      "75/75 [==============================] - 12s 166ms/step - loss: 0.2548 - accuracy: 0.9106\n",
      "Epoch 11/15\n",
      "75/75 [==============================] - 12s 160ms/step - loss: 0.2271 - accuracy: 0.9213\n",
      "Epoch 12/15\n",
      "75/75 [==============================] - 14s 182ms/step - loss: 0.2141 - accuracy: 0.9278\n",
      "Epoch 13/15\n",
      "75/75 [==============================] - 15s 197ms/step - loss: 0.1970 - accuracy: 0.9325\n",
      "Epoch 14/15\n",
      "75/75 [==============================] - 16s 208ms/step - loss: 0.1827 - accuracy: 0.9385\n",
      "Epoch 15/15\n",
      "75/75 [==============================] - 15s 200ms/step - loss: 0.1682 - accuracy: 0.9429\n",
      "19/19 [==============================] - 1s 58ms/step - loss: 0.1929 - accuracy: 0.9370\n",
      "Epoch 1/15\n"
     ]
    },
    {
     "name": "stderr",
     "output_type": "stream",
     "text": [
      "D:\\anaconda3\\lib\\site-packages\\keras\\optimizer_v2\\rmsprop.py:130: UserWarning: The `lr` argument is deprecated, use `learning_rate` instead.\n",
      "  super(RMSprop, self).__init__(name, **kwargs)\n"
     ]
    },
    {
     "name": "stdout",
     "output_type": "stream",
     "text": [
      "75/75 [==============================] - 15s 183ms/step - loss: 0.9623 - accuracy: 0.6306\n",
      "Epoch 2/15\n",
      "75/75 [==============================] - 15s 199ms/step - loss: 0.7152 - accuracy: 0.7260\n",
      "Epoch 3/15\n",
      "75/75 [==============================] - 13s 179ms/step - loss: 0.5880 - accuracy: 0.7690\n",
      "Epoch 4/15\n",
      "75/75 [==============================] - 13s 171ms/step - loss: 0.4966 - accuracy: 0.8162\n",
      "Epoch 5/15\n",
      "75/75 [==============================] - 13s 178ms/step - loss: 0.4381 - accuracy: 0.8389\n",
      "Epoch 6/15\n",
      "75/75 [==============================] - 13s 169ms/step - loss: 0.3833 - accuracy: 0.8670\n",
      "Epoch 7/15\n",
      "75/75 [==============================] - 13s 176ms/step - loss: 0.3410 - accuracy: 0.8834\n",
      "Epoch 8/15\n",
      "75/75 [==============================] - 13s 177ms/step - loss: 0.3057 - accuracy: 0.8939\n",
      "Epoch 9/15\n",
      "75/75 [==============================] - 14s 181ms/step - loss: 0.2838 - accuracy: 0.9022\n",
      "Epoch 10/15\n",
      "75/75 [==============================] - 14s 185ms/step - loss: 0.2515 - accuracy: 0.9113\n",
      "Epoch 11/15\n",
      "75/75 [==============================] - 15s 194ms/step - loss: 0.2330 - accuracy: 0.9249\n",
      "Epoch 12/15\n",
      "75/75 [==============================] - 14s 190ms/step - loss: 0.2135 - accuracy: 0.9220\n",
      "Epoch 13/15\n",
      "75/75 [==============================] - 14s 186ms/step - loss: 0.1988 - accuracy: 0.9306\n",
      "Epoch 14/15\n",
      "75/75 [==============================] - 13s 172ms/step - loss: 0.1857 - accuracy: 0.9350\n",
      "Epoch 15/15\n",
      "75/75 [==============================] - 13s 171ms/step - loss: 0.1800 - accuracy: 0.9366\n",
      "19/19 [==============================] - 1s 59ms/step - loss: 0.1805 - accuracy: 0.9387\n"
     ]
    },
    {
     "data": {
      "text/plain": [
       "0.9449455857276916"
      ]
     },
     "execution_count": 29,
     "metadata": {},
     "output_type": "execute_result"
    }
   ],
   "source": [
    "# Evaluate using 5 cv\n",
    "accuracies = cross_val_score(estimator = model2, X = train_data_64, y=train_labels_64,\n",
    "                            cv=5)\n",
    "accuracies.mean()"
   ]
  },
  {
   "cell_type": "code",
   "execution_count": 30,
   "id": "7817bed5",
   "metadata": {},
   "outputs": [
    {
     "name": "stdout",
     "output_type": "stream",
     "text": [
      "Epoch 1/15\n",
      "94/94 [==============================] - 17s 166ms/step - loss: 0.9295 - accuracy: 0.6328\n",
      "Epoch 2/15\n",
      "94/94 [==============================] - 16s 170ms/step - loss: 0.6836 - accuracy: 0.7281\n",
      "Epoch 3/15\n",
      "94/94 [==============================] - 18s 189ms/step - loss: 0.5494 - accuracy: 0.7909\n",
      "Epoch 4/15\n",
      "94/94 [==============================] - 17s 183ms/step - loss: 0.4552 - accuracy: 0.8332\n",
      "Epoch 5/15\n",
      "94/94 [==============================] - 16s 171ms/step - loss: 0.3850 - accuracy: 0.8634\n",
      "Epoch 6/15\n",
      "94/94 [==============================] - 17s 179ms/step - loss: 0.3389 - accuracy: 0.8839\n",
      "Epoch 7/15\n",
      "94/94 [==============================] - 17s 177ms/step - loss: 0.2881 - accuracy: 0.9055\n",
      "Epoch 8/15\n",
      "94/94 [==============================] - 16s 168ms/step - loss: 0.2629 - accuracy: 0.9062\n",
      "Epoch 9/15\n",
      "94/94 [==============================] - 16s 171ms/step - loss: 0.2411 - accuracy: 0.9186\n",
      "Epoch 10/15\n",
      "94/94 [==============================] - 17s 181ms/step - loss: 0.2227 - accuracy: 0.9245\n",
      "Epoch 11/15\n",
      "94/94 [==============================] - 17s 179ms/step - loss: 0.2005 - accuracy: 0.9314\n",
      "Epoch 12/15\n",
      "94/94 [==============================] - 17s 184ms/step - loss: 0.1832 - accuracy: 0.9402\n",
      "Epoch 13/15\n",
      "94/94 [==============================] - 16s 175ms/step - loss: 0.1688 - accuracy: 0.9443\n",
      "Epoch 14/15\n",
      "94/94 [==============================] - 17s 181ms/step - loss: 0.1561 - accuracy: 0.9468\n",
      "Epoch 15/15\n",
      "94/94 [==============================] - 17s 176ms/step - loss: 0.1468 - accuracy: 0.9495\n"
     ]
    }
   ],
   "source": [
    "model2 = model2_creation()\n",
    "history = model2.fit(train_data_64, train_labels_64, batch_size=64, epochs=15)"
   ]
  },
  {
   "cell_type": "code",
   "execution_count": 31,
   "id": "03f653fc",
   "metadata": {
    "scrolled": true
   },
   "outputs": [
    {
     "name": "stdout",
     "output_type": "stream",
     "text": [
      "                   precision    recall  f1-score   support\n",
      "\n",
      "    fully_covered       0.93      0.94      0.93       145\n",
      "      not_covered       0.94      0.99      0.96       367\n",
      "         not_face       0.94      0.76      0.84       112\n",
      "partially_covered       0.95      0.95      0.95        39\n",
      "\n",
      "         accuracy                           0.94       663\n",
      "        macro avg       0.94      0.91      0.92       663\n",
      "     weighted avg       0.94      0.94      0.93       663\n",
      "\n"
     ]
    }
   ],
   "source": [
    "eval_model_64(model2, test_data_64, test_labels_64)"
   ]
  },
  {
   "cell_type": "markdown",
   "id": "1562c3e1",
   "metadata": {},
   "source": [
    "### 4.2.3. Model 3"
   ]
  },
  {
   "cell_type": "code",
   "execution_count": 32,
   "id": "a1eab13b",
   "metadata": {},
   "outputs": [],
   "source": [
    "def model3_creation():\n",
    "    model = models.Sequential()\n",
    "    model.add(layers.Conv2D(32, (3,3), activation='relu', input_shape=(64,64,3)))\n",
    "    model.add(layers.MaxPooling2D((2,2)))\n",
    "    model.add(layers.Conv2D(64, (3,3), activation='relu'))\n",
    "    model.add(layers.MaxPooling2D((2,2)))\n",
    "    model.add(layers.Conv2D(128, (3,3), activation='relu'))\n",
    "    model.add(layers.MaxPooling2D((2,2)))\n",
    "    model.add(layers.Conv2D(128, (3,3), activation='relu'))\n",
    "    model.add(layers.MaxPooling2D((2,2)))\n",
    "    model.add(layers.Flatten())\n",
    "    model.add(layers.Dropout(0.2))\n",
    "    model.add(layers.Dense(512, activation='relu'))\n",
    "    model.add(layers.Dense(4, activation='softmax'))\n",
    "\n",
    "    model.compile(loss='categorical_crossentropy',\n",
    "                 optimizer=optimizers.RMSprop(lr=1e-4),\n",
    "                 metrics=['accuracy'])\n",
    "    return model"
   ]
  },
  {
   "cell_type": "code",
   "execution_count": 33,
   "id": "9fcfea85",
   "metadata": {},
   "outputs": [
    {
     "name": "stderr",
     "output_type": "stream",
     "text": [
      "<ipython-input-33-09817a8eaf90>:2: DeprecationWarning: KerasClassifier is deprecated, use Sci-Keras (https://github.com/adriangb/scikeras) instead. See https://www.adriangb.com/scikeras/stable/migration.html for help migrating.\n",
      "  model3 = KerasClassifier(build_fn=model3_creation,\n"
     ]
    }
   ],
   "source": [
    "# Creating the model\n",
    "model3 = KerasClassifier(build_fn=model3_creation, \n",
    "                        batch_size=64, \n",
    "                        epochs=15)"
   ]
  },
  {
   "cell_type": "code",
   "execution_count": 34,
   "id": "b704dab6",
   "metadata": {},
   "outputs": [
    {
     "name": "stdout",
     "output_type": "stream",
     "text": [
      "Epoch 1/15\n"
     ]
    },
    {
     "name": "stderr",
     "output_type": "stream",
     "text": [
      "D:\\anaconda3\\lib\\site-packages\\keras\\optimizer_v2\\rmsprop.py:130: UserWarning: The `lr` argument is deprecated, use `learning_rate` instead.\n",
      "  super(RMSprop, self).__init__(name, **kwargs)\n"
     ]
    },
    {
     "name": "stdout",
     "output_type": "stream",
     "text": [
      "75/75 [==============================] - 14s 170ms/step - loss: 0.8904 - accuracy: 0.6634\n",
      "Epoch 2/15\n",
      "75/75 [==============================] - 13s 178ms/step - loss: 0.6342 - accuracy: 0.7572\n",
      "Epoch 3/15\n",
      "75/75 [==============================] - 13s 171ms/step - loss: 0.5240 - accuracy: 0.8047\n",
      "Epoch 4/15\n",
      "75/75 [==============================] - 14s 182ms/step - loss: 0.4490 - accuracy: 0.8380\n",
      "Epoch 5/15\n",
      "75/75 [==============================] - 14s 181ms/step - loss: 0.3983 - accuracy: 0.8580\n",
      "Epoch 6/15\n",
      "75/75 [==============================] - 13s 172ms/step - loss: 0.3400 - accuracy: 0.8802\n",
      "Epoch 7/15\n",
      "75/75 [==============================] - 15s 196ms/step - loss: 0.3141 - accuracy: 0.8924\n",
      "Epoch 8/15\n",
      "75/75 [==============================] - 14s 190ms/step - loss: 0.2698 - accuracy: 0.9089\n",
      "Epoch 9/15\n",
      "75/75 [==============================] - 14s 192ms/step - loss: 0.2465 - accuracy: 0.9188\n",
      "Epoch 10/15\n",
      "75/75 [==============================] - 16s 211ms/step - loss: 0.2193 - accuracy: 0.9240\n",
      "Epoch 11/15\n",
      "75/75 [==============================] - 16s 220ms/step - loss: 0.2052 - accuracy: 0.9282\n",
      "Epoch 12/15\n",
      "75/75 [==============================] - 14s 190ms/step - loss: 0.1829 - accuracy: 0.9373\n",
      "Epoch 13/15\n",
      "75/75 [==============================] - 14s 188ms/step - loss: 0.1615 - accuracy: 0.9463\n",
      "Epoch 14/15\n",
      "75/75 [==============================] - 14s 186ms/step - loss: 0.1493 - accuracy: 0.9478\n",
      "Epoch 15/15\n",
      "75/75 [==============================] - 14s 181ms/step - loss: 0.1424 - accuracy: 0.9513\n",
      "19/19 [==============================] - 1s 56ms/step - loss: 0.1642 - accuracy: 0.9430\n",
      "Epoch 1/15\n"
     ]
    },
    {
     "name": "stderr",
     "output_type": "stream",
     "text": [
      "D:\\anaconda3\\lib\\site-packages\\keras\\optimizer_v2\\rmsprop.py:130: UserWarning: The `lr` argument is deprecated, use `learning_rate` instead.\n",
      "  super(RMSprop, self).__init__(name, **kwargs)\n"
     ]
    },
    {
     "name": "stdout",
     "output_type": "stream",
     "text": [
      "75/75 [==============================] - 14s 183ms/step - loss: 0.9186 - accuracy: 0.6454\n",
      "Epoch 2/15\n",
      "75/75 [==============================] - 14s 184ms/step - loss: 0.6532 - accuracy: 0.7516\n",
      "Epoch 3/15\n",
      "75/75 [==============================] - 15s 196ms/step - loss: 0.5377 - accuracy: 0.8005\n",
      "Epoch 4/15\n",
      "75/75 [==============================] - 14s 186ms/step - loss: 0.4440 - accuracy: 0.8437\n",
      "Epoch 5/15\n",
      "75/75 [==============================] - 15s 197ms/step - loss: 0.3724 - accuracy: 0.8703\n",
      "Epoch 6/15\n",
      "75/75 [==============================] - 14s 186ms/step - loss: 0.3215 - accuracy: 0.8865\n",
      "Epoch 7/15\n",
      "75/75 [==============================] - 13s 179ms/step - loss: 0.2821 - accuracy: 0.9043\n",
      "Epoch 8/15\n",
      "75/75 [==============================] - 14s 184ms/step - loss: 0.2527 - accuracy: 0.9136\n",
      "Epoch 9/15\n",
      "75/75 [==============================] - 14s 185ms/step - loss: 0.2250 - accuracy: 0.9224\n",
      "Epoch 10/15\n",
      "75/75 [==============================] - 13s 177ms/step - loss: 0.2074 - accuracy: 0.9276\n",
      "Epoch 11/15\n",
      "75/75 [==============================] - 14s 189ms/step - loss: 0.1801 - accuracy: 0.9394\n",
      "Epoch 12/15\n",
      "75/75 [==============================] - 14s 183ms/step - loss: 0.1675 - accuracy: 0.9461\n",
      "Epoch 13/15\n",
      "75/75 [==============================] - 14s 181ms/step - loss: 0.1533 - accuracy: 0.9459\n",
      "Epoch 14/15\n",
      "75/75 [==============================] - 13s 173ms/step - loss: 0.1372 - accuracy: 0.9534\n",
      "Epoch 15/15\n",
      "75/75 [==============================] - 14s 182ms/step - loss: 0.1261 - accuracy: 0.9576\n",
      "19/19 [==============================] - 1s 47ms/step - loss: 0.1780 - accuracy: 0.9320\n",
      "Epoch 1/15\n"
     ]
    },
    {
     "name": "stderr",
     "output_type": "stream",
     "text": [
      "D:\\anaconda3\\lib\\site-packages\\keras\\optimizer_v2\\rmsprop.py:130: UserWarning: The `lr` argument is deprecated, use `learning_rate` instead.\n",
      "  super(RMSprop, self).__init__(name, **kwargs)\n"
     ]
    },
    {
     "name": "stdout",
     "output_type": "stream",
     "text": [
      "75/75 [==============================] - 14s 178ms/step - loss: 0.9621 - accuracy: 0.6311\n",
      "Epoch 2/15\n",
      "75/75 [==============================] - 14s 181ms/step - loss: 0.6728 - accuracy: 0.7407\n",
      "Epoch 3/15\n",
      "75/75 [==============================] - 13s 177ms/step - loss: 0.5463 - accuracy: 0.7893\n",
      "Epoch 4/15\n",
      "75/75 [==============================] - 14s 192ms/step - loss: 0.4685 - accuracy: 0.8273\n",
      "Epoch 5/15\n",
      "75/75 [==============================] - 14s 186ms/step - loss: 0.3981 - accuracy: 0.8538\n",
      "Epoch 6/15\n",
      "75/75 [==============================] - 14s 187ms/step - loss: 0.3418 - accuracy: 0.8777\n",
      "Epoch 7/15\n",
      "75/75 [==============================] - 13s 179ms/step - loss: 0.3046 - accuracy: 0.8947\n",
      "Epoch 8/15\n",
      "75/75 [==============================] - 14s 189ms/step - loss: 0.2706 - accuracy: 0.9060\n",
      "Epoch 9/15\n",
      "75/75 [==============================] - 16s 208ms/step - loss: 0.2344 - accuracy: 0.9150\n",
      "Epoch 10/15\n",
      "75/75 [==============================] - 14s 187ms/step - loss: 0.2136 - accuracy: 0.9274\n",
      "Epoch 11/15\n",
      "75/75 [==============================] - 13s 176ms/step - loss: 0.1894 - accuracy: 0.9337\n",
      "Epoch 12/15\n",
      "75/75 [==============================] - 13s 176ms/step - loss: 0.1761 - accuracy: 0.9408\n",
      "Epoch 13/15\n",
      "75/75 [==============================] - 13s 170ms/step - loss: 0.1557 - accuracy: 0.9482\n",
      "Epoch 14/15\n",
      "75/75 [==============================] - 15s 203ms/step - loss: 0.1528 - accuracy: 0.9486\n",
      "Epoch 15/15\n",
      "75/75 [==============================] - 14s 182ms/step - loss: 0.1310 - accuracy: 0.9570\n",
      "19/19 [==============================] - 1s 48ms/step - loss: 0.1825 - accuracy: 0.9295\n",
      "Epoch 1/15\n"
     ]
    },
    {
     "name": "stderr",
     "output_type": "stream",
     "text": [
      "D:\\anaconda3\\lib\\site-packages\\keras\\optimizer_v2\\rmsprop.py:130: UserWarning: The `lr` argument is deprecated, use `learning_rate` instead.\n",
      "  super(RMSprop, self).__init__(name, **kwargs)\n"
     ]
    },
    {
     "name": "stdout",
     "output_type": "stream",
     "text": [
      "75/75 [==============================] - 13s 172ms/step - loss: 0.9190 - accuracy: 0.6348\n",
      "Epoch 2/15\n",
      "75/75 [==============================] - 14s 180ms/step - loss: 0.6345 - accuracy: 0.7585\n",
      "Epoch 3/15\n",
      "75/75 [==============================] - 14s 182ms/step - loss: 0.5167 - accuracy: 0.8095\n",
      "Epoch 4/15\n",
      "75/75 [==============================] - 14s 182ms/step - loss: 0.4249 - accuracy: 0.8508\n",
      "Epoch 5/15\n",
      "75/75 [==============================] - 14s 183ms/step - loss: 0.3596 - accuracy: 0.8748\n",
      "Epoch 6/15\n",
      "75/75 [==============================] - 15s 199ms/step - loss: 0.3027 - accuracy: 0.8980\n",
      "Epoch 7/15\n",
      "75/75 [==============================] - 13s 177ms/step - loss: 0.2637 - accuracy: 0.9142\n",
      "Epoch 8/15\n",
      "75/75 [==============================] - 13s 177ms/step - loss: 0.2361 - accuracy: 0.9201\n",
      "Epoch 9/15\n",
      "75/75 [==============================] - 13s 168ms/step - loss: 0.2071 - accuracy: 0.9320\n",
      "Epoch 10/15\n",
      "75/75 [==============================] - 13s 168ms/step - loss: 0.1890 - accuracy: 0.9352\n",
      "Epoch 11/15\n",
      "75/75 [==============================] - 13s 172ms/step - loss: 0.1720 - accuracy: 0.9440\n",
      "Epoch 12/15\n",
      "75/75 [==============================] - 13s 172ms/step - loss: 0.1528 - accuracy: 0.9486\n",
      "Epoch 13/15\n",
      "75/75 [==============================] - 14s 184ms/step - loss: 0.1372 - accuracy: 0.9530\n",
      "Epoch 14/15\n",
      "75/75 [==============================] - 15s 196ms/step - loss: 0.1251 - accuracy: 0.9589\n",
      "Epoch 15/15\n",
      "75/75 [==============================] - 14s 188ms/step - loss: 0.1238 - accuracy: 0.9578\n",
      "19/19 [==============================] - 1s 46ms/step - loss: 0.1598 - accuracy: 0.9505\n",
      "Epoch 1/15\n"
     ]
    },
    {
     "name": "stderr",
     "output_type": "stream",
     "text": [
      "D:\\anaconda3\\lib\\site-packages\\keras\\optimizer_v2\\rmsprop.py:130: UserWarning: The `lr` argument is deprecated, use `learning_rate` instead.\n",
      "  super(RMSprop, self).__init__(name, **kwargs)\n"
     ]
    },
    {
     "name": "stdout",
     "output_type": "stream",
     "text": [
      "75/75 [==============================] - 14s 182ms/step - loss: 0.9169 - accuracy: 0.6547\n",
      "Epoch 2/15\n",
      "75/75 [==============================] - 13s 174ms/step - loss: 0.6435 - accuracy: 0.7577\n",
      "Epoch 3/15\n",
      "75/75 [==============================] - 13s 179ms/step - loss: 0.5409 - accuracy: 0.7946\n",
      "Epoch 4/15\n",
      "75/75 [==============================] - 14s 182ms/step - loss: 0.4533 - accuracy: 0.8309\n",
      "Epoch 5/15\n",
      "75/75 [==============================] - 14s 186ms/step - loss: 0.3848 - accuracy: 0.8649\n",
      "Epoch 6/15\n",
      "75/75 [==============================] - 13s 178ms/step - loss: 0.3350 - accuracy: 0.8785\n",
      "Epoch 7/15\n",
      "75/75 [==============================] - 13s 173ms/step - loss: 0.2924 - accuracy: 0.8980\n",
      "Epoch 8/15\n",
      "75/75 [==============================] - 13s 171ms/step - loss: 0.2619 - accuracy: 0.9106\n",
      "Epoch 9/15\n",
      "75/75 [==============================] - 15s 194ms/step - loss: 0.2344 - accuracy: 0.9186\n",
      "Epoch 10/15\n",
      "75/75 [==============================] - 14s 182ms/step - loss: 0.2073 - accuracy: 0.9262\n",
      "Epoch 11/15\n",
      "75/75 [==============================] - 13s 173ms/step - loss: 0.1823 - accuracy: 0.9375\n",
      "Epoch 12/15\n",
      "75/75 [==============================] - 13s 175ms/step - loss: 0.1632 - accuracy: 0.9427\n",
      "Epoch 13/15\n",
      "75/75 [==============================] - 14s 181ms/step - loss: 0.1518 - accuracy: 0.9486\n",
      "Epoch 14/15\n",
      "75/75 [==============================] - 14s 191ms/step - loss: 0.1313 - accuracy: 0.9559\n",
      "Epoch 15/15\n",
      "75/75 [==============================] - 14s 188ms/step - loss: 0.1216 - accuracy: 0.9606\n",
      "19/19 [==============================] - 1s 55ms/step - loss: 0.3845 - accuracy: 0.8707\n"
     ]
    },
    {
     "data": {
      "text/plain": [
       "0.9251377820968628"
      ]
     },
     "execution_count": 34,
     "metadata": {},
     "output_type": "execute_result"
    }
   ],
   "source": [
    "# Evaluate using 5 cv\n",
    "accuracies = cross_val_score(estimator = model3, X = train_data_64, y=train_labels_64,\n",
    "                            cv=5)\n",
    "accuracies.mean()"
   ]
  },
  {
   "cell_type": "code",
   "execution_count": 35,
   "id": "6ac124c8",
   "metadata": {},
   "outputs": [
    {
     "name": "stdout",
     "output_type": "stream",
     "text": [
      "Epoch 1/15\n",
      "94/94 [==============================] - 17s 172ms/step - loss: 0.8718 - accuracy: 0.6724\n",
      "Epoch 2/15\n",
      "94/94 [==============================] - 16s 174ms/step - loss: 0.6112 - accuracy: 0.7649\n",
      "Epoch 3/15\n",
      "94/94 [==============================] - 16s 171ms/step - loss: 0.4956 - accuracy: 0.8144\n",
      "Epoch 4/15\n",
      "94/94 [==============================] - 16s 168ms/step - loss: 0.4157 - accuracy: 0.8523\n",
      "Epoch 5/15\n",
      "94/94 [==============================] - 17s 181ms/step - loss: 0.3458 - accuracy: 0.8775\n",
      "Epoch 6/15\n",
      "94/94 [==============================] - 18s 192ms/step - loss: 0.2922 - accuracy: 0.9015\n",
      "Epoch 7/15\n",
      "94/94 [==============================] - 18s 191ms/step - loss: 0.2569 - accuracy: 0.9162\n",
      "Epoch 8/15\n",
      "94/94 [==============================] - 17s 179ms/step - loss: 0.2252 - accuracy: 0.9248\n",
      "Epoch 9/15\n",
      "94/94 [==============================] - 17s 180ms/step - loss: 0.1954 - accuracy: 0.9340\n",
      "Epoch 10/15\n",
      "94/94 [==============================] - 17s 182ms/step - loss: 0.1777 - accuracy: 0.9391\n",
      "Epoch 11/15\n",
      "94/94 [==============================] - 18s 195ms/step - loss: 0.1554 - accuracy: 0.9475\n",
      "Epoch 12/15\n",
      "94/94 [==============================] - 18s 194ms/step - loss: 0.1429 - accuracy: 0.9547\n",
      "Epoch 13/15\n",
      "94/94 [==============================] - 19s 197ms/step - loss: 0.1294 - accuracy: 0.9570\n",
      "Epoch 14/15\n",
      "94/94 [==============================] - 17s 186ms/step - loss: 0.1121 - accuracy: 0.9629\n",
      "Epoch 15/15\n",
      "94/94 [==============================] - 17s 185ms/step - loss: 0.1064 - accuracy: 0.9644\n"
     ]
    }
   ],
   "source": [
    "model3 = model3_creation()\n",
    "history = model3.fit(train_data_64, train_labels_64, batch_size=64, epochs=15)"
   ]
  },
  {
   "cell_type": "code",
   "execution_count": 37,
   "id": "e15c5c79",
   "metadata": {
    "scrolled": true
   },
   "outputs": [
    {
     "name": "stdout",
     "output_type": "stream",
     "text": [
      "                   precision    recall  f1-score   support\n",
      "\n",
      "    fully_covered       0.97      0.94      0.95       145\n",
      "      not_covered       0.95      0.98      0.97       367\n",
      "         not_face       0.91      0.89      0.90       112\n",
      "partially_covered       1.00      0.92      0.96        39\n",
      "\n",
      "         accuracy                           0.95       663\n",
      "        macro avg       0.96      0.93      0.95       663\n",
      "     weighted avg       0.95      0.95      0.95       663\n",
      "\n"
     ]
    }
   ],
   "source": [
    "eval_model_64(model3, test_data_64, test_labels_64)"
   ]
  },
  {
   "cell_type": "markdown",
   "id": "619a82de",
   "metadata": {},
   "source": [
    "### 4.2.4. Model 4"
   ]
  },
  {
   "cell_type": "code",
   "execution_count": 38,
   "id": "9510b208",
   "metadata": {},
   "outputs": [],
   "source": [
    "def model4_creation():\n",
    "    model = models.Sequential()\n",
    "    model.add(layers.Conv2D(16, (3,3), activation='relu', input_shape=(128,128,3)))\n",
    "    model.add(layers.MaxPooling2D((2,2)))\n",
    "    model.add(layers.Conv2D(32, (3,3), activation='relu'))\n",
    "    model.add(layers.MaxPooling2D((2,2)))\n",
    "    model.add(layers.Dropout(0.2))\n",
    "    model.add(layers.Conv2D(64, (3,3), activation='relu'))\n",
    "    model.add(layers.MaxPooling2D((2,2)))\n",
    "    model.add(layers.Dropout(0.2))\n",
    "    model.add(layers.Conv2D(128, (3,3), activation='relu'))\n",
    "    model.add(layers.MaxPooling2D((2,2)))\n",
    "    model.add(layers.Flatten())\n",
    "    model.add(layers.Dropout(0.2))\n",
    "    model.add(layers.Dense(512, activation='relu'))\n",
    "    model.add(layers.Dense(4, activation='softmax'))\n",
    "\n",
    "    model.compile(loss='categorical_crossentropy',\n",
    "                 optimizer=optimizers.RMSprop(lr=1e-4),\n",
    "                 metrics=['accuracy'])\n",
    "    return model"
   ]
  },
  {
   "cell_type": "code",
   "execution_count": 39,
   "id": "4f8928cf",
   "metadata": {},
   "outputs": [
    {
     "name": "stderr",
     "output_type": "stream",
     "text": [
      "<ipython-input-39-5692ad89bce1>:2: DeprecationWarning: KerasClassifier is deprecated, use Sci-Keras (https://github.com/adriangb/scikeras) instead. See https://www.adriangb.com/scikeras/stable/migration.html for help migrating.\n",
      "  model4 = KerasClassifier(build_fn=model4_creation,\n"
     ]
    }
   ],
   "source": [
    "# Creating the model\n",
    "model4 = KerasClassifier(build_fn=model4_creation, \n",
    "                        batch_size=64, \n",
    "                        epochs=15)"
   ]
  },
  {
   "cell_type": "code",
   "execution_count": 40,
   "id": "54d3f4b3",
   "metadata": {},
   "outputs": [
    {
     "name": "stdout",
     "output_type": "stream",
     "text": [
      "Epoch 1/15\n"
     ]
    },
    {
     "name": "stderr",
     "output_type": "stream",
     "text": [
      "D:\\anaconda3\\lib\\site-packages\\keras\\optimizer_v2\\rmsprop.py:130: UserWarning: The `lr` argument is deprecated, use `learning_rate` instead.\n",
      "  super(RMSprop, self).__init__(name, **kwargs)\n"
     ]
    },
    {
     "name": "stdout",
     "output_type": "stream",
     "text": [
      "75/75 [==============================] - 24s 318ms/step - loss: 0.7869 - accuracy: 0.6918\n",
      "Epoch 2/15\n",
      "75/75 [==============================] - 23s 304ms/step - loss: 0.5305 - accuracy: 0.8015\n",
      "Epoch 3/15\n",
      "75/75 [==============================] - 24s 317ms/step - loss: 0.4250 - accuracy: 0.8477\n",
      "Epoch 4/15\n",
      "75/75 [==============================] - 26s 344ms/step - loss: 0.3554 - accuracy: 0.8728\n",
      "Epoch 5/15\n",
      "75/75 [==============================] - 26s 346ms/step - loss: 0.3127 - accuracy: 0.8869\n",
      "Epoch 6/15\n",
      "75/75 [==============================] - 28s 367ms/step - loss: 0.2708 - accuracy: 0.9033\n",
      "Epoch 7/15\n",
      "75/75 [==============================] - 32s 421ms/step - loss: 0.2465 - accuracy: 0.9154\n",
      "Epoch 8/15\n",
      "75/75 [==============================] - 33s 445ms/step - loss: 0.2232 - accuracy: 0.9211\n",
      "Epoch 9/15\n",
      "75/75 [==============================] - 35s 466ms/step - loss: 0.2028 - accuracy: 0.9299\n",
      "Epoch 10/15\n",
      "75/75 [==============================] - 41s 552ms/step - loss: 0.1837 - accuracy: 0.9368\n",
      "Epoch 11/15\n",
      "75/75 [==============================] - 32s 425ms/step - loss: 0.1695 - accuracy: 0.9423\n",
      "Epoch 12/15\n",
      "75/75 [==============================] - 32s 425ms/step - loss: 0.1544 - accuracy: 0.9509\n",
      "Epoch 13/15\n",
      "75/75 [==============================] - 31s 412ms/step - loss: 0.1437 - accuracy: 0.9507\n",
      "Epoch 14/15\n",
      "75/75 [==============================] - 31s 407ms/step - loss: 0.1275 - accuracy: 0.9540\n",
      "Epoch 15/15\n",
      "75/75 [==============================] - 35s 465ms/step - loss: 0.1169 - accuracy: 0.9620\n",
      "19/19 [==============================] - 3s 130ms/step - loss: 0.1367 - accuracy: 0.9572\n",
      "Epoch 1/15\n"
     ]
    },
    {
     "name": "stderr",
     "output_type": "stream",
     "text": [
      "D:\\anaconda3\\lib\\site-packages\\keras\\optimizer_v2\\rmsprop.py:130: UserWarning: The `lr` argument is deprecated, use `learning_rate` instead.\n",
      "  super(RMSprop, self).__init__(name, **kwargs)\n"
     ]
    },
    {
     "name": "stdout",
     "output_type": "stream",
     "text": [
      "75/75 [==============================] - 34s 445ms/step - loss: 0.8128 - accuracy: 0.6865\n",
      "Epoch 2/15\n",
      "75/75 [==============================] - 33s 435ms/step - loss: 0.5499 - accuracy: 0.7931\n",
      "Epoch 3/15\n",
      "75/75 [==============================] - 30s 404ms/step - loss: 0.4400 - accuracy: 0.8422\n",
      "Epoch 4/15\n",
      "75/75 [==============================] - 31s 415ms/step - loss: 0.3719 - accuracy: 0.8703\n",
      "Epoch 5/15\n",
      "75/75 [==============================] - 33s 433ms/step - loss: 0.3251 - accuracy: 0.8861\n",
      "Epoch 6/15\n",
      "75/75 [==============================] - 30s 403ms/step - loss: 0.2822 - accuracy: 0.9050\n",
      "Epoch 7/15\n",
      "75/75 [==============================] - 29s 392ms/step - loss: 0.2564 - accuracy: 0.9098\n",
      "Epoch 8/15\n",
      "75/75 [==============================] - 30s 405ms/step - loss: 0.2283 - accuracy: 0.9205\n",
      "Epoch 9/15\n",
      "75/75 [==============================] - 30s 400ms/step - loss: 0.2039 - accuracy: 0.9316\n",
      "Epoch 10/15\n",
      "75/75 [==============================] - 29s 380ms/step - loss: 0.1848 - accuracy: 0.9402\n",
      "Epoch 11/15\n",
      "75/75 [==============================] - 29s 383ms/step - loss: 0.1601 - accuracy: 0.9465\n",
      "Epoch 12/15\n",
      "75/75 [==============================] - 34s 449ms/step - loss: 0.1457 - accuracy: 0.9499\n",
      "Epoch 13/15\n",
      "75/75 [==============================] - 33s 441ms/step - loss: 0.1330 - accuracy: 0.9566\n",
      "Epoch 14/15\n",
      "75/75 [==============================] - 33s 433ms/step - loss: 0.1183 - accuracy: 0.9589\n",
      "Epoch 15/15\n",
      "75/75 [==============================] - 32s 422ms/step - loss: 0.1134 - accuracy: 0.9635\n",
      "19/19 [==============================] - 2s 111ms/step - loss: 0.1366 - accuracy: 0.9564\n",
      "Epoch 1/15\n"
     ]
    },
    {
     "name": "stderr",
     "output_type": "stream",
     "text": [
      "D:\\anaconda3\\lib\\site-packages\\keras\\optimizer_v2\\rmsprop.py:130: UserWarning: The `lr` argument is deprecated, use `learning_rate` instead.\n",
      "  super(RMSprop, self).__init__(name, **kwargs)\n"
     ]
    },
    {
     "name": "stdout",
     "output_type": "stream",
     "text": [
      "75/75 [==============================] - 32s 425ms/step - loss: 0.8187 - accuracy: 0.6746\n",
      "Epoch 2/15\n",
      "75/75 [==============================] - 31s 416ms/step - loss: 0.5673 - accuracy: 0.7835\n",
      "Epoch 3/15\n",
      "75/75 [==============================] - 38s 502ms/step - loss: 0.4655 - accuracy: 0.8252\n",
      "Epoch 4/15\n",
      "75/75 [==============================] - 33s 439ms/step - loss: 0.3949 - accuracy: 0.8584\n",
      "Epoch 5/15\n",
      "75/75 [==============================] - 30s 399ms/step - loss: 0.3379 - accuracy: 0.8749\n",
      "Epoch 6/15\n",
      "75/75 [==============================] - 31s 414ms/step - loss: 0.2897 - accuracy: 0.8997\n",
      "Epoch 7/15\n",
      "75/75 [==============================] - 28s 379ms/step - loss: 0.2563 - accuracy: 0.9102\n",
      "Epoch 8/15\n",
      "75/75 [==============================] - 26s 350ms/step - loss: 0.2238 - accuracy: 0.9247\n",
      "Epoch 9/15\n",
      "75/75 [==============================] - 25s 338ms/step - loss: 0.2024 - accuracy: 0.9352\n",
      "Epoch 10/15\n",
      "75/75 [==============================] - 27s 363ms/step - loss: 0.1823 - accuracy: 0.9398\n",
      "Epoch 11/15\n",
      "75/75 [==============================] - 32s 424ms/step - loss: 0.1555 - accuracy: 0.9494\n",
      "Epoch 12/15\n",
      "75/75 [==============================] - 30s 407ms/step - loss: 0.1441 - accuracy: 0.9511\n",
      "Epoch 13/15\n",
      "75/75 [==============================] - 30s 404ms/step - loss: 0.1310 - accuracy: 0.9545\n",
      "Epoch 14/15\n",
      "75/75 [==============================] - 32s 422ms/step - loss: 0.1178 - accuracy: 0.9612\n",
      "Epoch 15/15\n",
      "75/75 [==============================] - 36s 478ms/step - loss: 0.1164 - accuracy: 0.9597\n",
      "19/19 [==============================] - 3s 143ms/step - loss: 0.1237 - accuracy: 0.9572\n",
      "Epoch 1/15\n"
     ]
    },
    {
     "name": "stderr",
     "output_type": "stream",
     "text": [
      "D:\\anaconda3\\lib\\site-packages\\keras\\optimizer_v2\\rmsprop.py:130: UserWarning: The `lr` argument is deprecated, use `learning_rate` instead.\n",
      "  super(RMSprop, self).__init__(name, **kwargs)\n"
     ]
    },
    {
     "name": "stdout",
     "output_type": "stream",
     "text": [
      "75/75 [==============================] - 37s 486ms/step - loss: 0.8292 - accuracy: 0.6805\n",
      "Epoch 2/15\n",
      "75/75 [==============================] - 48s 639ms/step - loss: 0.5679 - accuracy: 0.7825\n",
      "Epoch 3/15\n",
      "75/75 [==============================] - 32s 433ms/step - loss: 0.4633 - accuracy: 0.8263\n",
      "Epoch 4/15\n",
      "75/75 [==============================] - 38s 506ms/step - loss: 0.3831 - accuracy: 0.8647\n",
      "Epoch 5/15\n",
      "75/75 [==============================] - 39s 513ms/step - loss: 0.3354 - accuracy: 0.8850\n",
      "Epoch 6/15\n",
      "75/75 [==============================] - 35s 466ms/step - loss: 0.2875 - accuracy: 0.9048\n",
      "Epoch 7/15\n",
      "75/75 [==============================] - 32s 422ms/step - loss: 0.2547 - accuracy: 0.9186\n",
      "Epoch 8/15\n",
      "75/75 [==============================] - 32s 422ms/step - loss: 0.2145 - accuracy: 0.9318\n",
      "Epoch 9/15\n",
      "75/75 [==============================] - 32s 433ms/step - loss: 0.2016 - accuracy: 0.9312\n",
      "Epoch 10/15\n",
      "75/75 [==============================] - 34s 451ms/step - loss: 0.1775 - accuracy: 0.9402\n",
      "Epoch 11/15\n",
      "75/75 [==============================] - 38s 498ms/step - loss: 0.1556 - accuracy: 0.9488\n",
      "Epoch 12/15\n",
      "75/75 [==============================] - 36s 482ms/step - loss: 0.1422 - accuracy: 0.9526\n",
      "Epoch 13/15\n",
      "75/75 [==============================] - 36s 482ms/step - loss: 0.1265 - accuracy: 0.9576\n",
      "Epoch 14/15\n",
      "75/75 [==============================] - 36s 485ms/step - loss: 0.1211 - accuracy: 0.9610\n",
      "Epoch 15/15\n",
      "75/75 [==============================] - 34s 453ms/step - loss: 0.1114 - accuracy: 0.9639\n",
      "19/19 [==============================] - 3s 132ms/step - loss: 0.1864 - accuracy: 0.9337\n"
     ]
    },
    {
     "name": "stderr",
     "output_type": "stream",
     "text": [
      "D:\\anaconda3\\lib\\site-packages\\keras\\optimizer_v2\\rmsprop.py:130: UserWarning: The `lr` argument is deprecated, use `learning_rate` instead.\n",
      "  super(RMSprop, self).__init__(name, **kwargs)\n"
     ]
    },
    {
     "name": "stdout",
     "output_type": "stream",
     "text": [
      "Epoch 1/15\n",
      "75/75 [==============================] - 34s 443ms/step - loss: 0.8413 - accuracy: 0.6816\n",
      "Epoch 2/15\n",
      "75/75 [==============================] - 29s 385ms/step - loss: 0.6266 - accuracy: 0.7648\n",
      "Epoch 3/15\n",
      "75/75 [==============================] - 30s 396ms/step - loss: 0.5169 - accuracy: 0.8093\n",
      "Epoch 4/15\n",
      "75/75 [==============================] - 30s 397ms/step - loss: 0.4376 - accuracy: 0.8391\n",
      "Epoch 5/15\n",
      "75/75 [==============================] - 31s 418ms/step - loss: 0.3845 - accuracy: 0.8636\n",
      "Epoch 6/15\n",
      "75/75 [==============================] - 34s 451ms/step - loss: 0.3314 - accuracy: 0.8846\n",
      "Epoch 7/15\n",
      "75/75 [==============================] - 35s 472ms/step - loss: 0.2957 - accuracy: 0.8964\n",
      "Epoch 8/15\n",
      "75/75 [==============================] - 34s 449ms/step - loss: 0.2606 - accuracy: 0.9138\n",
      "Epoch 9/15\n",
      "75/75 [==============================] - 36s 481ms/step - loss: 0.2354 - accuracy: 0.9186\n",
      "Epoch 10/15\n",
      "75/75 [==============================] - 34s 457ms/step - loss: 0.2065 - accuracy: 0.9283\n",
      "Epoch 11/15\n",
      "75/75 [==============================] - 32s 431ms/step - loss: 0.1782 - accuracy: 0.9452\n",
      "Epoch 12/15\n",
      "75/75 [==============================] - 32s 430ms/step - loss: 0.1602 - accuracy: 0.9457\n",
      "Epoch 13/15\n",
      "75/75 [==============================] - 32s 431ms/step - loss: 0.1425 - accuracy: 0.9518\n",
      "Epoch 14/15\n",
      "75/75 [==============================] - 32s 430ms/step - loss: 0.1306 - accuracy: 0.9541\n",
      "Epoch 15/15\n",
      "75/75 [==============================] - 34s 452ms/step - loss: 0.1145 - accuracy: 0.9635\n",
      "19/19 [==============================] - 2s 102ms/step - loss: 0.1703 - accuracy: 0.9446\n"
     ]
    },
    {
     "data": {
      "text/plain": [
       "0.9498117923736572"
      ]
     },
     "execution_count": 40,
     "metadata": {},
     "output_type": "execute_result"
    }
   ],
   "source": [
    "# Evaluate using 5 cv\n",
    "accuracies = cross_val_score(estimator = model4, X = train_data_128, y=train_labels_128,\n",
    "                            cv=5)\n",
    "accuracies.mean()"
   ]
  },
  {
   "cell_type": "code",
   "execution_count": 41,
   "id": "c6567d01",
   "metadata": {},
   "outputs": [
    {
     "name": "stdout",
     "output_type": "stream",
     "text": [
      "Epoch 1/15\n",
      "94/94 [==============================] - 40s 417ms/step - loss: 0.7809 - accuracy: 0.7007\n",
      "Epoch 2/15\n",
      "94/94 [==============================] - 38s 405ms/step - loss: 0.5284 - accuracy: 0.8023\n",
      "Epoch 3/15\n",
      "94/94 [==============================] - 37s 393ms/step - loss: 0.4228 - accuracy: 0.8442\n",
      "Epoch 4/15\n",
      "94/94 [==============================] - 39s 415ms/step - loss: 0.3437 - accuracy: 0.8790\n",
      "Epoch 5/15\n",
      "94/94 [==============================] - 41s 431ms/step - loss: 0.2933 - accuracy: 0.8988\n",
      "Epoch 6/15\n",
      "94/94 [==============================] - 37s 395ms/step - loss: 0.2588 - accuracy: 0.9122\n",
      "Epoch 7/15\n",
      "94/94 [==============================] - 40s 430ms/step - loss: 0.2218 - accuracy: 0.9213\n",
      "Epoch 8/15\n",
      "94/94 [==============================] - 33s 356ms/step - loss: 0.1884 - accuracy: 0.9382\n",
      "Epoch 9/15\n",
      "94/94 [==============================] - 31s 332ms/step - loss: 0.1682 - accuracy: 0.9424\n",
      "Epoch 10/15\n",
      "94/94 [==============================] - 33s 355ms/step - loss: 0.1520 - accuracy: 0.9468\n",
      "Epoch 11/15\n",
      "94/94 [==============================] - 39s 414ms/step - loss: 0.1378 - accuracy: 0.9512\n",
      "Epoch 12/15\n",
      "94/94 [==============================] - 38s 406ms/step - loss: 0.1196 - accuracy: 0.9582\n",
      "Epoch 13/15\n",
      "94/94 [==============================] - 39s 418ms/step - loss: 0.1084 - accuracy: 0.9641\n",
      "Epoch 14/15\n",
      "94/94 [==============================] - 38s 406ms/step - loss: 0.0949 - accuracy: 0.9668\n",
      "Epoch 15/15\n",
      "94/94 [==============================] - 32s 340ms/step - loss: 0.0886 - accuracy: 0.9693\n"
     ]
    }
   ],
   "source": [
    "model4 = model4_creation()\n",
    "history = model4.fit(train_data_128, train_labels_128, batch_size=64, epochs=15)"
   ]
  },
  {
   "cell_type": "code",
   "execution_count": 42,
   "id": "9a3c7f4c",
   "metadata": {
    "scrolled": true
   },
   "outputs": [
    {
     "name": "stdout",
     "output_type": "stream",
     "text": [
      "                   precision    recall  f1-score   support\n",
      "\n",
      "    fully_covered       0.90      0.95      0.92       145\n",
      "      not_covered       0.96      0.97      0.96       367\n",
      "         not_face       0.94      0.82      0.88       112\n",
      "partially_covered       0.97      0.95      0.96        39\n",
      "\n",
      "         accuracy                           0.94       663\n",
      "        macro avg       0.94      0.92      0.93       663\n",
      "     weighted avg       0.94      0.94      0.94       663\n",
      "\n"
     ]
    }
   ],
   "source": [
    "eval_model_128(model4, test_data_128, test_labels_128)"
   ]
  },
  {
   "cell_type": "markdown",
   "id": "2111c330",
   "metadata": {},
   "source": [
    "# 5. Testing the best model with photos of the group elements"
   ]
  },
  {
   "cell_type": "code",
   "execution_count": 43,
   "id": "6f755722",
   "metadata": {},
   "outputs": [
    {
     "data": {
      "text/plain": [
       "'C:\\\\Users\\\\anton\\\\Desktop\\\\ProjetoDeepLearningFinalFinal\\\\Group_Test_Images'"
      ]
     },
     "execution_count": 43,
     "metadata": {},
     "output_type": "execute_result"
    }
   ],
   "source": [
    "final_test_directory = os.path.join(directory,'Group_Test_Images')\n",
    "final_test_directory"
   ]
  },
  {
   "cell_type": "code",
   "execution_count": 46,
   "id": "f68634f5",
   "metadata": {},
   "outputs": [],
   "source": [
    "def model_evaluation_final(model, directory_evaluation=[]):\n",
    "    for i in range(len(directory_evaluation)):\n",
    "        generator = test_datagen.flow_from_directory(\n",
    "            directory_evaluation[i],\n",
    "            target_size = (64,64),\n",
    "            batch_size = 1,\n",
    "            class_mode = 'categorical',\n",
    "            shuffle = False\n",
    "        )\n",
    "        epoch_steps = math.ceil(generator.samples/generator.batch_size)\n",
    "        \n",
    "        # Fit the model to the data using the created generator\n",
    "        Y_pred = model.predict_generator(generator, steps=epoch_steps)\n",
    "        # Get the most probable class from the prediction\n",
    "        Y_class = np.argmax(Y_pred, axis = 1)\n",
    "        \n",
    "        real_classes = generator.classes\n",
    "        labels_classes = list(generator.class_indices.keys())\n",
    "                \n",
    "        # Printing the classification report for the model that was inputed into the function\n",
    "        report_model = classification_report(real_classes, Y_class, target_names = labels_classes)\n",
    "        print(real_classes)\n",
    "        print(Y_class)\n",
    "        print(report_model)"
   ]
  },
  {
   "cell_type": "code",
   "execution_count": 44,
   "id": "da986eac",
   "metadata": {},
   "outputs": [],
   "source": [
    "# Model 1 - The best model is the one trained with images with image size = 64x64px and the chosen batch_size is 20.\n",
    "model1 = load_model(\"saved_models/model1.h5\")"
   ]
  },
  {
   "cell_type": "code",
   "execution_count": 48,
   "id": "b9ff4bf0",
   "metadata": {},
   "outputs": [],
   "source": [
    "model3 = load_model(\"saved_models/model3.h5\")"
   ]
  },
  {
   "cell_type": "code",
   "execution_count": 47,
   "id": "257a7e0d",
   "metadata": {},
   "outputs": [
    {
     "name": "stdout",
     "output_type": "stream",
     "text": [
      "Found 15 images belonging to 4 classes.\n"
     ]
    },
    {
     "name": "stderr",
     "output_type": "stream",
     "text": [
      "<ipython-input-46-2e5056189513>:13: UserWarning: `Model.predict_generator` is deprecated and will be removed in a future version. Please use `Model.predict`, which supports generators.\n",
      "  Y_pred = model.predict_generator(generator, steps=epoch_steps)\n"
     ]
    },
    {
     "name": "stdout",
     "output_type": "stream",
     "text": [
      "[0 0 0 0 0 1 1 1 2 2 2 3 3 3 3]\n",
      "[2 0 0 0 0 0 1 0 2 2 1 0 3 1 2]\n",
      "                   precision    recall  f1-score   support\n",
      "\n",
      "    fully_covered       0.57      0.80      0.67         5\n",
      "      not_covered       0.33      0.33      0.33         3\n",
      "         not_face       0.50      0.67      0.57         3\n",
      "partially_covered       1.00      0.25      0.40         4\n",
      "\n",
      "         accuracy                           0.53        15\n",
      "        macro avg       0.60      0.51      0.49        15\n",
      "     weighted avg       0.62      0.53      0.51        15\n",
      "\n"
     ]
    }
   ],
   "source": [
    "model_evaluation_final(model1, [final_test_directory])"
   ]
  },
  {
   "cell_type": "code",
   "execution_count": 49,
   "id": "13c5a409",
   "metadata": {},
   "outputs": [
    {
     "name": "stdout",
     "output_type": "stream",
     "text": [
      "Found 15 images belonging to 4 classes.\n"
     ]
    },
    {
     "name": "stderr",
     "output_type": "stream",
     "text": [
      "<ipython-input-46-2e5056189513>:13: UserWarning: `Model.predict_generator` is deprecated and will be removed in a future version. Please use `Model.predict`, which supports generators.\n",
      "  Y_pred = model.predict_generator(generator, steps=epoch_steps)\n"
     ]
    },
    {
     "name": "stdout",
     "output_type": "stream",
     "text": [
      "[0 0 0 0 0 1 1 1 2 2 2 3 3 3 3]\n",
      "[0 2 2 0 0 1 1 0 2 2 1 0 3 1 3]\n",
      "                   precision    recall  f1-score   support\n",
      "\n",
      "    fully_covered       0.60      0.60      0.60         5\n",
      "      not_covered       0.50      0.67      0.57         3\n",
      "         not_face       0.50      0.67      0.57         3\n",
      "partially_covered       1.00      0.50      0.67         4\n",
      "\n",
      "         accuracy                           0.60        15\n",
      "        macro avg       0.65      0.61      0.60        15\n",
      "     weighted avg       0.67      0.60      0.61        15\n",
      "\n"
     ]
    }
   ],
   "source": [
    "model_evaluation_final(model3, [final_test_directory])"
   ]
  }
 ],
 "metadata": {
  "kernelspec": {
   "display_name": "Python 3",
   "language": "python",
   "name": "python3"
  },
  "language_info": {
   "codemirror_mode": {
    "name": "ipython",
    "version": 3
   },
   "file_extension": ".py",
   "mimetype": "text/x-python",
   "name": "python",
   "nbconvert_exporter": "python",
   "pygments_lexer": "ipython3",
   "version": "3.8.8"
  }
 },
 "nbformat": 4,
 "nbformat_minor": 5
}
